{
  "nbformat": 4,
  "nbformat_minor": 0,
  "metadata": {
    "colab": {
      "name": "전이학습 실습.ipynb",
      "provenance": [],
      "toc_visible": true,
      "mount_file_id": "1KetZWfTgUsgMcDbcikLNX_oG7kl645sz",
      "authorship_tag": "ABX9TyMUxc9qseFpxOh+719FwnSb",
      "include_colab_link": true
    },
    "kernelspec": {
      "name": "python3",
      "display_name": "Python 3"
    },
    "language_info": {
      "name": "python"
    },
    "accelerator": "GPU"
  },
  "cells": [
    {
      "cell_type": "markdown",
      "metadata": {
        "id": "view-in-github",
        "colab_type": "text"
      },
      "source": [
        "<a href=\"https://colab.research.google.com/github/crimama/Bigdata_course/blob/Bigdata_course/%EC%A0%84%EC%9D%B4%ED%95%99%EC%8A%B5_%EC%8B%A4%EC%8A%B5.ipynb\" target=\"_parent\"><img src=\"https://colab.research.google.com/assets/colab-badge.svg\" alt=\"Open In Colab\"/></a>"
      ]
    },
    {
      "cell_type": "markdown",
      "source": [
        "# CNN을 이용한 흑백 mnist 분류 문제 "
      ],
      "metadata": {
        "id": "h1DGtDs4frJd"
      }
    },
    {
      "cell_type": "code",
      "execution_count": 2,
      "metadata": {
        "id": "8rubcau9ewyi"
      },
      "outputs": [],
      "source": [
        "import numpy as np\n",
        "import matplotlib.pyplot as plt\n",
        "\n",
        "import tensorflow as tf\n",
        "from tensorflow import keras\n",
        "from tensorflow.keras import optimizers\n",
        "from tensorflow.keras.layers import Dense, Flatten, Input\n",
        "\n",
        "import time"
      ]
    },
    {
      "cell_type": "markdown",
      "source": [
        "# 데이터 호출 및 데이터 확인 "
      ],
      "metadata": {
        "id": "VTvUNXwCfpun"
      }
    },
    {
      "cell_type": "code",
      "source": [
        "(raw_train_x, raw_train_y), (raw_test_x, raw_test_y) = tf.keras.datasets.mnist.load_data()"
      ],
      "metadata": {
        "colab": {
          "base_uri": "https://localhost:8080/"
        },
        "id": "OlpkzkExfqbZ",
        "outputId": "8bd3b909-aeb9-40a6-b80e-b19d5f95ca9a"
      },
      "execution_count": 3,
      "outputs": [
        {
          "output_type": "stream",
          "name": "stdout",
          "text": [
            "Downloading data from https://storage.googleapis.com/tensorflow/tf-keras-datasets/mnist.npz\n",
            "11493376/11490434 [==============================] - 0s 0us/step\n",
            "11501568/11490434 [==============================] - 0s 0us/step\n"
          ]
        }
      ]
    },
    {
      "cell_type": "code",
      "source": [
        "plt.imshow(raw_train_x[0])"
      ],
      "metadata": {
        "colab": {
          "base_uri": "https://localhost:8080/",
          "height": 282
        },
        "id": "lKTmCV6PfzXO",
        "outputId": "e373eae3-bb8a-4eb0-f76f-572ee8877b0d"
      },
      "execution_count": 6,
      "outputs": [
        {
          "output_type": "execute_result",
          "data": {
            "text/plain": [
              "<matplotlib.image.AxesImage at 0x7f96c931f190>"
            ]
          },
          "metadata": {},
          "execution_count": 6
        },
        {
          "output_type": "display_data",
          "data": {
            "image/png": "[encoded data removed]",
            "text/plain": [
              "<Figure size 432x288 with 1 Axes>"
            ]
          },
          "metadata": {
            "needs_background": "light"
          }
        }
      ]
    },
    {
      "cell_type": "code",
      "source": [
        "train_x.shape"
      ],
      "metadata": {
        "colab": {
          "base_uri": "https://localhost:8080/"
        },
        "id": "8Jlja2kdgqYg",
        "outputId": "4005d386-be06-46b4-9a2c-a273c1ae31aa"
      },
      "execution_count": 14,
      "outputs": [
        {
          "output_type": "execute_result",
          "data": {
            "text/plain": [
              "(60000, 28, 28)"
            ]
          },
          "metadata": {},
          "execution_count": 14
        }
      ]
    },
    {
      "cell_type": "code",
      "source": [
        "set(train_y)"
      ],
      "metadata": {
        "colab": {
          "base_uri": "https://localhost:8080/"
        },
        "id": "7EuszKIEgrFt",
        "outputId": "1269baf0-6ff0-4e25-8a32-69acf1b98394"
      },
      "execution_count": 15,
      "outputs": [
        {
          "output_type": "execute_result",
          "data": {
            "text/plain": [
              "{0, 1, 2, 3, 4, 5, 6, 7, 8, 9}"
            ]
          },
          "metadata": {},
          "execution_count": 15
        }
      ]
    },
    {
      "cell_type": "code",
      "source": [
        "train_x = raw_train_x/255\n",
        "train_y = raw_train_y\n",
        "\n",
        "test_x = raw_test_x/255\n",
        "test_y = raw_test_y "
      ],
      "metadata": {
        "id": "9ZcRFcMwf5BK"
      },
      "execution_count": 11,
      "outputs": []
    },
    {
      "cell_type": "markdown",
      "source": [
        "# 콜백 선언 "
      ],
      "metadata": {
        "id": "cqYO0ZpZg8A2"
      }
    },
    {
      "cell_type": "code",
      "source": [
        "# copy from https://gist.github.com/stared/dfb4dfaf6d9a8501cd1cc8b8cb806d2e\n",
        "# loss 실시간 출력 \n",
        "from IPython.display import clear_output\n",
        "from tensorflow.keras.callbacks import Callback\n",
        "\n",
        "class PlotLosses(Callback):\n",
        "\n",
        "  def on_train_begin(self, logs={}):\n",
        "    self.epochs = []\n",
        "    self.losses = []\n",
        "    self.val_losses = []\n",
        "    self.logs = []\n",
        "    self.fig = plt.figure()\n",
        "\n",
        "\n",
        "  def on_epoch_end(self, epoch, logs={}):\n",
        "\n",
        "    self.epochs.append(epoch)\n",
        "    self.losses.append(logs.get('loss'))\n",
        "    self.val_losses.append(logs.get('val_loss'))\n",
        "\n",
        "    clear_output(wait=True)\n",
        "    plt.plot(self.epochs, self.losses, label=\"loss\")\n",
        "    plt.plot(self.epochs, self.val_losses, label=\"val_loss\")\n",
        "    plt.legend()\n",
        "    plt.show();\n",
        "    print(\"loss = \", self.losses[-1], \", val_loss = \", self.val_losses[-1])\n",
        "\n",
        "    #call backs 선언\n",
        "plot_losses = PlotLosses()\n",
        "\n",
        "from tensorflow.keras.callbacks import ModelCheckpoint #<- model 저장 객체, best_model.h5라는 모델 이 저장 됨 \n",
        "model_check_point = ModelCheckpoint(\n",
        "    'best_model.h5', \n",
        "    monitor='val_loss', \n",
        "    verbose=1, \n",
        "    save_best_only=True)\n",
        "\n",
        "\n",
        "from tensorflow.keras.callbacks import EarlyStopping\n",
        "early_stopping = EarlyStopping(\n",
        "    monitor='val_loss',  # 모니터링 대상, 이걸 기준으로 멈춤 \n",
        "    verbose=1,\n",
        "    patience=50)         # 중지까지의 여유분\n",
        "\n",
        "from tensorflow.keras.callbacks import ReduceLROnPlateau\n",
        "reduce_lr = ReduceLROnPlateau(\n",
        "    monitor='val_loss', # 모니터링 대상\n",
        "    patience=25,        # 대상 기간동안 유지\n",
        "    factor=0.2,         # 줄이는 양                              \n",
        "    min_learning_rate=0.00001)     # 최소 학습율\n",
        "\n",
        "\n",
        "#아래 이것만 설정 해주면 됨, [] 안에 사용할 것만 넣어서 쓰면 됨 \n",
        "callbacks = [model_check_point, plot_losses, early_stopping, reduce_lr]"
      ],
      "metadata": {
        "id": "UAlXCUXTg8vG"
      },
      "execution_count": 16,
      "outputs": []
    },
    {
      "cell_type": "markdown",
      "source": [
        "# 모델링 "
      ],
      "metadata": {
        "id": "HoIjDPXRg9TJ"
      }
    },
    {
      "cell_type": "code",
      "source": [
        "import numpy as np\n",
        "import matplotlib.pyplot as plt\n",
        "\n",
        "import tensorflow as tf\n",
        "from tensorflow import keras\n",
        "from tensorflow.keras import optimizers\n",
        "from tensorflow.keras.layers import Dense, Flatten, Conv2D, MaxPooling2D, BatchNormalization, Input, Reshape\n",
        "\n",
        "import time\n",
        "\n",
        "model = keras.Sequential()\n",
        "model.add(Input((28,28)))\n",
        "model.add(Reshape((28,28,1)))\n",
        "model.add(Conv2D(32, (3, 3), padding='same'))\n",
        "model.add(MaxPooling2D((2, 2)))\n",
        "model.add(Conv2D(64, (3, 3), padding='same'))\n",
        "model.add(MaxPooling2D((2, 2)))\n",
        "model.add(Flatten())\n",
        "model.add(Dense(10, activation='relu'))\n",
        "model.add(Dense(10, activation='relu'))\n",
        "model.add(Dense(10, activation='softmax'))\n",
        "\n",
        "model.compile(optimizer=\"adam\", loss=\"sparse_categorical_crossentropy\", metrics=[\"accuracy\"])\n",
        "model.summary()\n",
        "\n",
        "model.fit(train_x,train_y, batch_size = 128, epochs = 100, callbacks = callbacks, verbose = 1 ,validation_split = 0.2)\n",
        "\n",
        "\n",
        "loss, acc = model.evaluate(test_x, test_y)\n",
        "print(\"loss=\",loss)\n",
        "print(\"acc=\",acc)\n",
        "\n",
        "y_ = model.predict(test_x)\n",
        "predicted = np.argmax(y_, axis=1)\n",
        "\n",
        "print(predicted)"
      ],
      "metadata": {
        "colab": {
          "base_uri": "https://localhost:8080/",
          "height": 405
        },
        "id": "wPNEAB4QgN6B",
        "outputId": "613740fb-5933-4b47-83e1-81430d8df043"
      },
      "execution_count": 17,
      "outputs": [
        {
          "output_type": "display_data",
          "data": {
            "image/png": "[encoded data removed]",
            "text/plain": [
              "<Figure size 432x288 with 1 Axes>"
            ]
          },
          "metadata": {
            "needs_background": "light"
          }
        },
        {
          "output_type": "stream",
          "name": "stdout",
          "text": [
            "loss =  0.0013679692056030035 , val_loss =  None\n",
            "WARNING:tensorflow:Early stopping conditioned on metric `val_loss` which is not available. Available metrics are: loss,accuracy\n",
            "WARNING:tensorflow:Learning rate reduction is conditioned on metric `val_loss` which is not available. Available metrics are: loss,accuracy,lr\n",
            "469/469 [==============================] - 3s 6ms/step - loss: 0.0014 - accuracy: 0.9997 - lr: 0.0010\n",
            "313/313 [==============================] - 1s 3ms/step - loss: 0.1519 - accuracy: 0.9823\n",
            "loss= 0.15187299251556396\n",
            "acc= 0.9822999835014343\n",
            "[7 2 1 ... 4 5 6]\n"
          ]
        }
      ]
    },
    {
      "cell_type": "markdown",
      "source": [
        "# CNN 실습- 강아지 고양이 분류 "
      ],
      "metadata": {
        "id": "07rgQMUAh29Z"
      }
    },
    {
      "cell_type": "markdown",
      "source": [
        "## 데이터 호출  - 모듈을 사용 해서 호출 "
      ],
      "metadata": {
        "id": "p1CME1G_h7gT"
      }
    },
    {
      "cell_type": "code",
      "source": [
        "import os\n",
        "import random\n",
        "import numpy as np\n",
        "import matplotlib.pyplot as plt\n",
        "from tensorflow.keras.preprocessing.image import load_img\n",
        "from tensorflow.keras.preprocessing.image import img_to_array\n",
        "from tensorflow.keras.applications import vgg16\n",
        "\n",
        "def load_file_names_and_category_names(path):\n",
        "  \n",
        "  file_names = []\n",
        "  category_names = []\n",
        "\n",
        "  dir_names = os.listdir(path)\n",
        "      \n",
        "  for dir_name in dir_names:\n",
        "    file_names_in_a_dir = os.listdir(path+\"/\"+dir_name)\n",
        "\n",
        "    for a_file_name in file_names_in_a_dir:\n",
        "      full_file_name = path+\"/\"+dir_name+\"/\"+a_file_name\n",
        "      file_names.append(full_file_name)\n",
        "      category_names.append(dir_name)\n",
        "\n",
        "  combined = list(zip(file_names, category_names))\n",
        "  random.shuffle(combined)\n",
        "  file_names, category_names = zip(*combined)\n",
        "\n",
        "  return file_names, category_names\n",
        "\n",
        "\n",
        "def load_image_files_into_numpy_array(file_names):\n",
        "  file_count = len(file_names)    \n",
        "  data = np.ndarray(shape=(file_count,224,224,3), dtype=np.float64)    \n",
        "  for i in range(len(file_names)):\n",
        "    image = load_img(file_names[i], target_size=(224, 224))\n",
        "    image = img_to_array(image)\n",
        "    data[i] = image\n",
        "  return data\n",
        "\n",
        "\n",
        "def load_custom_data(path, train_ratio=0.8):\n",
        "  \n",
        "  file_names, category_names = load_file_names_and_category_names(path)\n",
        "  x = load_image_files_into_numpy_array(file_names)\n",
        "  \n",
        "  labels, y = np.unique(category_names, return_inverse=True)  \n",
        "\n",
        "  s = int(x.shape[0]*train_ratio)\n",
        "  train_x, test_x = x[:s], x[s:]\n",
        "  train_y, test_y = y[:s], y[s:]\n",
        "  \n",
        "  return (train_x, train_y), (test_x, test_y), labels\n",
        "\n"
      ],
      "metadata": {
        "id": "KQoJRamtiw7N"
      },
      "execution_count": 88,
      "outputs": []
    },
    {
      "cell_type": "code",
      "source": [
        "(train_x, train_y), (test_x, test_y), custom_labels = load_custom_data(\"/content/drive/MyDrive/데이터 보관/강아지고양이/cat_and_dog/train\") #<-------- 폴더 - 클래스 - 파일 \n",
        "train_x = vgg16.preprocess_input(train_x)\n",
        "test_x = vgg16.preprocess_input(test_x)\n",
        "\n",
        "# 여기의 cat dog 파일은 train, test가 나눠 져 있으므로 train만을 이용해 train, test 를 나누면 아래와는 다른 결과가 나옴 "
      ],
      "metadata": {
        "id": "F2DB1zfwi06j"
      },
      "execution_count": 89,
      "outputs": []
    },
    {
      "cell_type": "code",
      "source": [
        "import os\n",
        "\n",
        "import matplotlib.pyplot as plt\n",
        "import numpy as np\n",
        "\n",
        "from tensorflow.keras import optimizers\n",
        "from tensorflow.keras import models\n",
        "from tensorflow.keras import layers\n",
        "from tensorflow.keras import optimizers\n",
        "from tensorflow.keras import Sequential\n",
        "from tensorflow.keras.layers import Dropout, Flatten, Dense\n",
        "from tensorflow.keras import Model\n",
        "from tensorflow.keras.preprocessing.image import ImageDataGenerator\n",
        "from tensorflow.keras.preprocessing.image import load_img\n",
        "from tensorflow.keras.preprocessing.image import img_to_array\n",
        "\n",
        "from tensorflow.keras.applications import vgg16\n",
        "from tensorflow.keras.applications import VGG16\n",
        "\n",
        "conv_layers = VGG16(weights='imagenet', include_top=False, input_shape=(224, 224, 3))\n",
        "conv_layers.trainable = False\n",
        "\n",
        "model = models.Sequential()\n",
        "\n",
        "model.add(conv_layers)\n",
        "model.add(Flatten())\n",
        "model.add(Dense(1024, activation='relu'))\n",
        "model.add(Dropout(0.5))\n",
        "model.add(Dense(10, activation='softmax'))\n",
        "\n",
        "model.compile(loss='sparse_categorical_crossentropy', optimizer=\"RMSprop\", metrics=['acc'])\n",
        "\n",
        "\n",
        "(train_x, train_y), (test_x, test_y), custom_labels = load_custom_data(\"/content/drive/MyDrive/데이터 보관/강아지고양이/cat_and_dog/train\") #<-------- path만 바꿔 주면 됨 : 폴더 - 클래스 - 파일 \n",
        "train_x = vgg16.preprocess_input(train_x)\n",
        "test_x = vgg16.preprocess_input(test_x)\n",
        "\n",
        "\n",
        "model.fit(train_x, train_y, epochs=10, batch_size=64, shuffle=True,validation_split = 0.1)\n",
        "\n",
        "\n",
        "loss, acc = model.evaluate(test_x, test_y)\n",
        "print(\"loss =\",loss)\n",
        "print(\"acc =\",acc)\n",
        "\n",
        "y_ = model.predict(test_x)\n",
        "predicted = np.argmax(y_, axis=1)\n",
        "print(predicted[0], custom_labels[predicted[0]])\n",
        "\n",
        "\n"
      ],
      "metadata": {
        "colab": {
          "base_uri": "https://localhost:8080/"
        },
        "id": "BaV7GRMjm1xn",
        "outputId": "e36c1a9d-1530-4dbe-98e8-a77fcff3660e"
      },
      "execution_count": 19,
      "outputs": [
        {
          "output_type": "stream",
          "name": "stdout",
          "text": [
            "Epoch 1/10\n",
            "6/6 [==============================] - 8s 1s/step - loss: 281.6847 - acc: 0.6203 - val_loss: 0.7443 - val_acc: 0.9487\n",
            "Epoch 2/10\n",
            "6/6 [==============================] - 1s 147ms/step - loss: 0.8628 - acc: 0.9913 - val_loss: 1.7336 - val_acc: 0.9744\n",
            "Epoch 3/10\n",
            "6/6 [==============================] - 1s 150ms/step - loss: 3.1373 - acc: 0.9623 - val_loss: 0.5984 - val_acc: 0.9744\n",
            "Epoch 4/10\n",
            "6/6 [==============================] - 1s 149ms/step - loss: 0.6248 - acc: 0.9942 - val_loss: 78.0789 - val_acc: 0.7692\n",
            "Epoch 5/10\n",
            "6/6 [==============================] - 1s 153ms/step - loss: 1.3775 - acc: 0.9884 - val_loss: 2.0461 - val_acc: 0.9744\n",
            "Epoch 6/10\n",
            "6/6 [==============================] - 1s 146ms/step - loss: 0.2011 - acc: 0.9971 - val_loss: 8.1339 - val_acc: 0.9487\n",
            "Epoch 7/10\n",
            "6/6 [==============================] - 1s 151ms/step - loss: 1.9247 - acc: 0.9855 - val_loss: 0.3073 - val_acc: 0.9744\n",
            "Epoch 8/10\n",
            "6/6 [==============================] - 1s 157ms/step - loss: 0.0000e+00 - acc: 1.0000 - val_loss: 0.3073 - val_acc: 0.9744\n",
            "Epoch 9/10\n",
            "6/6 [==============================] - 1s 144ms/step - loss: 0.2419 - acc: 0.9942 - val_loss: 2.2232 - val_acc: 0.9744\n",
            "Epoch 10/10\n",
            "6/6 [==============================] - 1s 145ms/step - loss: 0.6278 - acc: 0.9942 - val_loss: 8.9203e-05 - val_acc: 1.0000\n",
            "3/3 [==============================] - 1s 76ms/step - loss: 13.0253 - acc: 0.9271\n",
            "loss = 13.02527141571045\n",
            "acc = 0.9270833134651184\n",
            "0 Cat\n"
          ]
        }
      ]
    },
    {
      "cell_type": "markdown",
      "source": [
        "## 데이터 호출 - 디렉토리 사용 "
      ],
      "metadata": {
        "id": "Ns5UTFBkh9ca"
      }
    },
    {
      "cell_type": "code",
      "source": [
        "import os\n",
        "\n",
        "import matplotlib.pyplot as plt\n",
        "import numpy as np\n",
        "\n",
        "from tensorflow.keras import optimizers\n",
        "from tensorflow.keras import models\n",
        "from tensorflow.keras import layers\n",
        "from tensorflow.keras import optimizers\n",
        "from tensorflow.keras import Sequential\n",
        "from tensorflow.keras.layers import Dropout, Flatten, Dense\n",
        "from tensorflow.keras import Model\n",
        "from tensorflow.keras.preprocessing.image import ImageDataGenerator\n",
        "from tensorflow.keras.preprocessing.image import load_img\n",
        "from tensorflow.keras.preprocessing.image import img_to_array\n",
        "\n",
        "from tensorflow.keras.applications import vgg16\n",
        "from tensorflow.keras.applications import VGG16\n",
        "\n",
        "\n",
        "conv_layers = VGG16(weights='imagenet', include_top=False, input_shape=(224, 224, 3))\n",
        "conv_layers.trainable = False\n",
        "\n",
        "model = models.Sequential()\n",
        "\n",
        "model.add(conv_layers)\n",
        "model.add(Flatten())\n",
        "model.add(Dense(1024, activation='relu'))\n",
        "model.add(Dropout(0.5))\n",
        "model.add(Dense(2, activation='softmax'))\n",
        "\n",
        "model.compile(loss='sparse_categorical_crossentropy', optimizer=\"RMSprop\", metrics=['acc'])\n",
        "\n",
        "\n",
        "# (train_x, train_y), (test_x, test_y), custom_labels = load_custom_data(\"dogs\")\n",
        "\n",
        "# train_x = vgg16.preprocess_input(train_x)\n",
        "# test_x = vgg16.preprocess_input(test_x)\n",
        "\n",
        "\n",
        "# ADD START\n",
        "train_data_generator = ImageDataGenerator(\n",
        "      rotation_range=10,\n",
        "      width_shift_range=0.1,\n",
        "      height_shift_range=0.1,\n",
        "      horizontal_flip=True,\n",
        "      vertical_flip=False,\n",
        "      preprocessing_function=vgg16.preprocess_input\n",
        ").flow_from_directory( #<------------ 이미지 데이터 제너레이터에 이 부분이 추가 됨 \n",
        "      \"/content/drive/MyDrive/데이터 보관/강아지고양이/cat_and_dog/train\", #<------- 디렉토리를 넣으면 됨 , 디렉토리 구조 : train 폴더 - class 폴더 - 이미지 \n",
        "      target_size=(224,224),\n",
        "      batch_size=64,\n",
        "      class_mode='sparse'\n",
        ")\n",
        "\n",
        "test_data_generator = ImageDataGenerator(\n",
        "      preprocessing_function=vgg16.preprocess_input\n",
        ").flow_from_directory(\n",
        "      \"/content/drive/MyDrive/데이터 보관/강아지고양이/cat_and_dog/test\",\n",
        "      target_size=(224,224),\n",
        "      batch_size=64,      \n",
        "      class_mode='sparse'\n",
        ")\n",
        "\n",
        "\n",
        "# ADD END\n",
        " \n",
        "\n",
        "#model.fit(train_x, train_y, epochs=10, batch_size=64, shuffle=True)\n",
        "model.fit(\n",
        "      train_data_generator,\n",
        "      validation_data=test_data_generator,\n",
        "      epochs=10\n",
        ")\n",
        "\n",
        "# loss, acc = model.evaluate(test_x, test_y)\n",
        "loss, acc = model.evaluate(test_data_generator)\n",
        "print(\"loss=\", loss)\n",
        "print(\"acc=\", acc)\n",
        "\n",
        "# y_ = model.predict(test_x)\n",
        "y_ = model.predict(test_data_generator)\n",
        "\n",
        "custom_labels = list(test_data_generator.class_indices.keys()) # ADDED\n",
        "predicted = np.argmax(y_, axis=1)\n",
        "print(\"predicted category index =\", predicted[0])\n",
        "print(\"predicted category name =\", custom_labels[predicted[0]])\n"
      ],
      "metadata": {
        "colab": {
          "base_uri": "https://localhost:8080/"
        },
        "id": "tYsDabUWme2i",
        "outputId": "50a2fa20-29ee-4c35-e7f6-c797bfac54e2"
      },
      "execution_count": 17,
      "outputs": [
        {
          "output_type": "stream",
          "name": "stdout",
          "text": [
            "Downloading data from https://storage.googleapis.com/tensorflow/keras-applications/vgg16/vgg16_weights_tf_dim_ordering_tf_kernels_notop.h5\n",
            "58892288/58889256 [==============================] - 0s 0us/step\n",
            "58900480/58889256 [==============================] - 0s 0us/step\n",
            "Found 480 images belonging to 2 classes.\n",
            "Found 122 images belonging to 2 classes.\n",
            "Epoch 1/10\n",
            "8/8 [==============================] - 84s 10s/step - loss: 240.6165 - acc: 0.6938 - val_loss: 4.3507 - val_acc: 0.9754\n",
            "Epoch 2/10\n",
            "8/8 [==============================] - 7s 902ms/step - loss: 3.0879 - acc: 0.9729 - val_loss: 6.9227 - val_acc: 0.9426\n",
            "Epoch 3/10\n",
            "8/8 [==============================] - 7s 900ms/step - loss: 2.1402 - acc: 0.9667 - val_loss: 3.1742 - val_acc: 0.9672\n",
            "Epoch 4/10\n",
            "8/8 [==============================] - 7s 970ms/step - loss: 0.7726 - acc: 0.9812 - val_loss: 5.3764 - val_acc: 0.9426\n",
            "Epoch 5/10\n",
            "8/8 [==============================] - 7s 899ms/step - loss: 0.9702 - acc: 0.9854 - val_loss: 2.8263 - val_acc: 0.9672\n",
            "Epoch 6/10\n",
            "8/8 [==============================] - 7s 906ms/step - loss: 0.4287 - acc: 0.9833 - val_loss: 3.2705 - val_acc: 0.9590\n",
            "Epoch 7/10\n",
            "8/8 [==============================] - 7s 903ms/step - loss: 2.1065 - acc: 0.9667 - val_loss: 4.5547 - val_acc: 0.9836\n",
            "Epoch 8/10\n",
            "8/8 [==============================] - 7s 911ms/step - loss: 1.1834 - acc: 0.9854 - val_loss: 9.7691 - val_acc: 0.9426\n",
            "Epoch 9/10\n",
            "8/8 [==============================] - 7s 978ms/step - loss: 0.9018 - acc: 0.9812 - val_loss: 2.5573 - val_acc: 0.9590\n",
            "Epoch 10/10\n",
            "8/8 [==============================] - 7s 910ms/step - loss: 8.8494 - acc: 0.9292 - val_loss: 13.9543 - val_acc: 0.9098\n",
            "2/2 [==============================] - 1s 274ms/step - loss: 13.9543 - acc: 0.9098\n",
            "loss= 13.954291343688965\n",
            "acc= 0.9098360538482666\n",
            "predicted category index = 0\n",
            "predicted category name = Cat\n"
          ]
        }
      ]
    },
    {
      "cell_type": "markdown",
      "source": [
        "## 데이터 호출 - cv2 를 활용 "
      ],
      "metadata": {
        "id": "RYVfiNCaiNvW"
      }
    },
    {
      "cell_type": "code",
      "source": [
        "# 파일리스트\n",
        "import glob\n",
        "cat_path = \"/content/drive/MyDrive/데이터 보관/강아지고양이/cat_and_dog/train/Cat/*.jpg\"\n",
        "cat_file_list = glob.glob(cat_path)"
      ],
      "metadata": {
        "id": "peYR0twxn-Lz"
      },
      "execution_count": 30,
      "outputs": []
    },
    {
      "cell_type": "code",
      "source": [
        "#train_cat 파일 리스트 \n",
        "import glob \n",
        "cat_train_path = \"/content/drive/MyDrive/데이터 보관/강아지고양이/cat_and_dog/train/Cat/*.jpg\"\n",
        "cat_test_path = '\"/content/drive/MyDrive/데이터 보관/강아지고양이/cat_and_dog/test/Cat/*.jpg\"'\n",
        "dog_train_path = \"/content/drive/MyDrive/데이터 보관/강아지고양이/cat_and_dog/train/Dog/*.jpg\"\n",
        "dog_test_path = \"/content/drive/MyDrive/데이터 보관/강아지고양이/cat_and_dog/test/Dog/*.jpg\""
      ],
      "metadata": {
        "id": "5Qwqz5hEomgh"
      },
      "execution_count": 35,
      "outputs": []
    },
    {
      "cell_type": "code",
      "source": [
        "#파일 리스트에서 데이터 호출하는 사용자 정의 함수 \n",
        "\n",
        "def file_list_get(path):\n",
        "  file_list = glob.glob(path)\n",
        "  return file_list\n",
        "\n",
        "def image_get(file_list):\n",
        "  import cv2 \n",
        "  image_list = []\n",
        "  for i in range(len(file_list)):\n",
        "    image = cv2.imread(file_list[i])\n",
        "    image_list.append(image)\n",
        "  return image_list\n",
        "\n",
        "def resize_cvt(image_list):\n",
        "  bf_image = image_list\n",
        "  changed_image_list = []\n",
        "  for i in range(len(bf_image)):\n",
        "    changed_image = cv2.cvtColor(bf_image[i],cv2.COLOR_BGR2RGB)\n",
        "    changed_image = cv2.resize(changed_image, dsize=(224,224))\n",
        "    changed_image_list.append(changed_image)\n",
        "  return changed_image_list\n",
        "\n",
        "def get_resized_image(path):\n",
        "  file_list = file_list_get(path)\n",
        "  image = image_get(file_list)\n",
        "  resized_image = resize_cvt(image)\n",
        "  return resized_image\n"
      ],
      "metadata": {
        "id": "2vmPm1RGozjI"
      },
      "execution_count": 108,
      "outputs": []
    },
    {
      "cell_type": "code",
      "source": [
        "# 데이터 생성 \n",
        "cat_train = get_resized_image(cat_train_path)\n",
        "dog_train = get_resized_image(dog_train_path)\n",
        "cat_test = get_resized_image(cat_test_path)\n",
        "dog_test = get_resized_image(dog_test_path)"
      ],
      "metadata": {
        "id": "2-kjl1sUpOte"
      },
      "execution_count": 112,
      "outputs": []
    },
    {
      "cell_type": "code",
      "source": [
        "#train 용 데이터 생성 \n",
        "raw_y =[0]*240 + [1]*240\n",
        "raw_y = np.array(raw_y).reshape(-1,1)\n",
        "raw_x = cat_train + dog_train\n",
        "raw_x = np.array(raw_x)"
      ],
      "metadata": {
        "id": "nI6l2uR2uzSX"
      },
      "execution_count": 136,
      "outputs": []
    },
    {
      "cell_type": "code",
      "source": [
        ""
      ],
      "metadata": {
        "id": "4hkKbXxdu6_3"
      },
      "execution_count": 128,
      "outputs": []
    },
    {
      "cell_type": "code",
      "source": [
        "from sklearn.model_selection import train_test_split\n",
        "\n",
        "train_x, test_x, train_y,test_y = train_test_split(raw_x, raw_y, shuffle = True, train_size = 0.8)"
      ],
      "metadata": {
        "id": "fHbyiuRkvIkm"
      },
      "execution_count": 138,
      "outputs": []
    },
    {
      "cell_type": "code",
      "source": [
        "import os\n",
        "\n",
        "import matplotlib.pyplot as plt\n",
        "import numpy as np\n",
        "\n",
        "from tensorflow.keras import optimizers\n",
        "from tensorflow.keras import models\n",
        "from tensorflow.keras import layers\n",
        "from tensorflow.keras import optimizers\n",
        "from tensorflow.keras import Sequential\n",
        "from tensorflow.keras.layers import Dropout, Flatten, Dense\n",
        "from tensorflow.keras import Model\n",
        "from tensorflow.keras.preprocessing.image import ImageDataGenerator\n",
        "from tensorflow.keras.preprocessing.image import load_img\n",
        "from tensorflow.keras.preprocessing.image import img_to_array\n",
        "\n",
        "from tensorflow.keras.applications import vgg16\n",
        "from tensorflow.keras.applications import VGG16\n",
        "\n",
        "conv_layers = VGG16(weights='imagenet', include_top=False, input_shape=(224, 224, 3))\n",
        "conv_layers.trainable = False\n",
        "\n",
        "model = models.Sequential()\n",
        "\n",
        "model.add(conv_layers)\n",
        "model.add(Flatten())\n",
        "model.add(Dense(1024, activation='relu'))\n",
        "model.add(Dropout(0.5))\n",
        "model.add(Dense(2, activation='softmax'))\n",
        "\n",
        "model.compile(loss='sparse_categorical_crossentropy', optimizer=\"RMSprop\", metrics=['acc'])\n",
        "\n",
        "\n",
        "train_x = vgg16.preprocess_input(train_x)\n",
        "test_x = vgg16.preprocess_input(test_x)\n",
        "\n",
        "\n",
        "model.fit(train_x, train_y, epochs=10, batch_size=64, shuffle=True,validation_split = 0.1)\n",
        "\n",
        "\n",
        "loss, acc = model.evaluate(test_x, test_y)\n",
        "print(\"loss =\",loss)\n",
        "print(\"acc =\",acc)\n",
        "\n",
        "y_ = model.predict(test_x)\n",
        "predicted = np.argmax(y_, axis=1)\n",
        "print(predicted[0], custom_labels[predicted[0]])\n",
        "\n",
        "\n"
      ],
      "metadata": {
        "colab": {
          "base_uri": "https://localhost:8080/"
        },
        "id": "mM7tpQEwvqJC",
        "outputId": "613a36e4-8419-41aa-e56d-d99cd7b019af"
      },
      "execution_count": 140,
      "outputs": [
        {
          "output_type": "stream",
          "name": "stdout",
          "text": [
            "Epoch 1/10\n",
            "6/6 [==============================] - 2s 213ms/step - loss: 346.6988 - acc: 0.6174 - val_loss: 12.1063 - val_acc: 0.8974\n",
            "Epoch 2/10\n",
            "6/6 [==============================] - 1s 140ms/step - loss: 4.2665 - acc: 0.9478 - val_loss: 0.2247 - val_acc: 0.9744\n",
            "Epoch 3/10\n",
            "6/6 [==============================] - 1s 136ms/step - loss: 0.2327 - acc: 0.9942 - val_loss: 0.1007 - val_acc: 0.9744\n",
            "Epoch 4/10\n",
            "6/6 [==============================] - 1s 137ms/step - loss: 0.0677 - acc: 0.9913 - val_loss: 1.3976 - val_acc: 0.9487\n",
            "Epoch 5/10\n",
            "6/6 [==============================] - 1s 137ms/step - loss: 0.2123 - acc: 0.9855 - val_loss: 1.0867 - val_acc: 0.9744\n",
            "Epoch 6/10\n",
            "6/6 [==============================] - 1s 136ms/step - loss: 0.1510 - acc: 0.9884 - val_loss: 1.1715 - val_acc: 0.9744\n",
            "Epoch 7/10\n",
            "6/6 [==============================] - 1s 137ms/step - loss: 0.3170 - acc: 0.9884 - val_loss: 0.5956 - val_acc: 0.9487\n",
            "Epoch 8/10\n",
            "6/6 [==============================] - 1s 137ms/step - loss: 0.1151 - acc: 0.9942 - val_loss: 3.0773 - val_acc: 0.9231\n",
            "Epoch 9/10\n",
            "6/6 [==============================] - 1s 137ms/step - loss: 0.1867 - acc: 0.9913 - val_loss: 0.0557 - val_acc: 0.9744\n",
            "Epoch 10/10\n",
            "6/6 [==============================] - 1s 135ms/step - loss: 0.0699 - acc: 0.9942 - val_loss: 2.8506 - val_acc: 0.9487\n",
            "3/3 [==============================] - 0s 66ms/step - loss: 1.2438 - acc: 0.9792\n",
            "loss = 1.2438169717788696\n",
            "acc = 0.9791666865348816\n",
            "1 Dog\n"
          ]
        }
      ]
    },
    {
      "cell_type": "code",
      "source": [
        "y_ = model.predict(test_x)\n",
        "predicted = np.argmax(y_,axis=1)"
      ],
      "metadata": {
        "id": "KypS-dX5wDZB"
      },
      "execution_count": 142,
      "outputs": []
    },
    {
      "cell_type": "code",
      "source": [
        "plt.imshow(test_x[0])"
      ],
      "metadata": {
        "colab": {
          "base_uri": "https://localhost:8080/",
          "height": 304
        },
        "id": "uu8Ckif0wWWb",
        "outputId": "4b932eb6-4a43-4019-fccf-75bd239ef921"
      },
      "execution_count": 150,
      "outputs": [
        {
          "output_type": "stream",
          "name": "stderr",
          "text": [
            "Clipping input data to the valid range for imshow with RGB data ([0..1] for floats or [0..255] for integers).\n"
          ]
        },
        {
          "output_type": "execute_result",
          "data": {
            "text/plain": [
              "<matplotlib.image.AxesImage at 0x7fdcfa426690>"
            ]
          },
          "metadata": {},
          "execution_count": 150
        },
        {
          "output_type": "display_data",
          "data": {
            "image/png": "[encoded data removed]",
            "text/plain": [
              "<Figure size 432x288 with 1 Axes>"
            ]
          },
          "metadata": {
            "needs_background": "light"
          }
        }
      ]
    },
    {
      "cell_type": "code",
      "source": [
        "for i in range(len(test_y)):\n",
        "  print(f'predict = {predicted[i]}')\n",
        "  print(f'true = {test_y[i]}')\n",
        "  plt.show()"
      ],
      "metadata": {
        "colab": {
          "base_uri": "https://localhost:8080/"
        },
        "id": "LoopqT48wIpy",
        "outputId": "5d7c603b-88f8-477d-efed-b4d4bcfefd5f"
      },
      "execution_count": 153,
      "outputs": [
        {
          "output_type": "stream",
          "name": "stdout",
          "text": [
            "predict = 1\n",
            "true = [1]\n",
            "predict = 1\n",
            "true = [1]\n",
            "predict = 1\n",
            "true = [1]\n",
            "predict = 1\n",
            "true = [1]\n",
            "predict = 1\n",
            "true = [1]\n",
            "predict = 1\n",
            "true = [1]\n",
            "predict = 1\n",
            "true = [1]\n",
            "predict = 1\n",
            "true = [1]\n",
            "predict = 0\n",
            "true = [0]\n",
            "predict = 0\n",
            "true = [0]\n",
            "predict = 1\n",
            "true = [1]\n",
            "predict = 1\n",
            "true = [1]\n",
            "predict = 1\n",
            "true = [1]\n",
            "predict = 0\n",
            "true = [0]\n",
            "predict = 0\n",
            "true = [0]\n",
            "predict = 0\n",
            "true = [0]\n",
            "predict = 0\n",
            "true = [0]\n",
            "predict = 1\n",
            "true = [1]\n",
            "predict = 0\n",
            "true = [0]\n",
            "predict = 1\n",
            "true = [1]\n",
            "predict = 1\n",
            "true = [1]\n",
            "predict = 1\n",
            "true = [1]\n",
            "predict = 1\n",
            "true = [1]\n",
            "predict = 1\n",
            "true = [1]\n",
            "predict = 1\n",
            "true = [1]\n",
            "predict = 1\n",
            "true = [1]\n",
            "predict = 1\n",
            "true = [1]\n",
            "predict = 1\n",
            "true = [1]\n",
            "predict = 1\n",
            "true = [1]\n",
            "predict = 1\n",
            "true = [1]\n",
            "predict = 0\n",
            "true = [0]\n",
            "predict = 0\n",
            "true = [0]\n",
            "predict = 1\n",
            "true = [1]\n",
            "predict = 0\n",
            "true = [0]\n",
            "predict = 0\n",
            "true = [0]\n",
            "predict = 0\n",
            "true = [0]\n",
            "predict = 0\n",
            "true = [0]\n",
            "predict = 0\n",
            "true = [0]\n",
            "predict = 0\n",
            "true = [0]\n",
            "predict = 1\n",
            "true = [1]\n",
            "predict = 0\n",
            "true = [0]\n",
            "predict = 0\n",
            "true = [0]\n",
            "predict = 0\n",
            "true = [0]\n",
            "predict = 0\n",
            "true = [0]\n",
            "predict = 0\n",
            "true = [0]\n",
            "predict = 0\n",
            "true = [0]\n",
            "predict = 0\n",
            "true = [0]\n",
            "predict = 1\n",
            "true = [1]\n",
            "predict = 1\n",
            "true = [1]\n",
            "predict = 0\n",
            "true = [0]\n",
            "predict = 1\n",
            "true = [1]\n",
            "predict = 0\n",
            "true = [0]\n",
            "predict = 0\n",
            "true = [0]\n",
            "predict = 1\n",
            "true = [1]\n",
            "predict = 0\n",
            "true = [1]\n",
            "predict = 0\n",
            "true = [1]\n",
            "predict = 0\n",
            "true = [0]\n",
            "predict = 0\n",
            "true = [0]\n",
            "predict = 0\n",
            "true = [0]\n",
            "predict = 0\n",
            "true = [0]\n",
            "predict = 1\n",
            "true = [1]\n",
            "predict = 0\n",
            "true = [0]\n",
            "predict = 0\n",
            "true = [0]\n",
            "predict = 1\n",
            "true = [1]\n",
            "predict = 0\n",
            "true = [0]\n",
            "predict = 0\n",
            "true = [0]\n",
            "predict = 0\n",
            "true = [0]\n",
            "predict = 0\n",
            "true = [0]\n",
            "predict = 1\n",
            "true = [1]\n",
            "predict = 1\n",
            "true = [1]\n",
            "predict = 1\n",
            "true = [1]\n",
            "predict = 0\n",
            "true = [0]\n",
            "predict = 0\n",
            "true = [0]\n",
            "predict = 0\n",
            "true = [0]\n",
            "predict = 1\n",
            "true = [1]\n",
            "predict = 1\n",
            "true = [1]\n",
            "predict = 1\n",
            "true = [1]\n",
            "predict = 0\n",
            "true = [0]\n",
            "predict = 0\n",
            "true = [0]\n",
            "predict = 0\n",
            "true = [0]\n",
            "predict = 1\n",
            "true = [1]\n",
            "predict = 0\n",
            "true = [0]\n",
            "predict = 1\n",
            "true = [1]\n",
            "predict = 0\n",
            "true = [0]\n",
            "predict = 0\n",
            "true = [0]\n",
            "predict = 0\n",
            "true = [0]\n",
            "predict = 0\n",
            "true = [0]\n",
            "predict = 0\n",
            "true = [0]\n",
            "predict = 0\n",
            "true = [0]\n",
            "predict = 0\n",
            "true = [0]\n",
            "predict = 1\n",
            "true = [1]\n",
            "predict = 0\n",
            "true = [0]\n",
            "predict = 1\n",
            "true = [1]\n",
            "predict = 1\n",
            "true = [1]\n",
            "predict = 1\n",
            "true = [1]\n",
            "predict = 0\n",
            "true = [0]\n"
          ]
        }
      ]
    }
  ]
}