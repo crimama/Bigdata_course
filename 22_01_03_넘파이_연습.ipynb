{
  "nbformat": 4,
  "nbformat_minor": 0,
  "metadata": {
    "colab": {
      "name": "22.01.03_넘파이 연습.ipynb",
      "provenance": [],
      "toc_visible": true,
      "authorship_tag": "ABX9TyOfEGi9anxO5tkyAPX82F6C",
      "include_colab_link": true
    },
    "kernelspec": {
      "name": "python3",
      "display_name": "Python 3"
    },
    "language_info": {
      "name": "python"
    }
  },
  "cells": [
    {
      "cell_type": "markdown",
      "metadata": {
        "id": "view-in-github",
        "colab_type": "text"
      },
      "source": [
        "<a href=\"https://colab.research.google.com/github/crimama/MDC2021-Bigdata_course/blob/Bigdata_course/22_01_03_%EB%84%98%ED%8C%8C%EC%9D%B4_%EC%97%B0%EC%8A%B5.ipynb\" target=\"_parent\"><img src=\"https://colab.research.google.com/assets/colab-badge.svg\" alt=\"Open In Colab\"/></a>"
      ]
    },
    {
      "cell_type": "code",
      "execution_count": null,
      "metadata": {
        "id": "H30KlC7FRpO6"
      },
      "outputs": [],
      "source": [
        "import numpy as np \n",
        "import pandas as pd \n",
        "import matplotlib.pyplot as plt "
      ]
    },
    {
      "cell_type": "code",
      "source": [
        "import tensorflow as tf"
      ],
      "metadata": {
        "id": "3IwBfsQeSDKn"
      },
      "execution_count": null,
      "outputs": []
    },
    {
      "cell_type": "code",
      "source": [
        "(train_x,train_y), (test_x,test_y) = tf.keras.datasets.mnist.load_data()"
      ],
      "metadata": {
        "colab": {
          "base_uri": "https://localhost:8080/"
        },
        "id": "60F98jeCSV8P",
        "outputId": "e27390f0-9c29-4262-d558-574b8fe61a01"
      },
      "execution_count": null,
      "outputs": [
        {
          "output_type": "stream",
          "name": "stdout",
          "text": [
            "Downloading data from https://storage.googleapis.com/tensorflow/tf-keras-datasets/mnist.npz\n",
            "11493376/11490434 [==============================] - 0s 0us/step\n",
            "11501568/11490434 [==============================] - 0s 0us/step\n"
          ]
        }
      ]
    },
    {
      "cell_type": "code",
      "source": [
        "print(train_x.shape,train_y.shape)"
      ],
      "metadata": {
        "colab": {
          "base_uri": "https://localhost:8080/"
        },
        "id": "cnIRtKGbSenN",
        "outputId": "eba7a7d5-8c3f-4079-a9bd-dbe3785729fd"
      },
      "execution_count": null,
      "outputs": [
        {
          "output_type": "stream",
          "name": "stdout",
          "text": [
            "(60000, 28, 28) (60000,)\n"
          ]
        }
      ]
    },
    {
      "cell_type": "markdown",
      "source": [
        "#To Do \n",
        "\n",
        "1. train_x, test_x 합치기 \n",
        "2. 28x28 을 32x32로 만들기\n",
        "3. 28x28 을 흑백을 28x28x3 컬러로 만들기 \n",
        "4. "
      ],
      "metadata": {
        "id": "UTjUzf9tSuyj"
      }
    },
    {
      "cell_type": "markdown",
      "source": [
        "#1. train_x, test_x 합치기"
      ],
      "metadata": {
        "id": "FxJr8bcFS7kS"
      }
    },
    {
      "cell_type": "code",
      "source": [
        "raw_x = np.vstack((train_x,test_x))"
      ],
      "metadata": {
        "id": "KeMXHIJhS9Ux"
      },
      "execution_count": null,
      "outputs": []
    },
    {
      "cell_type": "code",
      "source": [
        "raw_x.shape"
      ],
      "metadata": {
        "colab": {
          "base_uri": "https://localhost:8080/"
        },
        "id": "6tu360sDTT0_",
        "outputId": "48ee338d-a852-428f-9a4a-408f881f21c0"
      },
      "execution_count": null,
      "outputs": [
        {
          "output_type": "execute_result",
          "data": {
            "text/plain": [
              "(70000, 28, 28)"
            ]
          },
          "metadata": {},
          "execution_count": 13
        }
      ]
    },
    {
      "cell_type": "markdown",
      "source": [
        "#2. 리사이즈"
      ],
      "metadata": {
        "id": "x95uf48pTHR_"
      }
    },
    {
      "cell_type": "code",
      "source": [
        "i=0\n",
        "temp = raw_x[i]"
      ],
      "metadata": {
        "id": "62uu1N7QTIxm"
      },
      "execution_count": null,
      "outputs": []
    },
    {
      "cell_type": "code",
      "source": [
        "temp.shape"
      ],
      "metadata": {
        "colab": {
          "base_uri": "https://localhost:8080/"
        },
        "id": "9TtZwY-CTarj",
        "outputId": "d95f4b3c-e09f-4c30-fd70-fe01f3078095"
      },
      "execution_count": null,
      "outputs": [
        {
          "output_type": "execute_result",
          "data": {
            "text/plain": [
              "(28, 28)"
            ]
          },
          "metadata": {},
          "execution_count": 16
        }
      ]
    },
    {
      "cell_type": "code",
      "source": [
        "temp = cv2.resize(temp, dsize= (32,32))"
      ],
      "metadata": {
        "id": "gnuyESc1TXO9"
      },
      "execution_count": null,
      "outputs": []
    },
    {
      "cell_type": "code",
      "source": [
        "temp.shape"
      ],
      "metadata": {
        "colab": {
          "base_uri": "https://localhost:8080/"
        },
        "id": "KD6iA5DTTeUe",
        "outputId": "edd07459-b124-42a8-84bd-9cf2799f5729"
      },
      "execution_count": null,
      "outputs": [
        {
          "output_type": "execute_result",
          "data": {
            "text/plain": [
              "(32, 32)"
            ]
          },
          "metadata": {},
          "execution_count": 18
        }
      ]
    },
    {
      "cell_type": "code",
      "source": [
        "resize_x = []\n",
        "for i in range(len(raw_x)):\n",
        "  temp = raw_x[i]\n",
        "  temp = cv2.resize(temp, dsize = (32,32))\n",
        "  resize_x.append(temp)\n",
        "resize_x = np.array(resize_x)"
      ],
      "metadata": {
        "id": "-udn0bSQTfOI"
      },
      "execution_count": null,
      "outputs": []
    },
    {
      "cell_type": "code",
      "source": [
        "resize_x.shape"
      ],
      "metadata": {
        "colab": {
          "base_uri": "https://localhost:8080/"
        },
        "id": "sLH-GSgsTwBm",
        "outputId": "5a1c4545-5407-4900-d68d-a452a0f2cb0b"
      },
      "execution_count": null,
      "outputs": [
        {
          "output_type": "execute_result",
          "data": {
            "text/plain": [
              "(70000, 32, 32)"
            ]
          },
          "metadata": {},
          "execution_count": 21
        }
      ]
    },
    {
      "cell_type": "markdown",
      "source": [
        "# 컬러로 바꾸기 "
      ],
      "metadata": {
        "id": "FWXuwGhSTy_b"
      }
    },
    {
      "cell_type": "code",
      "source": [
        "backtorgb = cv2.cvtColor(gray,cv2.COLOR_GRAY2RGB)"
      ],
      "metadata": {
        "id": "MoUnBo2IT0yY"
      },
      "execution_count": null,
      "outputs": []
    },
    {
      "cell_type": "code",
      "source": [
        "i=  0\n",
        "temp = resize_x[i]\n",
        "plt.imshow(temp)"
      ],
      "metadata": {
        "colab": {
          "base_uri": "https://localhost:8080/",
          "height": 283
        },
        "id": "cbI-MJd4UBIp",
        "outputId": "b20b2a7e-34ba-441a-8a21-c794d533d792"
      },
      "execution_count": null,
      "outputs": [
        {
          "output_type": "execute_result",
          "data": {
            "text/plain": [
              "<matplotlib.image.AxesImage at 0x7f5d39a5cc10>"
            ]
          },
          "metadata": {},
          "execution_count": 22
        },
        {
          "output_type": "display_data",
          "data": {
            "image/png": "[encoded data removed]",
            "text/plain": [
              "<Figure size 432x288 with 1 Axes>"
            ]
          },
          "metadata": {
            "needs_background": "light"
          }
        }
      ]
    },
    {
      "cell_type": "code",
      "source": [
        "temp = cv2.cvtColor(temp,cv2.COLOR_GRAY2RGB)"
      ],
      "metadata": {
        "id": "TLVOA8o6UE47"
      },
      "execution_count": null,
      "outputs": []
    },
    {
      "cell_type": "code",
      "source": [
        "plt.imshow(temp)\n",
        "print(temp.shape)"
      ],
      "metadata": {
        "colab": {
          "base_uri": "https://localhost:8080/",
          "height": 283
        },
        "id": "DGCDrFbUUItX",
        "outputId": "81c14876-aa3e-45b5-9267-03a357dfa44f"
      },
      "execution_count": null,
      "outputs": [
        {
          "output_type": "stream",
          "name": "stdout",
          "text": [
            "(32, 32, 3)\n"
          ]
        },
        {
          "output_type": "display_data",
          "data": {
            "image/png": "[encoded data removed]",
            "text/plain": [
              "<Figure size 432x288 with 1 Axes>"
            ]
          },
          "metadata": {
            "needs_background": "light"
          }
        }
      ]
    },
    {
      "cell_type": "code",
      "source": [
        "rgb_x = []\n",
        "for i in range(len(resize_x)):\n",
        "  temp = resize_x[i]\n",
        "  temp = cv2.cvtColor(temp,cv2.COLOR_GRAY2RGB)\n",
        "  rgb_x.append(temp)\n",
        "rgb_x = np.array(rgb_x)"
      ],
      "metadata": {
        "id": "h8yzn0TEUN7K"
      },
      "execution_count": null,
      "outputs": []
    },
    {
      "cell_type": "code",
      "source": [
        "rgb_x.shape"
      ],
      "metadata": {
        "colab": {
          "base_uri": "https://localhost:8080/"
        },
        "id": "fRNclW5CUcJj",
        "outputId": "9d770379-296a-48cf-a3c8-05957699f2a4"
      },
      "execution_count": null,
      "outputs": [
        {
          "output_type": "execute_result",
          "data": {
            "text/plain": [
              "(70000, 32, 32, 3)"
            ]
          },
          "metadata": {},
          "execution_count": 27
        }
      ]
    },
    {
      "cell_type": "code",
      "source": [
        "plt.imshow(rgb_x[0])"
      ],
      "metadata": {
        "colab": {
          "base_uri": "https://localhost:8080/",
          "height": 283
        },
        "id": "nF4GcBHqVGEw",
        "outputId": "02ad8369-3d98-4ef6-91cf-cd958451bbe8"
      },
      "execution_count": null,
      "outputs": [
        {
          "output_type": "execute_result",
          "data": {
            "text/plain": [
              "<matplotlib.image.AxesImage at 0x7f5d392c7fd0>"
            ]
          },
          "metadata": {},
          "execution_count": 29
        },
        {
          "output_type": "display_data",
          "data": {
            "image/png": "[encoded data removed]",
            "text/plain": [
              "<Figure size 432x288 with 1 Axes>"
            ]
          },
          "metadata": {
            "needs_background": "light"
          }
        }
      ]
    }
  ]
}