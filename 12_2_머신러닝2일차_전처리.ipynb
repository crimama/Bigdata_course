{
  "nbformat": 4,
  "nbformat_minor": 0,
  "metadata": {
    "colab": {
      "name": "12.2_머신러닝2일차_전처리.ipynb",
      "provenance": [],
      "toc_visible": true,
      "authorship_tag": "ABX9TyNOaKw9XtlTu5LaTxojiK7q",
      "include_colab_link": true
    },
    "kernelspec": {
      "name": "python3",
      "display_name": "Python 3"
    },
    "language_info": {
      "name": "python"
    }
  },
  "cells": [
    {
      "cell_type": "markdown",
      "metadata": {
        "id": "view-in-github",
        "colab_type": "text"
      },
      "source": [
        "<a href=\"https://colab.research.google.com/github/crimama/Bigdata_course/blob/Bigdata_course/12_2_%EB%A8%B8%EC%8B%A0%EB%9F%AC%EB%8B%9D2%EC%9D%BC%EC%B0%A8_%EC%A0%84%EC%B2%98%EB%A6%AC.ipynb\" target=\"_parent\"><img src=\"https://colab.research.google.com/assets/colab-badge.svg\" alt=\"Open In Colab\"/></a>"
      ]
    },
    {
      "cell_type": "code",
      "metadata": {
        "id": "X1DnekMFlU-D"
      },
      "source": [
        "생선, 오렌지 데이터들을 이용해 적용 해보기 \n",
        "\n",
        "알고리즘 순서 \n",
        "1. 알고리즘 익히기 \n",
        "2. 네개의 전처리 데이터 셋(train, test) #데이터 셋을 어떻게 만드는지, 결측치, 이상치를 어떻게 처리하는 지가 중요 \n",
        "3. fit, score\n",
        "4. predict #예측된 결과들의 성능이 얼마가 나왔는지 중요 "
      ],
      "execution_count": null,
      "outputs": []
    },
    {
      "cell_type": "code",
      "metadata": {
        "id": "XiKbcdzEnANY"
      },
      "source": [
        "데이터를 훈련 데이터와 테스트 데이터로 나눠야 함 \n",
        "- 보통 20 ~30%정도로 테스트 데이터로 사용 \n",
        "- 나머지를 훈련 데이터로 사용 \n",
        "\n",
        "샘플의 편향성 \n",
        "- 훈련 데이터를 단순하게 자르게 되면 값이 한쪽으로 편향될 수 있음 \n",
        "- 편향되지 않게 적절하게 데이터를 자르는 것이 중요 함 \n",
        "- 시계열은 연속적이고 반복되는 패턴이 있기 때문에 큰 문제가 되지 않음 \n",
        "- 하지만 이미지 인식 등의 데이터들은 문제가 된다 \n",
        "\n",
        "테스트 데이터 \n",
        "- 테스트 데이터는 마지막에 하는 것이 모델의 성능을 높이는데 더 도움이 된다 \n",
        "- 중간에 테스트를 할 경우 모델은 테스트 데이터를 학습하게 되어 나중에 성능이 낮어질 수 있다\n",
        "\n",
        "데이터 -> 훈련 데이터(80%), 테스트 데이터(20%), 검증 데이터 \n",
        "\n"
      ],
      "execution_count": null,
      "outputs": []
    },
    {
      "cell_type": "code",
      "metadata": {
        "id": "I8z_i3CnpmAJ"
      },
      "source": [
        "데이터 나누기\n",
        "- train_input, train_target\n",
        "- test_input, train_target"
      ],
      "execution_count": null,
      "outputs": []
    },
    {
      "cell_type": "code",
      "metadata": {
        "id": "u7Hn-7UKzW6j"
      },
      "source": [
        "import numpy as np \n",
        "import pandas as pd "
      ],
      "execution_count": null,
      "outputs": []
    },
    {
      "cell_type": "code",
      "metadata": {
        "id": "-YSwRzwk0Omk"
      },
      "source": [
        "df = pd.read_csv('Fish.csv')\n",
        "df1 = np.array(df)"
      ],
      "execution_count": null,
      "outputs": []
    },
    {
      "cell_type": "code",
      "metadata": {
        "colab": {
          "base_uri": "https://localhost:8080/"
        },
        "id": "d5OIo-v20VjD",
        "outputId": "f6f7dc1a-f10b-4be6-dd50-4880cd971a4f"
      },
      "source": [
        "df[3]\n",
        "df[0:5,]\n",
        "df[11:16,]\n",
        "df[-5:,]"
      ],
      "execution_count": null,
      "outputs": [
        {
          "output_type": "execute_result",
          "data": {
            "text/plain": [
              "array([['Smelt', 12.2, 11.5, 12.2, 13.4, 2.0904, 1.3936],\n",
              "       ['Smelt', 13.4, 11.7, 12.4, 13.5, 2.43, 1.2690000000000001],\n",
              "       ['Smelt', 12.2, 12.1, 13.0, 13.8, 2.2769999999999997, 1.2558],\n",
              "       ['Smelt', 19.7, 13.2, 14.3, 15.2, 2.8728, 2.0672],\n",
              "       ['Smelt', 19.9, 13.8, 15.0, 16.2, 2.9322, 1.8792]], dtype=object)"
            ]
          },
          "metadata": {},
          "execution_count": 18
        }
      ]
    },
    {
      "cell_type": "markdown",
      "metadata": {
        "id": "Wt2XbJp61iqL"
      },
      "source": [
        "# 데이터 전처리 : 학습을 위한 데이터 전처리 \n",
        "- 편향성\n",
        "- 이상치, 결측치\n",
        "- 스케일 "
      ]
    },
    {
      "cell_type": "markdown",
      "metadata": {
        "id": "7fsttBhd1kLs"
      },
      "source": [
        "## 데이터 편형성\n",
        "- 데이터를 다 섞은 뒤 적절히 뽑아야 함 \n",
        "- 이 기능 넘파이가 제공 "
      ]
    },
    {
      "cell_type": "markdown",
      "metadata": {
        "id": "aXoTAtPmUeKM"
      },
      "source": [
        "### 피쉬 데이터로 편형성 조작해서 확인해보기 "
      ]
    },
    {
      "cell_type": "code",
      "metadata": {
        "colab": {
          "base_uri": "https://localhost:8080/",
          "height": 206
        },
        "id": "FpfcVYKb16pi",
        "outputId": "008a6d06-2833-4238-c7f5-5701cdf2e14a"
      },
      "source": [
        "df.head()"
      ],
      "execution_count": null,
      "outputs": [
        {
          "output_type": "execute_result",
          "data": {
            "text/html": [
              "<div>\n",
              "<style scoped>\n",
              "    .dataframe tbody tr th:only-of-type {\n",
              "        vertical-align: middle;\n",
              "    }\n",
              "\n",
              "    .dataframe tbody tr th {\n",
              "        vertical-align: top;\n",
              "    }\n",
              "\n",
              "    .dataframe thead th {\n",
              "        text-align: right;\n",
              "    }\n",
              "</style>\n",
              "<table border=\"1\" class=\"dataframe\">\n",
              "  <thead>\n",
              "    <tr style=\"text-align: right;\">\n",
              "      <th></th>\n",
              "      <th>Species</th>\n",
              "      <th>Weight</th>\n",
              "      <th>Length1</th>\n",
              "      <th>Length2</th>\n",
              "      <th>Length3</th>\n",
              "      <th>Height</th>\n",
              "      <th>Width</th>\n",
              "    </tr>\n",
              "  </thead>\n",
              "  <tbody>\n",
              "    <tr>\n",
              "      <th>0</th>\n",
              "      <td>Bream</td>\n",
              "      <td>242.0</td>\n",
              "      <td>23.2</td>\n",
              "      <td>25.4</td>\n",
              "      <td>30.0</td>\n",
              "      <td>11.5200</td>\n",
              "      <td>4.0200</td>\n",
              "    </tr>\n",
              "    <tr>\n",
              "      <th>1</th>\n",
              "      <td>Bream</td>\n",
              "      <td>290.0</td>\n",
              "      <td>24.0</td>\n",
              "      <td>26.3</td>\n",
              "      <td>31.2</td>\n",
              "      <td>12.4800</td>\n",
              "      <td>4.3056</td>\n",
              "    </tr>\n",
              "    <tr>\n",
              "      <th>2</th>\n",
              "      <td>Bream</td>\n",
              "      <td>340.0</td>\n",
              "      <td>23.9</td>\n",
              "      <td>26.5</td>\n",
              "      <td>31.1</td>\n",
              "      <td>12.3778</td>\n",
              "      <td>4.6961</td>\n",
              "    </tr>\n",
              "    <tr>\n",
              "      <th>3</th>\n",
              "      <td>Bream</td>\n",
              "      <td>363.0</td>\n",
              "      <td>26.3</td>\n",
              "      <td>29.0</td>\n",
              "      <td>33.5</td>\n",
              "      <td>12.7300</td>\n",
              "      <td>4.4555</td>\n",
              "    </tr>\n",
              "    <tr>\n",
              "      <th>4</th>\n",
              "      <td>Bream</td>\n",
              "      <td>430.0</td>\n",
              "      <td>26.5</td>\n",
              "      <td>29.0</td>\n",
              "      <td>34.0</td>\n",
              "      <td>12.4440</td>\n",
              "      <td>5.1340</td>\n",
              "    </tr>\n",
              "  </tbody>\n",
              "</table>\n",
              "</div>"
            ],
            "text/plain": [
              "  Species  Weight  Length1  Length2  Length3   Height   Width\n",
              "0   Bream   242.0     23.2     25.4     30.0  11.5200  4.0200\n",
              "1   Bream   290.0     24.0     26.3     31.2  12.4800  4.3056\n",
              "2   Bream   340.0     23.9     26.5     31.1  12.3778  4.6961\n",
              "3   Bream   363.0     26.3     29.0     33.5  12.7300  4.4555\n",
              "4   Bream   430.0     26.5     29.0     34.0  12.4440  5.1340"
            ]
          },
          "metadata": {},
          "execution_count": 21
        }
      ]
    },
    {
      "cell_type": "code",
      "metadata": {
        "id": "Crp70NVG2EbQ"
      },
      "source": [
        "# 트레이닝 데이터 35개 만들기\n",
        "bream_weight = df.loc[df['Species'] == 'Bream']['Weight']\n",
        "bream_length = df.loc[df['Species'] == 'Bream']['Length1']\n",
        "smelt_weight = df.loc[df['Species'] == 'Smelt']['Weight']\n",
        "smelt_length = df.loc[df['Species'] == 'Smelt']['Length1']"
      ],
      "execution_count": null,
      "outputs": []
    },
    {
      "cell_type": "code",
      "metadata": {
        "id": "WAkUnUcH3lxV"
      },
      "source": [
        "weight = bream_weight + smelt_weight"
      ],
      "execution_count": null,
      "outputs": []
    },
    {
      "cell_type": "code",
      "metadata": {
        "id": "47txCtqx24Qr"
      },
      "source": [
        "fish_data = [[l,w] for l, w in zip(length, weight)]\n",
        "\n",
        "fish_data = np.array(fish_data)"
      ],
      "execution_count": null,
      "outputs": []
    },
    {
      "cell_type": "code",
      "metadata": {
        "id": "axq_QDIy3InK"
      },
      "source": [
        "#훈련 데이터 만들기 35개 \n",
        "train_input = fish_data[:35,]\n",
        "test_input = fish_data[35:,]"
      ],
      "execution_count": null,
      "outputs": []
    },
    {
      "cell_type": "markdown",
      "metadata": {
        "id": "R7y0pPnxU9z7"
      },
      "source": [
        "### 데이터 편향성 해결을 위한 믹싱 (여기부터 메인) \n",
        "- 넘파이 사용 \n",
        "- 인덱스 믹싱을 이용해서 페어 안끊기고 섞기 \n",
        "- 싸이킷런에서 다루는 모든 데이터가 넘파이 형태로 되어 있음 \n",
        "- scipy : 과학과 관련된 함수들이 제공 됨 (선형대수학 for 회귀함수)"
      ]
    },
    {
      "cell_type": "code",
      "metadata": {
        "id": "moCPAR4jVBlN"
      },
      "source": [
        "import numpy as np "
      ],
      "execution_count": null,
      "outputs": []
    },
    {
      "cell_type": "code",
      "metadata": {
        "id": "oXiLB5V5VHf6"
      },
      "source": [
        "#원본에서 필요한 데이터 추출 \n",
        "bream_weight = list(df.loc[df['Species'] == 'Bream']['Weight'])\n",
        "bream_length = list(df.loc[df['Species'] == 'Bream']['Length1'])\n",
        "smelt_weight = list(df.loc[df['Species'] == 'Smelt']['Weight'])\n",
        "smelt_length = list(df.loc[df['Species'] == 'Smelt']['Length1'])"
      ],
      "execution_count": null,
      "outputs": []
    },
    {
      "cell_type": "code",
      "metadata": {
        "id": "upOECziPVWU7"
      },
      "source": [
        "#도미, 빙어 합체 \n",
        "fish_length = bream_length + smelt_length\n",
        "fish_weight = bream_weight + smelt_weight"
      ],
      "execution_count": null,
      "outputs": []
    },
    {
      "cell_type": "code",
      "metadata": {
        "id": "7-xai0ovfOVV"
      },
      "source": [
        "#길이, 무게 합체 \n",
        "input_arr = np.column_stack([fish_length, fish_weight]) #믹싱 하기 전 문제 데이터\n",
        "fish_target = [1]*35 + [0]*14 \n",
        "target_arr = np.array(fish_target)  #믹싱 하기 후 문제 데이터"
      ],
      "execution_count": null,
      "outputs": []
    },
    {
      "cell_type": "code",
      "metadata": {
        "colab": {
          "base_uri": "https://localhost:8080/"
        },
        "id": "g_HXs2hCYS1k",
        "outputId": "83b33c4d-045b-46e8-b173-cba0bfa07586"
      },
      "source": [
        "#랜덤 인덱스 생성 \n",
        "np.random.seed(17)\n",
        "mixing_index = np.arange(49)\n",
        "np.random.shuffle(mixing_index)\n",
        "mixing_index"
      ],
      "execution_count": null,
      "outputs": [
        {
          "output_type": "execute_result",
          "data": {
            "text/plain": [
              "array([44, 16, 21, 42, 19, 26, 41, 23, 48, 29, 38, 18, 35, 36, 11,  8, 28,\n",
              "       12,  2, 40, 43, 24,  0, 30,  5, 13, 14, 37, 25,  9, 32, 33, 27, 46,\n",
              "        3, 34, 10, 17,  1,  7, 20, 39,  4, 31, 45, 22,  6, 15, 47])"
            ]
          },
          "metadata": {},
          "execution_count": 200
        }
      ]
    },
    {
      "cell_type": "code",
      "metadata": {
        "id": "WsZ4aUUlZU7s"
      },
      "source": [
        "#생성한 랜덤 인덱스로 정렬 \n",
        "mixed_input_arr = input_arr[mixing_index]\n",
        "mixed_target_arr = target_arr[mixing_index]"
      ],
      "execution_count": null,
      "outputs": []
    },
    {
      "cell_type": "code",
      "metadata": {
        "colab": {
          "base_uri": "https://localhost:8080/"
        },
        "id": "tN-hjxSioQyJ",
        "outputId": "ab298389-6fd1-4a7b-9ac1-9249f3229484"
      },
      "source": [
        "print(input_arr[44], mixed_input_arr[0])"
      ],
      "execution_count": null,
      "outputs": [
        {
          "output_type": "stream",
          "name": "stdout",
          "text": [
            "[11.5 12.2] [11.5 12.2]\n"
          ]
        }
      ]
    },
    {
      "cell_type": "markdown",
      "metadata": {
        "id": "LNzMrwpyb6D0"
      },
      "source": [
        "### 믹싱한 데이터로 knn.score 확인 "
      ]
    },
    {
      "cell_type": "code",
      "metadata": {
        "id": "mhivc6mhb79u"
      },
      "source": [
        "#훈련 데이터 만들기 35개 \n",
        "mixed_train_input = mixed_input_arr[:35,]\n",
        "mixed_train_target = mixed_target_arr[:35,]\n",
        "mixed_test_input = mixed_input_arr[35:,]\n",
        "mixed_test_target = mixed_target_arr[35:,]"
      ],
      "execution_count": null,
      "outputs": []
    },
    {
      "cell_type": "code",
      "metadata": {
        "colab": {
          "base_uri": "https://localhost:8080/"
        },
        "id": "sGSQxeFIcPru",
        "outputId": "a3b6cbf8-780a-4197-d205-0174912e83cd"
      },
      "source": [
        "from sklearn.neighbors import KNeighborsClassifier\n",
        "\n",
        "kn = KNeighborsClassifier()\n",
        "\n",
        "kn.fit(mixed_train_input,mixed_train_target)\n",
        "\n",
        "kn.score(mixed_train_input,mixed_train_target)"
      ],
      "execution_count": null,
      "outputs": [
        {
          "output_type": "execute_result",
          "data": {
            "text/plain": [
              "1.0"
            ]
          },
          "metadata": {},
          "execution_count": 198
        }
      ]
    },
    {
      "cell_type": "markdown",
      "metadata": {
        "id": "mR_MlWqfc924"
      },
      "source": [
        "#### 테스트 데이터로 테스트 "
      ]
    },
    {
      "cell_type": "code",
      "metadata": {
        "colab": {
          "base_uri": "https://localhost:8080/"
        },
        "id": "o5d0SGxLcw1z",
        "outputId": "7c5b5b6d-71a2-4d43-88f5-852fc5e2130d"
      },
      "source": [
        "kn.score(mixed_test_input,mixed_test_target)"
      ],
      "execution_count": null,
      "outputs": [
        {
          "output_type": "execute_result",
          "data": {
            "text/plain": [
              "1.0"
            ]
          },
          "metadata": {},
          "execution_count": 203
        }
      ]
    },
    {
      "cell_type": "code",
      "metadata": {
        "colab": {
          "base_uri": "https://localhost:8080/"
        },
        "id": "Ea8BcD8RriaI",
        "outputId": "6501a0fb-f57f-4240-b675-4deb3af14804"
      },
      "source": [
        "kn.predict([[21,150]])"
      ],
      "execution_count": null,
      "outputs": [
        {
          "output_type": "execute_result",
          "data": {
            "text/plain": [
              "array([0])"
            ]
          },
          "metadata": {},
          "execution_count": 210
        }
      ]
    },
    {
      "cell_type": "code",
      "metadata": {
        "colab": {
          "base_uri": "https://localhost:8080/",
          "height": 265
        },
        "id": "r_jOtMRTrsEu",
        "outputId": "330e9b7c-5bb0-46f4-822b-072881f200b9"
      },
      "source": [
        "import matplotlib.pyplot as plt \n",
        "\n",
        "plt.scatter(mixed_train_input[:,0],mixed_train_input[:,1])\n",
        "plt.scatter(mixed_test_input[:,0],mixed_test_input[:,1])\n",
        "plt.scatter(20,150,marker = '^')\n",
        "plt.show()"
      ],
      "execution_count": null,
      "outputs": [
        {
          "output_type": "display_data",
          "data": {
            "image/png": "[encoded data removed]",
            "text/plain": [
              "<Figure size 432x288 with 1 Axes>"
            ]
          },
          "metadata": {
            "needs_background": "light"
          }
        }
      ]
    },
    {
      "cell_type": "code",
      "metadata": {
        "colab": {
          "base_uri": "https://localhost:8080/"
        },
        "id": "azGEGffvsH92",
        "outputId": "43ff94f1-73a5-4d84-e726-3f89f4411534"
      },
      "source": [
        "mixed_train_input[:,0]"
      ],
      "execution_count": null,
      "outputs": [
        {
          "output_type": "execute_result",
          "data": {
            "text/plain": [
              "array([11.5, 30.4, 31.4, 11.3, 31. , 32. , 11.3, 31.8, 13.8, 33.5, 10.4,\n",
              "       30.9,  9.3, 10. , 28.7, 27.6, 32.8, 29.1, 23.9, 10.8, 11.4, 31.9,\n",
              "       23.2, 35. , 26.8, 29.5, 29.4, 10.1, 31.8, 28.5, 36.2, 37.4, 32.7,\n",
              "       12.1, 26.3])"
            ]
          },
          "metadata": {},
          "execution_count": 230
        }
      ]
    },
    {
      "cell_type": "markdown",
      "metadata": {
        "id": "W1pBlqUWH--9"
      },
      "source": [
        "### 스케일 "
      ]
    },
    {
      "cell_type": "code",
      "metadata": {
        "colab": {
          "base_uri": "https://localhost:8080/",
          "height": 265
        },
        "id": "ySJfY0bcIBay",
        "outputId": "20e51e2b-35f2-4b2f-e2a6-becba611ca0c"
      },
      "source": [
        "import matplotlib.pyplot as plt \n",
        "\n",
        "plt.scatter(mixed_train_input[:,0],mixed_train_input[:,1])\n",
        "plt.scatter(mixed_test_input[:,0],mixed_test_input[:,1])\n",
        "plt.scatter(20,150,marker = '^')\n",
        "plt.show()"
      ],
      "execution_count": null,
      "outputs": [
        {
          "output_type": "display_data",
          "data": {
            "image/png": "[encoded data removed]",
            "text/plain": [
              "<Figure size 432x288 with 1 Axes>"
            ]
          },
          "metadata": {
            "needs_background": "light"
          }
        }
      ]
    },
    {
      "cell_type": "code",
      "metadata": {
        "id": "P8gZmaC9IEwD"
      },
      "source": [
        "이 그래프를 보면 20,150의 데이터가 도미에 더 가까워 보이는데 결과는 빙어라고 나온다 왜그럴까?"
      ],
      "execution_count": null,
      "outputs": []
    },
    {
      "cell_type": "code",
      "metadata": {
        "colab": {
          "base_uri": "https://localhost:8080/"
        },
        "id": "FXUrn1N2Iohr",
        "outputId": "950e065a-209a-4636-874a-990f015315a1"
      },
      "source": [
        "distance, indexes = kn.kneighbors([[21,150]])\n",
        "print(distance, indexes)"
      ],
      "execution_count": null,
      "outputs": [
        {
          "output_type": "stream",
          "name": "stdout",
          "text": [
            "[[ 92.02630059 130.29907905 138.08711019 138.12707917 140.33563339]] [[22  8 33  0  6]]\n"
          ]
        }
      ]
    },
    {
      "cell_type": "markdown",
      "metadata": {
        "id": "wDqZaaUZK-s6"
      },
      "source": [
        "#### 표준화"
      ]
    },
    {
      "cell_type": "code",
      "metadata": {
        "id": "M-3AZJoNKgcb"
      },
      "source": [
        "표준화를 할 때 train 데이터와 test 데이터의 표준화를 각각 진행 \n",
        "하지만 test 데이터의 표준화를 할 때 mean 값은 train 데이터의 mean 값을 사용 "
      ],
      "execution_count": null,
      "outputs": []
    },
    {
      "cell_type": "code",
      "metadata": {
        "id": "buhdVzIALx7E"
      },
      "source": [
        "mean=np.mean(train_input, axis=0)"
      ],
      "execution_count": null,
      "outputs": []
    },
    {
      "cell_type": "code",
      "metadata": {
        "id": "d5-26LKeL2xC"
      },
      "source": [
        "std=np.std(train_input, axis=0)"
      ],
      "execution_count": null,
      "outputs": []
    },
    {
      "cell_type": "code",
      "metadata": {
        "id": "-q9xb5OLL3qz"
      },
      "source": [
        "print(mean,std)"
      ],
      "execution_count": null,
      "outputs": []
    },
    {
      "cell_type": "code",
      "metadata": {
        "id": "IjYFTSQBL4hz"
      },
      "source": [
        "train_scaled=(train_input - mean)/std"
      ],
      "execution_count": null,
      "outputs": []
    },
    {
      "cell_type": "code",
      "metadata": {
        "id": "YyD6nwXDL5K7"
      },
      "source": [
        "#train 데이터가 아니라 테스트 데이터 또는 검증을 할 경우 train 데이터의 mean 과 std 사용 \n",
        "new=([21,150]-mean)/std\n"
      ],
      "execution_count": null,
      "outputs": []
    },
    {
      "cell_type": "code",
      "metadata": {
        "id": "wpwxVL41L6DK"
      },
      "source": [
        "plt.scatter(train_scaled[:,0], train_scaled[:,1])\n",
        "plt.scatter(new[0],new[1],marker='*')\n",
        "plt.xlabel('length')\n",
        "plt.ylabel('weight')\n",
        "plt.show()"
      ],
      "execution_count": null,
      "outputs": []
    },
    {
      "cell_type": "markdown",
      "metadata": {
        "id": "f8Zf0ZxmL_LT"
      },
      "source": [
        "## 오렌지로 연습 "
      ]
    },
    {
      "cell_type": "code",
      "metadata": {
        "id": "Zk-WFEZ-MfST"
      },
      "source": [
        "import numpy as np "
      ],
      "execution_count": null,
      "outputs": []
    },
    {
      "cell_type": "code",
      "metadata": {
        "id": "cIsNcFgFMBBz"
      },
      "source": [
        "orange = pd.read_csv('citrus.csv')"
      ],
      "execution_count": null,
      "outputs": []
    },
    {
      "cell_type": "code",
      "metadata": {
        "colab": {
          "base_uri": "https://localhost:8080/",
          "height": 206
        },
        "id": "PJQyYqMCMLK7",
        "outputId": "ebf3e4d9-d0e2-4523-bea8-8c7980f7f7ed"
      },
      "source": [
        "orange.head()"
      ],
      "execution_count": null,
      "outputs": [
        {
          "output_type": "execute_result",
          "data": {
            "text/html": [
              "<div>\n",
              "<style scoped>\n",
              "    .dataframe tbody tr th:only-of-type {\n",
              "        vertical-align: middle;\n",
              "    }\n",
              "\n",
              "    .dataframe tbody tr th {\n",
              "        vertical-align: top;\n",
              "    }\n",
              "\n",
              "    .dataframe thead th {\n",
              "        text-align: right;\n",
              "    }\n",
              "</style>\n",
              "<table border=\"1\" class=\"dataframe\">\n",
              "  <thead>\n",
              "    <tr style=\"text-align: right;\">\n",
              "      <th></th>\n",
              "      <th>name</th>\n",
              "      <th>diameter</th>\n",
              "      <th>weight</th>\n",
              "      <th>red</th>\n",
              "      <th>green</th>\n",
              "      <th>blue</th>\n",
              "    </tr>\n",
              "  </thead>\n",
              "  <tbody>\n",
              "    <tr>\n",
              "      <th>0</th>\n",
              "      <td>orange</td>\n",
              "      <td>2.96</td>\n",
              "      <td>86.76</td>\n",
              "      <td>172</td>\n",
              "      <td>85</td>\n",
              "      <td>2</td>\n",
              "    </tr>\n",
              "    <tr>\n",
              "      <th>1</th>\n",
              "      <td>orange</td>\n",
              "      <td>3.91</td>\n",
              "      <td>88.05</td>\n",
              "      <td>166</td>\n",
              "      <td>78</td>\n",
              "      <td>3</td>\n",
              "    </tr>\n",
              "    <tr>\n",
              "      <th>2</th>\n",
              "      <td>orange</td>\n",
              "      <td>4.42</td>\n",
              "      <td>95.17</td>\n",
              "      <td>156</td>\n",
              "      <td>81</td>\n",
              "      <td>2</td>\n",
              "    </tr>\n",
              "    <tr>\n",
              "      <th>3</th>\n",
              "      <td>orange</td>\n",
              "      <td>4.47</td>\n",
              "      <td>95.60</td>\n",
              "      <td>163</td>\n",
              "      <td>81</td>\n",
              "      <td>4</td>\n",
              "    </tr>\n",
              "    <tr>\n",
              "      <th>4</th>\n",
              "      <td>orange</td>\n",
              "      <td>4.48</td>\n",
              "      <td>95.76</td>\n",
              "      <td>161</td>\n",
              "      <td>72</td>\n",
              "      <td>9</td>\n",
              "    </tr>\n",
              "  </tbody>\n",
              "</table>\n",
              "</div>"
            ],
            "text/plain": [
              "     name  diameter  weight  red  green  blue\n",
              "0  orange      2.96   86.76  172     85     2\n",
              "1  orange      3.91   88.05  166     78     3\n",
              "2  orange      4.42   95.17  156     81     2\n",
              "3  orange      4.47   95.60  163     81     4\n",
              "4  orange      4.48   95.76  161     72     9"
            ]
          },
          "metadata": {},
          "execution_count": 240
        }
      ]
    },
    {
      "cell_type": "code",
      "metadata": {
        "colab": {
          "base_uri": "https://localhost:8080/",
          "height": 206
        },
        "id": "ctaJfh9bMNHL",
        "outputId": "8a8fda93-bd1c-435b-e922-c9a60cdb5f82"
      },
      "source": [
        "#데이터 만들기\n",
        "data = orange.iloc[:,1:3]\n",
        "data.head()"
      ],
      "execution_count": null,
      "outputs": [
        {
          "output_type": "execute_result",
          "data": {
            "text/html": [
              "<div>\n",
              "<style scoped>\n",
              "    .dataframe tbody tr th:only-of-type {\n",
              "        vertical-align: middle;\n",
              "    }\n",
              "\n",
              "    .dataframe tbody tr th {\n",
              "        vertical-align: top;\n",
              "    }\n",
              "\n",
              "    .dataframe thead th {\n",
              "        text-align: right;\n",
              "    }\n",
              "</style>\n",
              "<table border=\"1\" class=\"dataframe\">\n",
              "  <thead>\n",
              "    <tr style=\"text-align: right;\">\n",
              "      <th></th>\n",
              "      <th>diameter</th>\n",
              "      <th>weight</th>\n",
              "    </tr>\n",
              "  </thead>\n",
              "  <tbody>\n",
              "    <tr>\n",
              "      <th>0</th>\n",
              "      <td>2.96</td>\n",
              "      <td>86.76</td>\n",
              "    </tr>\n",
              "    <tr>\n",
              "      <th>1</th>\n",
              "      <td>3.91</td>\n",
              "      <td>88.05</td>\n",
              "    </tr>\n",
              "    <tr>\n",
              "      <th>2</th>\n",
              "      <td>4.42</td>\n",
              "      <td>95.17</td>\n",
              "    </tr>\n",
              "    <tr>\n",
              "      <th>3</th>\n",
              "      <td>4.47</td>\n",
              "      <td>95.60</td>\n",
              "    </tr>\n",
              "    <tr>\n",
              "      <th>4</th>\n",
              "      <td>4.48</td>\n",
              "      <td>95.76</td>\n",
              "    </tr>\n",
              "  </tbody>\n",
              "</table>\n",
              "</div>"
            ],
            "text/plain": [
              "   diameter  weight\n",
              "0      2.96   86.76\n",
              "1      3.91   88.05\n",
              "2      4.42   95.17\n",
              "3      4.47   95.60\n",
              "4      4.48   95.76"
            ]
          },
          "metadata": {},
          "execution_count": 281
        }
      ]
    },
    {
      "cell_type": "code",
      "metadata": {
        "colab": {
          "base_uri": "https://localhost:8080/"
        },
        "id": "bb5milYHMc3z",
        "outputId": "f8479692-0cf1-4dee-e0e4-ce02ab918fff"
      },
      "source": [
        "#믹싱\n",
        "mix_index = np.arange(10000)\n",
        "np.random.shuffle(mix_index)\n",
        "mix_index"
      ],
      "execution_count": null,
      "outputs": [
        {
          "output_type": "execute_result",
          "data": {
            "text/plain": [
              "array([4143, 2358, 9152, ..., 2364, 8763, 5098])"
            ]
          },
          "metadata": {},
          "execution_count": 252
        }
      ]
    },
    {
      "cell_type": "code",
      "metadata": {
        "id": "vbwYh6m4MxCc"
      },
      "source": [
        "#믹싱한 인덱스 대로 정렬 \n",
        "data = np.array(data)\n",
        "mixed_data = data[mix_index]"
      ],
      "execution_count": null,
      "outputs": []
    },
    {
      "cell_type": "code",
      "metadata": {
        "colab": {
          "base_uri": "https://localhost:8080/"
        },
        "id": "5xJ7QhAZM7hs",
        "outputId": "b0ad113a-0d08-46ef-e8a9-c11e48ae29fa"
      },
      "source": [
        "#믹싱한 것 확인 \n",
        "print(data[4143], mixed_data[0])"
      ],
      "execution_count": null,
      "outputs": [
        {
          "output_type": "stream",
          "name": "stdout",
          "text": [
            "[  9.65 170.97] [  9.65 170.97]\n"
          ]
        }
      ]
    },
    {
      "cell_type": "code",
      "metadata": {
        "id": "wPvXfUlJNZg2"
      },
      "source": [
        "#타겟 데이터 만들기 \n",
        "orange.loc[orange['name'] == 'orange'] # 5천개\n",
        "orange.loc[orange['name'] == 'grapefruit'] #5천개 \n",
        "\n",
        "target_data = np.array([1]*5000 + [0]*5000)"
      ],
      "execution_count": null,
      "outputs": []
    },
    {
      "cell_type": "code",
      "metadata": {
        "colab": {
          "base_uri": "https://localhost:8080/"
        },
        "id": "RQ9p7veTNyjV",
        "outputId": "e03233b4-29fb-44b7-f772-f979c12114c2"
      },
      "source": [
        "#타겟 데이터 믹싱하기 \n",
        "target_data[mix_index]\n",
        "\n",
        "#타겟 데이터 믹싱 확인 \n",
        "print(target_data[4143], target_data[0])"
      ],
      "execution_count": null,
      "outputs": [
        {
          "output_type": "stream",
          "name": "stdout",
          "text": [
            "1 1\n"
          ]
        }
      ]
    },
    {
      "cell_type": "code",
      "metadata": {
        "id": "UEiqZH02NOIC"
      },
      "source": [
        "#트레이닝 데이터 자르기 \n",
        "mixed_train_input = mixed_data[:8000,]\n",
        "mixed_train_target = target_data[:8000,]\n",
        "mixed_test_input = mixed_data[8000:,]\n",
        "mixed_test_target = target_data[8000:,]"
      ],
      "execution_count": null,
      "outputs": []
    },
    {
      "cell_type": "code",
      "metadata": {
        "id": "2-6cITQsOPe0"
      },
      "source": [
        "#표준화 \n",
        "mean=np.mean(mixed_train_input, axis=0) #평균 구하기 \n",
        "std=np.std(mixed_train_input, axis=0)\n",
        "train_scaled=(mixed_train_input - mean)/std"
      ],
      "execution_count": null,
      "outputs": []
    },
    {
      "cell_type": "code",
      "metadata": {
        "colab": {
          "base_uri": "https://localhost:8080/"
        },
        "id": "s2ga0s5XOeNN",
        "outputId": "01586b22-b33c-479b-da61-4a6929cb06db"
      },
      "source": [
        "print(mean,std)"
      ],
      "execution_count": null,
      "outputs": [
        {
          "output_type": "stream",
          "name": "stdout",
          "text": [
            "[  9.97010375 174.97457125] [ 1.94088622 29.09892405]\n"
          ]
        }
      ]
    },
    {
      "cell_type": "code",
      "metadata": {
        "id": "QsdNBOmLPHqC"
      },
      "source": [
        "new=([21,150]-mean)/std"
      ],
      "execution_count": null,
      "outputs": []
    },
    {
      "cell_type": "code",
      "metadata": {
        "id": "nVLH0ZqtPJNr",
        "colab": {
          "base_uri": "https://localhost:8080/",
          "height": 279
        },
        "outputId": "7bdaad6b-95f8-45b0-ef87-659d99a3b590"
      },
      "source": [
        "plt.scatter(train_scaled[:,0], train_scaled[:,1])\n",
        "plt.scatter(new[0],new[1],marker='*')\n",
        "plt.xlabel('length')\n",
        "plt.ylabel('weight')\n",
        "plt.show()"
      ],
      "execution_count": null,
      "outputs": [
        {
          "output_type": "display_data",
          "data": {
            "image/png": "[encoded data removed]",
            "text/plain": [
              "<Figure size 432x288 with 1 Axes>"
            ]
          },
          "metadata": {
            "needs_background": "light"
          }
        }
      ]
    }
  ]
}