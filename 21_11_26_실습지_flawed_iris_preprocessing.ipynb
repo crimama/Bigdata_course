{
  "nbformat": 4,
  "nbformat_minor": 0,
  "metadata": {
    "colab": {
      "name": "21.11.26_실습지_flawed_iris_preprocessing.ipynb",
      "provenance": [],
      "include_colab_link": true
    },
    "kernelspec": {
      "name": "python3",
      "display_name": "Python 3"
    }
  },
  "cells": [
    {
      "cell_type": "markdown",
      "metadata": {
        "id": "view-in-github",
        "colab_type": "text"
      },
      "source": [
        "<a href=\"https://colab.research.google.com/github/crimama/crimama/blob/Bigdata_course/21_11_26_%EC%8B%A4%EC%8A%B5%EC%A7%80_flawed_iris_preprocessing.ipynb\" target=\"_parent\"><img src=\"https://colab.research.google.com/assets/colab-badge.svg\" alt=\"Open In Colab\"/></a>"
      ]
    },
    {
      "cell_type": "markdown",
      "metadata": {
        "id": "_gNpH7C6sv7Z"
      },
      "source": [
        "# loss categorical_crossentropy\n",
        "\n",
        "2가지 crossentropy 사용 방법\n",
        "- categorical_crossentropy\n",
        "- sparse_categorical_crossentropy\n",
        "\n",
        "## categorical_crossentropy\n",
        "y의 값이 one hot encoding인 경우\n",
        "```\n",
        "1,0,0\n",
        "0,1,0\n",
        "0,0,1\n",
        "```\n",
        "\n",
        "출력 레이어 설정\n",
        "```\n",
        "model.add(Dense(3, activation=\"softmax\")) # 출력 레이어\n",
        "```\n",
        "\n",
        "loss 설정\n",
        "```\n",
        "model.compile(..., loss='categorical_crossentropy')\n",
        "```\n",
        "\n",
        "\n",
        "## sparse_categorical_crossentropy\n",
        "y의 값이 one hot encoding인 경우\n",
        "```\n",
        "0\n",
        "1\n",
        "2\n",
        "```\n",
        "\n",
        "출력 레이어 설정\n",
        "```\n",
        "model.add(Dense(3, activation=\"softmax\")) # 출력 레이어. 1이 아니라 클래스 수 3\n",
        "```\n",
        "\n",
        "loss 설정\n",
        "```\n",
        "model.compile(..., loss='sparse_categorical_crossentropy')\n",
        "```\n",
        "\n",
        "\n",
        "\n"
      ]
    },
    {
      "cell_type": "markdown",
      "metadata": {
        "id": "5TzdGBkEtoXy"
      },
      "source": [
        "# iris_dnn with category index\n",
        "\n",
        "아래의 코드는 dnn_iris_and_optimizer.ipynb의 코드를 기반으로 한다.\n"
      ]
    },
    {
      "cell_type": "code",
      "metadata": {
        "id": "8QWhBiz9rICw"
      },
      "source": [
        "import numpy as np\n",
        "import pandas as pd\n",
        "import matplotlib.pyplot as plt\n",
        "import seaborn as sns \n",
        "\n",
        "import tensorflow as tf\n",
        "\n",
        "from tensorflow import keras\n",
        "from tensorflow.keras import optimizers\n",
        "from tensorflow.keras.layers import Dense"
      ],
      "execution_count": 301,
      "outputs": []
    },
    {
      "cell_type": "code",
      "metadata": {
        "id": "jowO-zmzrObJ",
        "colab": {
          "base_uri": "https://localhost:8080/"
        },
        "outputId": "9963f281-1a97-42f1-dd1b-188ed3910616"
      },
      "source": [
        "!wget https://raw.githubusercontent.com/dhrim/MDC_2021/master/material/library/flawed_iris.csv  "
      ],
      "execution_count": 302,
      "outputs": [
        {
          "output_type": "stream",
          "name": "stdout",
          "text": [
            "--2021-11-26 08:18:57--  https://raw.githubusercontent.com/dhrim/MDC_2021/master/material/library/flawed_iris.csv\n",
            "Resolving raw.githubusercontent.com (raw.githubusercontent.com)... 185.199.108.133, 185.199.109.133, 185.199.110.133, ...\n",
            "Connecting to raw.githubusercontent.com (raw.githubusercontent.com)|185.199.108.133|:443... connected.\n",
            "HTTP request sent, awaiting response... 200 OK\n",
            "Length: 2782 (2.7K) [text/plain]\n",
            "Saving to: ‘flawed_iris.csv.2’\n",
            "\n",
            "\rflawed_iris.csv.2     0%[                    ]       0  --.-KB/s               \rflawed_iris.csv.2   100%[===================>]   2.72K  --.-KB/s    in 0s      \n",
            "\n",
            "2021-11-26 08:18:57 (25.8 MB/s) - ‘flawed_iris.csv.2’ saved [2782/2782]\n",
            "\n"
          ]
        }
      ]
    },
    {
      "cell_type": "code",
      "metadata": {
        "id": "95dRpZwmrirs",
        "colab": {
          "base_uri": "https://localhost:8080/",
          "height": 206
        },
        "outputId": "a5ab1e78-a14e-44b1-a42a-c07cab4a1fa1"
      },
      "source": [
        "iris = pd.read_csv(\"flawed_iris.csv\")\n",
        "iris.head()"
      ],
      "execution_count": 303,
      "outputs": [
        {
          "output_type": "execute_result",
          "data": {
            "text/html": [
              "<div>\n",
              "<style scoped>\n",
              "    .dataframe tbody tr th:only-of-type {\n",
              "        vertical-align: middle;\n",
              "    }\n",
              "\n",
              "    .dataframe tbody tr th {\n",
              "        vertical-align: top;\n",
              "    }\n",
              "\n",
              "    .dataframe thead th {\n",
              "        text-align: right;\n",
              "    }\n",
              "</style>\n",
              "<table border=\"1\" class=\"dataframe\">\n",
              "  <thead>\n",
              "    <tr style=\"text-align: right;\">\n",
              "      <th></th>\n",
              "      <th>septal_length</th>\n",
              "      <th>septal_width</th>\n",
              "      <th>petal_length</th>\n",
              "      <th>petal_width</th>\n",
              "      <th>color</th>\n",
              "      <th>class</th>\n",
              "    </tr>\n",
              "  </thead>\n",
              "  <tbody>\n",
              "    <tr>\n",
              "      <th>0</th>\n",
              "      <td>6.4</td>\n",
              "      <td>2.8</td>\n",
              "      <td>5.6</td>\n",
              "      <td>2.2</td>\n",
              "      <td>light</td>\n",
              "      <td>2.0</td>\n",
              "    </tr>\n",
              "    <tr>\n",
              "      <th>1</th>\n",
              "      <td>5.0</td>\n",
              "      <td>2.3</td>\n",
              "      <td>3.3</td>\n",
              "      <td>1.0</td>\n",
              "      <td>medium</td>\n",
              "      <td>1.0</td>\n",
              "    </tr>\n",
              "    <tr>\n",
              "      <th>2</th>\n",
              "      <td>4.9</td>\n",
              "      <td>2.5</td>\n",
              "      <td>4.5</td>\n",
              "      <td>1.7</td>\n",
              "      <td>medium</td>\n",
              "      <td>2.0</td>\n",
              "    </tr>\n",
              "    <tr>\n",
              "      <th>3</th>\n",
              "      <td>4.9</td>\n",
              "      <td>3.1</td>\n",
              "      <td>1.5</td>\n",
              "      <td>0.1</td>\n",
              "      <td>dark</td>\n",
              "      <td>0.0</td>\n",
              "    </tr>\n",
              "    <tr>\n",
              "      <th>4</th>\n",
              "      <td>5.7</td>\n",
              "      <td>3.8</td>\n",
              "      <td>1.7</td>\n",
              "      <td>0.3</td>\n",
              "      <td>dark</td>\n",
              "      <td>0.0</td>\n",
              "    </tr>\n",
              "  </tbody>\n",
              "</table>\n",
              "</div>"
            ],
            "text/plain": [
              "   septal_length septal_width  petal_length  petal_width   color  class\n",
              "0            6.4          2.8           5.6          2.2   light    2.0\n",
              "1            5.0          2.3           3.3          1.0  medium    1.0\n",
              "2            4.9          2.5           4.5          1.7  medium    2.0\n",
              "3            4.9          3.1           1.5          0.1    dark    0.0\n",
              "4            5.7          3.8           1.7          0.3    dark    0.0"
            ]
          },
          "metadata": {},
          "execution_count": 303
        }
      ]
    },
    {
      "cell_type": "markdown",
      "metadata": {
        "id": "4gnb-bal-RwA"
      },
      "source": [
        "### 전처리 \n",
        "- 이상치 \n",
        "- 결측치\n",
        "- 컬럼 \n",
        "- 정규화, 표준화 \n",
        "- 인코딩 \n"
      ]
    },
    {
      "cell_type": "markdown",
      "metadata": {
        "id": "_bvzeZIeJzs0"
      },
      "source": [
        "#### 데이터 확인 "
      ]
    },
    {
      "cell_type": "code",
      "metadata": {
        "id": "ulayylCO-a5l",
        "colab": {
          "base_uri": "https://localhost:8080/"
        },
        "outputId": "699aad85-0552-42b5-a0cf-ecebc4d59b3f"
      },
      "source": [
        "#데이터 상태 확인 \n",
        "iris.info()"
      ],
      "execution_count": 304,
      "outputs": [
        {
          "output_type": "stream",
          "name": "stdout",
          "text": [
            "<class 'pandas.core.frame.DataFrame'>\n",
            "RangeIndex: 120 entries, 0 to 119\n",
            "Data columns (total 6 columns):\n",
            " #   Column         Non-Null Count  Dtype  \n",
            "---  ------         --------------  -----  \n",
            " 0   septal_length  117 non-null    float64\n",
            " 1   septal_width   118 non-null    object \n",
            " 2   petal_length   117 non-null    float64\n",
            " 3   petal_width    118 non-null    float64\n",
            " 4   color          117 non-null    object \n",
            " 5   class          119 non-null    float64\n",
            "dtypes: float64(4), object(2)\n",
            "memory usage: 5.8+ KB\n"
          ]
        }
      ]
    },
    {
      "cell_type": "code",
      "metadata": {
        "colab": {
          "base_uri": "https://localhost:8080/"
        },
        "id": "2BtSWsHqHjGV",
        "outputId": "72bfce21-29e5-4529-95a6-bccf231afc84"
      },
      "source": [
        "#널값 확인 \n",
        "iris.isnull().sum()"
      ],
      "execution_count": 305,
      "outputs": [
        {
          "output_type": "execute_result",
          "data": {
            "text/plain": [
              "septal_length    3\n",
              "septal_width     2\n",
              "petal_length     3\n",
              "petal_width      2\n",
              "color            3\n",
              "class            1\n",
              "dtype: int64"
            ]
          },
          "metadata": {},
          "execution_count": 305
        }
      ]
    },
    {
      "cell_type": "code",
      "metadata": {
        "colab": {
          "base_uri": "https://localhost:8080/",
          "height": 298
        },
        "id": "gYfjrsNSUKNX",
        "outputId": "951219ad-a9e5-42cc-98d6-e595ffe56737"
      },
      "source": [
        "fig = plt.figure(figsize = (10,4))\n",
        "\n",
        "plt.subplot(221)\n",
        "sns.histplot(data=iris,x='septal_length')\n",
        "\n",
        "plt.subplot(222)\n",
        "sns.histplot(data=iris,x='septal_width')\n",
        "plt.subplot(223)\n",
        "sns.histplot(data=iris,x='petal_width')\n",
        "plt.subplot(224)\n",
        "sns.histplot(data=iris,x='petal_length')"
      ],
      "execution_count": 306,
      "outputs": [
        {
          "output_type": "execute_result",
          "data": {
            "text/plain": [
              "<matplotlib.axes._subplots.AxesSubplot at 0x7f9baefb0410>"
            ]
          },
          "metadata": {},
          "execution_count": 306
        },
        {
          "output_type": "display_data",
          "data": {
            "image/png": "[encoded data removed]",
            "text/plain": [
              "<Figure size 720x288 with 4 Axes>"
            ]
          },
          "metadata": {
            "needs_background": "light"
          }
        }
      ]
    },
    {
      "cell_type": "markdown",
      "metadata": {
        "id": "4QfE0kcXJ1pl"
      },
      "source": [
        "#### 데이터 전처리 "
      ]
    },
    {
      "cell_type": "code",
      "metadata": {
        "id": "ul-emwd4Al_8"
      },
      "source": [
        "#컬럼 제거 \n",
        "iris.drop(columns = 'color',inplace = True)"
      ],
      "execution_count": 307,
      "outputs": []
    },
    {
      "cell_type": "code",
      "metadata": {
        "id": "HtrcZOno_BJ6"
      },
      "source": [
        "#결측치 제거 \n",
        "\n",
        "iris.fillna(method= \"ffill\",inplace = True)\n",
        "iris.loc[iris.septal_width == '2..3','septal_width'] = 2.3\n",
        "\n",
        "# iris.drop(iris.septal_width.loc[iris.septal_width == '2..3'].index,inplace = True)\n",
        "# iris.drop(iris.septal_length.loc[iris.septal_length.isnull()].index, inplace = True)\n",
        "# iris.drop(iris.septal_width.loc[iris.septal_width.isnull()].index, inplace = True)\n",
        "# iris.drop(iris.petal_length.loc[iris.petal_length.isnull()].index, inplace = True)\n",
        "# iris.drop(iris.petal_width.loc[iris.petal_width.isnull()].index ,inplace = True)\n",
        "# iris.drop(iris['class'].loc[iris['class'].isnull()].index, inplace = True)"
      ],
      "execution_count": 308,
      "outputs": []
    },
    {
      "cell_type": "code",
      "metadata": {
        "id": "imbNyAcHBzEd"
      },
      "source": [
        "# type 변경\n",
        "iris.septal_width = iris.septal_width.astype(np.float)\n",
        "iris['class'] = iris['class'].astype(np.int)"
      ],
      "execution_count": 309,
      "outputs": []
    },
    {
      "cell_type": "code",
      "metadata": {
        "colab": {
          "base_uri": "https://localhost:8080/"
        },
        "id": "ycCLADfOPw00",
        "outputId": "bc07a9bf-a8eb-4c94-e8ed-a63a6dbb79c3"
      },
      "source": [
        "print(iris.min())\n",
        "print(iris.max())"
      ],
      "execution_count": 310,
      "outputs": [
        {
          "output_type": "stream",
          "name": "stdout",
          "text": [
            "septal_length   -5.8\n",
            "septal_width    -3.0\n",
            "petal_length    -6.1\n",
            "petal_width     -1.0\n",
            "class            0.0\n",
            "dtype: float64\n",
            "septal_length    14.5\n",
            "septal_width     16.0\n",
            "petal_length      6.9\n",
            "petal_width      23.3\n",
            "class             2.0\n",
            "dtype: float64\n"
          ]
        }
      ]
    },
    {
      "cell_type": "code",
      "metadata": {
        "id": "sBqlPa9TIQCm"
      },
      "source": [
        "#음수 제거 \n",
        "\n",
        "\n",
        "iris.loc[iris.petal_length < 0,'petal_length'] = 0 \n",
        "iris.loc[iris.petal_width < 0,'petal_width'] = 0 "
      ],
      "execution_count": 311,
      "outputs": []
    },
    {
      "cell_type": "code",
      "metadata": {
        "id": "5HTrLeu8_kG-",
        "colab": {
          "base_uri": "https://localhost:8080/",
          "height": 270
        },
        "outputId": "1f47bc63-7d98-438d-a2a5-a389a650a272"
      },
      "source": [
        "#이상치 확인 \n",
        "\n",
        "fig = plt.figure()\n",
        "\n",
        "plt.subplot(221)\n",
        "sns.boxplot(data=iris, y='septal_length')\n",
        "plt.subplot(222)\n",
        "sns.boxplot(data=iris, y='septal_width')\n",
        "plt.subplot(223)\n",
        "sns.boxplot(data=iris, y='petal_length')\n",
        "plt.subplot(224)\n",
        "sns.boxplot(data=iris, y='petal_width')"
      ],
      "execution_count": 312,
      "outputs": [
        {
          "output_type": "execute_result",
          "data": {
            "text/plain": [
              "<matplotlib.axes._subplots.AxesSubplot at 0x7f9baed28210>"
            ]
          },
          "metadata": {},
          "execution_count": 312
        },
        {
          "output_type": "display_data",
          "data": {
            "image/png": "[encoded data removed]",
            "text/plain": [
              "<Figure size 432x288 with 4 Axes>"
            ]
          },
          "metadata": {
            "needs_background": "light"
          }
        }
      ]
    },
    {
      "cell_type": "code",
      "metadata": {
        "id": "bzieIYdaBfnG"
      },
      "source": [
        "# #IQR 구하기 \n",
        "# first_Q = iris.septal_length.sort_values().iloc[int(109*0.25)]\n",
        "# forth_Q = iris.septal_length.sort_values().iloc[int(109*0.75)]\n",
        "# IQR = forth_Q - first_Q\n",
        "\n",
        "# #UPPER_limit, lower_limit 구하기 \n",
        "# upper_limit = forth_Q + (1.5*IQR)\n",
        "# lower_limit = first_Q - (1.5*IQR)\n",
        "\n",
        "# #각 값 제거하기\n",
        "# # iris.drop(iris.loc[iris.septal_length < lower_limit].index,inplace = True)\n",
        "# # iris.drop(iris.loc[iris.septal_length > upper_limit].index,inplace = True)\n",
        "\n",
        "# iris.loc[iris.septal_length < lower_limit,'septal_length'] = lower_limit\n",
        "# iris.loc[iris.septal_length > upper_limit, 'septal_length'] = upper_limit"
      ],
      "execution_count": 313,
      "outputs": []
    },
    {
      "cell_type": "code",
      "metadata": {
        "id": "MeID9Hd3EeI4"
      },
      "source": [
        "#결측치 제거 자동화 \n",
        "\n",
        "\n",
        "for i in iris.columns:\n",
        "\n",
        "    #IQR 구하기 \n",
        "    first_Q = iris[i].sort_values().iloc[int(109*0.25)]\n",
        "    forth_Q = iris[i].sort_values().iloc[int(109*0.75)]\n",
        "    IQR = forth_Q - first_Q\n",
        "\n",
        "    #UPPER_limit, lower_limit 구하기 \n",
        "    upper_limit = forth_Q + (1.5*IQR)\n",
        "    lower_limit = first_Q - (1.5*IQR)\n",
        "\n",
        "    #각 값 제거하기\n",
        "    iris.loc[iris[i] < lower_limit,i] = lower_limit \n",
        "    iris.loc[iris[i] > upper_limit,i] = upper_limit\n",
        "  "
      ],
      "execution_count": 314,
      "outputs": []
    },
    {
      "cell_type": "code",
      "metadata": {
        "colab": {
          "base_uri": "https://localhost:8080/",
          "height": 298
        },
        "id": "xFaiaQH3Urk8",
        "outputId": "bcd5bfe2-6acd-487b-807d-52d142af321d"
      },
      "source": [
        "fig = plt.figure(figsize = (10,4))\n",
        "\n",
        "plt.subplot(221)\n",
        "sns.histplot(data=iris,x='septal_length')\n",
        "\n",
        "plt.subplot(222)\n",
        "sns.histplot(data=iris,x='septal_width')\n",
        "plt.subplot(223)\n",
        "sns.histplot(data=iris,x='petal_width')\n",
        "plt.subplot(224)\n",
        "sns.histplot(data=iris,x='petal_length')"
      ],
      "execution_count": 315,
      "outputs": [
        {
          "output_type": "execute_result",
          "data": {
            "text/plain": [
              "<matplotlib.axes._subplots.AxesSubplot at 0x7f9bae311150>"
            ]
          },
          "metadata": {},
          "execution_count": 315
        },
        {
          "output_type": "display_data",
          "data": {
            "image/png": "[encoded data removed]",
            "text/plain": [
              "<Figure size 720x288 with 4 Axes>"
            ]
          },
          "metadata": {
            "needs_background": "light"
          }
        }
      ]
    },
    {
      "cell_type": "markdown",
      "metadata": {
        "id": "7e0WZqsu-Qk7"
      },
      "source": [
        "### 모델링 \n"
      ]
    },
    {
      "cell_type": "code",
      "metadata": {
        "id": "P5OBkri2ssI2",
        "colab": {
          "base_uri": "https://localhost:8080/"
        },
        "outputId": "7c1f46f6-8020-44fb-a588-6ebbd55dabab"
      },
      "source": [
        "data = iris.to_numpy()\n",
        "print(data.shape)\n",
        "print(data[:5])"
      ],
      "execution_count": 316,
      "outputs": [
        {
          "output_type": "stream",
          "name": "stdout",
          "text": [
            "(120, 5)\n",
            "[[6.4 2.8 5.6 2.2 2. ]\n",
            " [5.  2.3 3.3 1.  1. ]\n",
            " [4.9 2.5 4.5 1.7 2. ]\n",
            " [4.9 3.1 1.5 0.1 0. ]\n",
            " [5.7 3.8 1.7 0.3 0. ]]\n"
          ]
        }
      ]
    },
    {
      "cell_type": "code",
      "metadata": {
        "id": "64VZ6W65sg5H",
        "colab": {
          "base_uri": "https://localhost:8080/"
        },
        "outputId": "a5e7cd69-57ae-4ee1-8613-223eb36f7b84"
      },
      "source": [
        "x = data[:,:4]\n",
        "y = data[:,4:]\n",
        "\n",
        "split_index = 100\n",
        "\n",
        "train_x, test_x = x[:split_index], x[split_index:]\n",
        "train_y, test_y = y[:split_index], y[split_index:]\n",
        "\n",
        "print(train_x.shape)\n",
        "print(train_y.shape)\n",
        "print(test_x.shape)\n",
        "print(test_y.shape)"
      ],
      "execution_count": 317,
      "outputs": [
        {
          "output_type": "stream",
          "name": "stdout",
          "text": [
            "(100, 4)\n",
            "(100, 1)\n",
            "(20, 4)\n",
            "(20, 1)\n"
          ]
        }
      ]
    },
    {
      "cell_type": "code",
      "metadata": {
        "id": "0SwCtBLbtCgt",
        "colab": {
          "base_uri": "https://localhost:8080/"
        },
        "outputId": "f27022e7-3f17-4107-af16-629e2c428600"
      },
      "source": [
        "model = keras.Sequential()\n",
        "model.add(Dense(10, activation='relu', input_shape=(4,)))\n",
        "model.add(Dense(10, activation='relu'))\n",
        "model.add(Dense(3, activation=\"softmax\")) # 1이 아니고 클래스 수 3이다\n",
        "\n",
        "# model.compile(optimizer=\"SGD\", loss=\"categorical_crossentropy\", metrics=[\"accuracy\"])\n",
        "model.compile(optimizer=\"SGD\", loss=\"sparse_categorical_crossentropy\", metrics=[\"accuracy\"])\n",
        "model.summary()\n",
        "\n",
        "model.fit(train_x, train_y, epochs=1000, verbose=0, batch_size=20)\n",
        "\n",
        "loss, acc = model.evaluate(test_x, test_y)\n",
        "print(\"loss=\", loss)\n",
        "print(\"acc=\", acc)\n",
        "              \n"
      ],
      "execution_count": 318,
      "outputs": [
        {
          "output_type": "stream",
          "name": "stdout",
          "text": [
            "Model: \"sequential_10\"\n",
            "_________________________________________________________________\n",
            " Layer (type)                Output Shape              Param #   \n",
            "=================================================================\n",
            " dense_30 (Dense)            (None, 10)                50        \n",
            "                                                                 \n",
            " dense_31 (Dense)            (None, 10)                110       \n",
            "                                                                 \n",
            " dense_32 (Dense)            (None, 3)                 33        \n",
            "                                                                 \n",
            "=================================================================\n",
            "Total params: 193\n",
            "Trainable params: 193\n",
            "Non-trainable params: 0\n",
            "_________________________________________________________________\n",
            "1/1 [==============================] - 0s 128ms/step - loss: 0.0676 - accuracy: 1.0000\n",
            "loss= 0.06762025505304337\n",
            "acc= 1.0\n"
          ]
        }
      ]
    },
    {
      "cell_type": "code",
      "metadata": {
        "id": "UbanwtJYuU3z",
        "colab": {
          "base_uri": "https://localhost:8080/"
        },
        "outputId": "32ead5a0-2a57-45ca-e772-145f6718a538"
      },
      "source": [
        "y_ = model.predict(test_x)\n",
        "print(y_)\n",
        "print(np.argmax(y_, axis=1))"
      ],
      "execution_count": 320,
      "outputs": [
        {
          "output_type": "stream",
          "name": "stdout",
          "text": [
            "[[9.9636286e-01 3.6317478e-03 5.3255344e-06]\n",
            " [2.9743323e-03 9.8077559e-01 1.6249970e-02]\n",
            " [6.4960986e-01 3.4564000e-01 4.7501144e-03]\n",
            " [5.3492986e-04 9.8847395e-01 1.0991111e-02]\n",
            " [9.9607348e-01 3.9213095e-03 5.2020218e-06]\n",
            " [9.9932706e-01 6.6594704e-04 7.0516885e-06]\n",
            " [9.9865592e-01 1.3428896e-03 1.1458252e-06]\n",
            " [9.9840242e-01 1.5957627e-03 1.7322243e-06]\n",
            " [2.1294993e-03 9.7958654e-01 1.8283911e-02]\n",
            " [9.9413741e-01 5.8549317e-03 7.6688957e-06]\n",
            " [3.2416250e-05 4.5765224e-01 5.4231536e-01]\n",
            " [5.1684550e-04 9.6660244e-01 3.2880805e-02]\n",
            " [9.9458992e-01 5.4032747e-03 6.7264041e-06]\n",
            " [8.3532591e-08 3.1592757e-02 9.6840715e-01]\n",
            " [9.9387336e-01 6.1150254e-03 1.1606969e-05]\n",
            " [1.4286920e-04 9.0780467e-01 9.2052467e-02]\n",
            " [1.8935392e-04 9.6993870e-01 2.9871918e-02]\n",
            " [9.9322999e-01 6.7569911e-03 1.3049629e-05]\n",
            " [9.9582076e-01 4.1733040e-03 5.9934200e-06]\n",
            " [2.2944493e-02 9.7575915e-01 1.2963923e-03]]\n",
            "[0 1 0 1 0 0 0 0 1 0 2 1 0 2 0 1 1 0 0 1]\n"
          ]
        }
      ]
    },
    {
      "cell_type": "code",
      "metadata": {
        "id": "5CyFXhlrubUQ"
      },
      "source": [
        ""
      ],
      "execution_count": null,
      "outputs": []
    }
  ]
}