{
  "nbformat": 4,
  "nbformat_minor": 0,
  "metadata": {
    "colab": {
      "name": "21.11.24_판다스_실습.ipynb",
      "provenance": [],
      "collapsed_sections": [],
      "toc_visible": true,
      "authorship_tag": "ABX9TyOeMbW/08t4CNVQ1BsYCnxS",
      "include_colab_link": true
    },
    "kernelspec": {
      "name": "python3",
      "display_name": "Python 3"
    },
    "language_info": {
      "name": "python"
    }
  },
  "cells": [
    {
      "cell_type": "markdown",
      "metadata": {
        "id": "view-in-github",
        "colab_type": "text"
      },
      "source": [
        "<a href=\"https://colab.research.google.com/github/crimama/crimama/blob/Bigdata_course/21_11_24_%ED%8C%90%EB%8B%A4%EC%8A%A4_%EC%8B%A4%EC%8A%B5.ipynb\" target=\"_parent\"><img src=\"https://colab.research.google.com/assets/colab-badge.svg\" alt=\"Open In Colab\"/></a>"
      ]
    },
    {
      "cell_type": "markdown",
      "metadata": {
        "id": "lM2yRP46a0O-"
      },
      "source": [
        "# 데이터 전처리 \n",
        "- 결측치, 이상치, 카테고리 데이터 인코딩, 정규화 또는 표준화 "
      ]
    },
    {
      "cell_type": "markdown",
      "metadata": {
        "id": "VC3e2JdHnK4G"
      },
      "source": [
        "### 데이터 핸들링 실습 (11.23 복습) "
      ]
    },
    {
      "cell_type": "code",
      "metadata": {
        "id": "ptGpsvpVQl_5"
      },
      "source": [
        "# - quality 컬럼의 최대값, 최소값을 출력\n",
        "# - density 컬럼을 %로 변경한 컬럼 density_percent를 생성. 소수점 1자리만 남기고.\n",
        "# - fixed acidity 컬럼의 상위 10%, 하위 10% 값을 출력\n",
        "# 새로운 컬럼 grade를 추가. fixed acidity 상위 10% 이상은 1, 하위 10% 이하는 3, 중간은 2의 값으로.\n",
        "# !rm -rf wine*"
      ],
      "execution_count": null,
      "outputs": []
    },
    {
      "cell_type": "code",
      "metadata": {
        "id": "mF0Ex9duRJs5"
      },
      "source": [
        "import pandas as pd\n",
        "import numpy as np "
      ],
      "execution_count": null,
      "outputs": []
    },
    {
      "cell_type": "code",
      "metadata": {
        "id": "esGEh2BHRN8o"
      },
      "source": [
        "df = pd.read_csv('wine.csv')"
      ],
      "execution_count": null,
      "outputs": []
    },
    {
      "cell_type": "code",
      "metadata": {
        "colab": {
          "base_uri": "https://localhost:8080/",
          "height": 206
        },
        "id": "loHmBTu4RQ9h",
        "outputId": "ce420669-a802-4ffb-b902-d85cc176b55a"
      },
      "source": [
        "df.head(5)"
      ],
      "execution_count": null,
      "outputs": [
        {
          "output_type": "execute_result",
          "data": {
            "text/html": [
              "<div>\n",
              "<style scoped>\n",
              "    .dataframe tbody tr th:only-of-type {\n",
              "        vertical-align: middle;\n",
              "    }\n",
              "\n",
              "    .dataframe tbody tr th {\n",
              "        vertical-align: top;\n",
              "    }\n",
              "\n",
              "    .dataframe thead th {\n",
              "        text-align: right;\n",
              "    }\n",
              "</style>\n",
              "<table border=\"1\" class=\"dataframe\">\n",
              "  <thead>\n",
              "    <tr style=\"text-align: right;\">\n",
              "      <th></th>\n",
              "      <th>2index</th>\n",
              "      <th>quality</th>\n",
              "      <th>fixed acidity</th>\n",
              "      <th>volatile acidity</th>\n",
              "      <th>citric acid</th>\n",
              "      <th>residual sugar</th>\n",
              "      <th>chlorides</th>\n",
              "      <th>free sulfur dioxide</th>\n",
              "      <th>total sulfur dioxide</th>\n",
              "      <th>density</th>\n",
              "      <th>pH</th>\n",
              "      <th>sulphates</th>\n",
              "      <th>alcohol</th>\n",
              "      <th>type</th>\n",
              "    </tr>\n",
              "  </thead>\n",
              "  <tbody>\n",
              "    <tr>\n",
              "      <th>0</th>\n",
              "      <td>0</td>\n",
              "      <td>5</td>\n",
              "      <td>5.6</td>\n",
              "      <td>0.695</td>\n",
              "      <td>0.06</td>\n",
              "      <td>6.8</td>\n",
              "      <td>0.042</td>\n",
              "      <td>9.0</td>\n",
              "      <td>84.0</td>\n",
              "      <td>0.99432</td>\n",
              "      <td>3.44</td>\n",
              "      <td>0.44</td>\n",
              "      <td>10.2</td>\n",
              "      <td>white</td>\n",
              "    </tr>\n",
              "    <tr>\n",
              "      <th>1</th>\n",
              "      <td>1</td>\n",
              "      <td>5</td>\n",
              "      <td>8.8</td>\n",
              "      <td>0.610</td>\n",
              "      <td>0.14</td>\n",
              "      <td>2.4</td>\n",
              "      <td>0.067</td>\n",
              "      <td>10.0</td>\n",
              "      <td>42.0</td>\n",
              "      <td>0.99690</td>\n",
              "      <td>3.19</td>\n",
              "      <td>0.59</td>\n",
              "      <td>9.5</td>\n",
              "      <td>red</td>\n",
              "    </tr>\n",
              "    <tr>\n",
              "      <th>2</th>\n",
              "      <td>2</td>\n",
              "      <td>5</td>\n",
              "      <td>7.9</td>\n",
              "      <td>0.210</td>\n",
              "      <td>0.39</td>\n",
              "      <td>2.0</td>\n",
              "      <td>0.057</td>\n",
              "      <td>21.0</td>\n",
              "      <td>138.0</td>\n",
              "      <td>0.99176</td>\n",
              "      <td>3.05</td>\n",
              "      <td>0.52</td>\n",
              "      <td>10.9</td>\n",
              "      <td>white</td>\n",
              "    </tr>\n",
              "    <tr>\n",
              "      <th>3</th>\n",
              "      <td>3</td>\n",
              "      <td>6</td>\n",
              "      <td>7.0</td>\n",
              "      <td>0.210</td>\n",
              "      <td>0.31</td>\n",
              "      <td>6.0</td>\n",
              "      <td>0.046</td>\n",
              "      <td>29.0</td>\n",
              "      <td>108.0</td>\n",
              "      <td>0.99390</td>\n",
              "      <td>3.26</td>\n",
              "      <td>0.50</td>\n",
              "      <td>10.8</td>\n",
              "      <td>white</td>\n",
              "    </tr>\n",
              "    <tr>\n",
              "      <th>4</th>\n",
              "      <td>4</td>\n",
              "      <td>6</td>\n",
              "      <td>7.8</td>\n",
              "      <td>0.400</td>\n",
              "      <td>0.26</td>\n",
              "      <td>9.5</td>\n",
              "      <td>0.059</td>\n",
              "      <td>32.0</td>\n",
              "      <td>178.0</td>\n",
              "      <td>0.99550</td>\n",
              "      <td>3.04</td>\n",
              "      <td>0.43</td>\n",
              "      <td>10.9</td>\n",
              "      <td>white</td>\n",
              "    </tr>\n",
              "  </tbody>\n",
              "</table>\n",
              "</div>"
            ],
            "text/plain": [
              "   2index  quality  fixed acidity  ...  sulphates  alcohol   type\n",
              "0       0        5            5.6  ...       0.44     10.2  white\n",
              "1       1        5            8.8  ...       0.59      9.5    red\n",
              "2       2        5            7.9  ...       0.52     10.9  white\n",
              "3       3        6            7.0  ...       0.50     10.8  white\n",
              "4       4        6            7.8  ...       0.43     10.9  white\n",
              "\n",
              "[5 rows x 14 columns]"
            ]
          },
          "metadata": {},
          "execution_count": 83
        }
      ]
    },
    {
      "cell_type": "code",
      "metadata": {
        "colab": {
          "base_uri": "https://localhost:8080/"
        },
        "id": "DrmiEiSdRUNQ",
        "outputId": "6b988b9f-1356-4713-b97c-1ae6abed26da"
      },
      "source": [
        "# - quality 컬럼의 최대값, 최소값을 출력\n",
        "print(df.quality.max())\n",
        "print(df.quality.min())"
      ],
      "execution_count": null,
      "outputs": [
        {
          "output_type": "stream",
          "name": "stdout",
          "text": [
            "9\n",
            "3\n"
          ]
        }
      ]
    },
    {
      "cell_type": "code",
      "metadata": {
        "id": "84E3mb8JRgR_"
      },
      "source": [
        "#density 컬럼을 %로 변경한 컬럼 density_percent를 생성. 소수점 1자리만 남기고.\n",
        "df['density_percent'] = (df.density*1000).astype(np.int)/10."
      ],
      "execution_count": null,
      "outputs": []
    },
    {
      "cell_type": "code",
      "metadata": {
        "colab": {
          "base_uri": "https://localhost:8080/"
        },
        "id": "2fb9jV6UZfx4",
        "outputId": "26074013-3ab0-45e9-d7e9-8c74e9a60aab"
      },
      "source": [
        "DATA_COUNT = 5497\n",
        "UPPER_COUNT = int(5497*0.1)\n",
        "LOWER_COUNT = int(5497*0.9)\n",
        "print(UPPER_COUNT,LOWER_COUNT)\n",
        "UPPER_VALUE = df['fixed acidity'].sort_values()[549]\n",
        "LOWER_VALUE = df['fixed acidity'].sort_values()[4947]"
      ],
      "execution_count": null,
      "outputs": [
        {
          "output_type": "stream",
          "name": "stdout",
          "text": [
            "549 4947\n"
          ]
        }
      ]
    },
    {
      "cell_type": "code",
      "metadata": {
        "colab": {
          "base_uri": "https://localhost:8080/"
        },
        "id": "JVSsyVtjTB3-",
        "outputId": "21687565-40dd-4ff8-8af4-095460eb8c77"
      },
      "source": [
        "# fixed acidity 컬럼의 상위 10%, 하위 10% 값을 출력\n",
        "df1 = df['fixed acidity'].sort_values(ascending = False)\n",
        "df1\n",
        "df1.iloc[549]\n",
        "#상위 10% : 8.7\n",
        "df1.iloc[4947]\n",
        "#하위 10% : 5.9"
      ],
      "execution_count": null,
      "outputs": [
        {
          "output_type": "execute_result",
          "data": {
            "text/plain": [
              "6.0"
            ]
          },
          "metadata": {},
          "execution_count": 120
        }
      ]
    },
    {
      "cell_type": "code",
      "metadata": {
        "id": "GzdCrARBWxMU"
      },
      "source": [
        "# 새로운 컬럼 grade를 추가. fixed acidity 상위 10% 이상은 1, 하위 10% 이하는 3, 중간은 2의 값으로.\n",
        "df['grade'] = 2\n",
        "df.loc[df['fixed acidity']>=8.7,'grade'] = 1\n",
        "df.loc[df['fixed acidity']<=5.9,'grade'] = 3\n"
      ],
      "execution_count": null,
      "outputs": []
    },
    {
      "cell_type": "code",
      "metadata": {
        "colab": {
          "base_uri": "https://localhost:8080/",
          "height": 424
        },
        "id": "guolxtyLXZEZ",
        "outputId": "ca720a7e-c9cd-469a-dd79-ac383d53ca68"
      },
      "source": [
        "def get_grade(value):\n",
        "  if value >= UPPER_VALUE : return 1\n",
        "  elif value < LOWER_VALUE : return 3\n",
        "  else: return 2\n",
        "\n",
        "df['grade'] = df[['fixed acidity']].applymap(get_grade)"
      ],
      "execution_count": null,
      "outputs": [
        {
          "output_type": "execute_result",
          "data": {
            "text/html": [
              "<div>\n",
              "<style scoped>\n",
              "    .dataframe tbody tr th:only-of-type {\n",
              "        vertical-align: middle;\n",
              "    }\n",
              "\n",
              "    .dataframe tbody tr th {\n",
              "        vertical-align: top;\n",
              "    }\n",
              "\n",
              "    .dataframe thead th {\n",
              "        text-align: right;\n",
              "    }\n",
              "</style>\n",
              "<table border=\"1\" class=\"dataframe\">\n",
              "  <thead>\n",
              "    <tr style=\"text-align: right;\">\n",
              "      <th></th>\n",
              "      <th>2index</th>\n",
              "      <th>quality</th>\n",
              "      <th>fixed acidity</th>\n",
              "      <th>volatile acidity</th>\n",
              "      <th>citric acid</th>\n",
              "      <th>residual sugar</th>\n",
              "      <th>chlorides</th>\n",
              "      <th>free sulfur dioxide</th>\n",
              "      <th>total sulfur dioxide</th>\n",
              "      <th>density</th>\n",
              "      <th>pH</th>\n",
              "      <th>sulphates</th>\n",
              "      <th>alcohol</th>\n",
              "      <th>type</th>\n",
              "      <th>grade</th>\n",
              "      <th>density_percent</th>\n",
              "    </tr>\n",
              "  </thead>\n",
              "  <tbody>\n",
              "    <tr>\n",
              "      <th>0</th>\n",
              "      <td>0</td>\n",
              "      <td>5</td>\n",
              "      <td>5.6</td>\n",
              "      <td>0.695</td>\n",
              "      <td>0.06</td>\n",
              "      <td>6.8</td>\n",
              "      <td>0.042</td>\n",
              "      <td>9.0</td>\n",
              "      <td>84.0</td>\n",
              "      <td>0.99432</td>\n",
              "      <td>3.44</td>\n",
              "      <td>0.44</td>\n",
              "      <td>10.2</td>\n",
              "      <td>white</td>\n",
              "      <td>3</td>\n",
              "      <td>99.4</td>\n",
              "    </tr>\n",
              "    <tr>\n",
              "      <th>1</th>\n",
              "      <td>1</td>\n",
              "      <td>5</td>\n",
              "      <td>8.8</td>\n",
              "      <td>0.610</td>\n",
              "      <td>0.14</td>\n",
              "      <td>2.4</td>\n",
              "      <td>0.067</td>\n",
              "      <td>10.0</td>\n",
              "      <td>42.0</td>\n",
              "      <td>0.99690</td>\n",
              "      <td>3.19</td>\n",
              "      <td>0.59</td>\n",
              "      <td>9.5</td>\n",
              "      <td>red</td>\n",
              "      <td>1</td>\n",
              "      <td>99.6</td>\n",
              "    </tr>\n",
              "    <tr>\n",
              "      <th>2</th>\n",
              "      <td>2</td>\n",
              "      <td>5</td>\n",
              "      <td>7.9</td>\n",
              "      <td>0.210</td>\n",
              "      <td>0.39</td>\n",
              "      <td>2.0</td>\n",
              "      <td>0.057</td>\n",
              "      <td>21.0</td>\n",
              "      <td>138.0</td>\n",
              "      <td>0.99176</td>\n",
              "      <td>3.05</td>\n",
              "      <td>0.52</td>\n",
              "      <td>10.9</td>\n",
              "      <td>white</td>\n",
              "      <td>2</td>\n",
              "      <td>99.1</td>\n",
              "    </tr>\n",
              "    <tr>\n",
              "      <th>3</th>\n",
              "      <td>3</td>\n",
              "      <td>6</td>\n",
              "      <td>7.0</td>\n",
              "      <td>0.210</td>\n",
              "      <td>0.31</td>\n",
              "      <td>6.0</td>\n",
              "      <td>0.046</td>\n",
              "      <td>29.0</td>\n",
              "      <td>108.0</td>\n",
              "      <td>0.99390</td>\n",
              "      <td>3.26</td>\n",
              "      <td>0.50</td>\n",
              "      <td>10.8</td>\n",
              "      <td>white</td>\n",
              "      <td>2</td>\n",
              "      <td>99.3</td>\n",
              "    </tr>\n",
              "    <tr>\n",
              "      <th>4</th>\n",
              "      <td>4</td>\n",
              "      <td>6</td>\n",
              "      <td>7.8</td>\n",
              "      <td>0.400</td>\n",
              "      <td>0.26</td>\n",
              "      <td>9.5</td>\n",
              "      <td>0.059</td>\n",
              "      <td>32.0</td>\n",
              "      <td>178.0</td>\n",
              "      <td>0.99550</td>\n",
              "      <td>3.04</td>\n",
              "      <td>0.43</td>\n",
              "      <td>10.9</td>\n",
              "      <td>white</td>\n",
              "      <td>2</td>\n",
              "      <td>99.5</td>\n",
              "    </tr>\n",
              "    <tr>\n",
              "      <th>...</th>\n",
              "      <td>...</td>\n",
              "      <td>...</td>\n",
              "      <td>...</td>\n",
              "      <td>...</td>\n",
              "      <td>...</td>\n",
              "      <td>...</td>\n",
              "      <td>...</td>\n",
              "      <td>...</td>\n",
              "      <td>...</td>\n",
              "      <td>...</td>\n",
              "      <td>...</td>\n",
              "      <td>...</td>\n",
              "      <td>...</td>\n",
              "      <td>...</td>\n",
              "      <td>...</td>\n",
              "      <td>...</td>\n",
              "    </tr>\n",
              "    <tr>\n",
              "      <th>5492</th>\n",
              "      <td>5492</td>\n",
              "      <td>5</td>\n",
              "      <td>7.7</td>\n",
              "      <td>0.150</td>\n",
              "      <td>0.29</td>\n",
              "      <td>1.3</td>\n",
              "      <td>0.029</td>\n",
              "      <td>10.0</td>\n",
              "      <td>64.0</td>\n",
              "      <td>0.99320</td>\n",
              "      <td>3.35</td>\n",
              "      <td>0.39</td>\n",
              "      <td>10.1</td>\n",
              "      <td>white</td>\n",
              "      <td>2</td>\n",
              "      <td>99.3</td>\n",
              "    </tr>\n",
              "    <tr>\n",
              "      <th>5493</th>\n",
              "      <td>5493</td>\n",
              "      <td>6</td>\n",
              "      <td>6.3</td>\n",
              "      <td>0.180</td>\n",
              "      <td>0.36</td>\n",
              "      <td>1.2</td>\n",
              "      <td>0.034</td>\n",
              "      <td>26.0</td>\n",
              "      <td>111.0</td>\n",
              "      <td>0.99074</td>\n",
              "      <td>3.16</td>\n",
              "      <td>0.51</td>\n",
              "      <td>11.0</td>\n",
              "      <td>white</td>\n",
              "      <td>2</td>\n",
              "      <td>99.0</td>\n",
              "    </tr>\n",
              "    <tr>\n",
              "      <th>5494</th>\n",
              "      <td>5494</td>\n",
              "      <td>7</td>\n",
              "      <td>7.8</td>\n",
              "      <td>0.150</td>\n",
              "      <td>0.34</td>\n",
              "      <td>1.1</td>\n",
              "      <td>0.035</td>\n",
              "      <td>31.0</td>\n",
              "      <td>93.0</td>\n",
              "      <td>0.99096</td>\n",
              "      <td>3.07</td>\n",
              "      <td>0.72</td>\n",
              "      <td>11.3</td>\n",
              "      <td>white</td>\n",
              "      <td>2</td>\n",
              "      <td>99.0</td>\n",
              "    </tr>\n",
              "    <tr>\n",
              "      <th>5495</th>\n",
              "      <td>5495</td>\n",
              "      <td>5</td>\n",
              "      <td>6.6</td>\n",
              "      <td>0.410</td>\n",
              "      <td>0.31</td>\n",
              "      <td>1.6</td>\n",
              "      <td>0.042</td>\n",
              "      <td>18.0</td>\n",
              "      <td>101.0</td>\n",
              "      <td>0.99195</td>\n",
              "      <td>3.13</td>\n",
              "      <td>0.41</td>\n",
              "      <td>10.5</td>\n",
              "      <td>white</td>\n",
              "      <td>2</td>\n",
              "      <td>99.1</td>\n",
              "    </tr>\n",
              "    <tr>\n",
              "      <th>5496</th>\n",
              "      <td>5496</td>\n",
              "      <td>6</td>\n",
              "      <td>7.0</td>\n",
              "      <td>0.350</td>\n",
              "      <td>0.17</td>\n",
              "      <td>1.1</td>\n",
              "      <td>0.049</td>\n",
              "      <td>7.0</td>\n",
              "      <td>119.0</td>\n",
              "      <td>0.99297</td>\n",
              "      <td>3.13</td>\n",
              "      <td>0.36</td>\n",
              "      <td>9.7</td>\n",
              "      <td>white</td>\n",
              "      <td>2</td>\n",
              "      <td>99.2</td>\n",
              "    </tr>\n",
              "  </tbody>\n",
              "</table>\n",
              "<p>5497 rows × 16 columns</p>\n",
              "</div>"
            ],
            "text/plain": [
              "      2index  quality  fixed acidity  ...   type  grade  density_percent\n",
              "0          0        5            5.6  ...  white      3             99.4\n",
              "1          1        5            8.8  ...    red      1             99.6\n",
              "2          2        5            7.9  ...  white      2             99.1\n",
              "3          3        6            7.0  ...  white      2             99.3\n",
              "4          4        6            7.8  ...  white      2             99.5\n",
              "...      ...      ...            ...  ...    ...    ...              ...\n",
              "5492    5492        5            7.7  ...  white      2             99.3\n",
              "5493    5493        6            6.3  ...  white      2             99.0\n",
              "5494    5494        7            7.8  ...  white      2             99.0\n",
              "5495    5495        5            6.6  ...  white      2             99.1\n",
              "5496    5496        6            7.0  ...  white      2             99.2\n",
              "\n",
              "[5497 rows x 16 columns]"
            ]
          },
          "metadata": {},
          "execution_count": 113
        }
      ]
    },
    {
      "cell_type": "code",
      "metadata": {
        "id": "d9IE58DBczCX"
      },
      "source": [
        "df['density_percent']df['density_percent'].astype(np.str)+'%'"
      ],
      "execution_count": null,
      "outputs": []
    },
    {
      "cell_type": "markdown",
      "metadata": {
        "id": "W-SfhEvXesy6"
      },
      "source": [
        ""
      ]
    },
    {
      "cell_type": "markdown",
      "metadata": {
        "id": "0NmwRfgvevD7"
      },
      "source": [
        "### 데이터 삭제하기 - df.drop(인덱스 or columns, inplace = True) \n",
        "- 특정 조건의 행을 삭제하고 싶을 때는 \n",
        "- 해당 조건에 해당하는 인덱스를 구한 뒤 \n",
        "- 그 인덱스를 drop(index)로 해서 특정 행을 제거 함 "
      ]
    },
    {
      "cell_type": "code",
      "metadata": {
        "colab": {
          "base_uri": "https://localhost:8080/"
        },
        "id": "X92-8osietCB",
        "outputId": "20f6499c-977e-46d1-e1d4-822533062d26"
      },
      "source": [
        "df = pd.DataFrame(\n",
        "    {\"AAA\":[4,5,6,7],\n",
        "     \"BBB\":[10,20,30,40],\n",
        "     \"CCC\":[100,50,-30,-50]})\n",
        "\n",
        "print(df)\n",
        "df.drop(1, inplace = True) #1행을 제거 함, inplace가 없으면 액션의 결과만 보여 줌, inplace가 있으면 액션의 결과를 원본에 적용 함 \n",
        "print(df)"
      ],
      "execution_count": null,
      "outputs": [
        {
          "output_type": "stream",
          "name": "stdout",
          "text": [
            "   AAA  BBB  CCC\n",
            "0    4   10  100\n",
            "1    5   20   50\n",
            "2    6   30  -30\n",
            "3    7   40  -50\n",
            "   AAA  BBB  CCC\n",
            "0    4   10  100\n",
            "2    6   30  -30\n",
            "3    7   40  -50\n"
          ]
        }
      ]
    },
    {
      "cell_type": "code",
      "metadata": {
        "colab": {
          "base_uri": "https://localhost:8080/"
        },
        "id": "de4oXgcOfVdi",
        "outputId": "d58c0257-d194-4002-ed9f-83204a2c8e3a"
      },
      "source": [
        "### AAA 컬럼이 짝수인 것의 인덱스 출력 \n",
        "df.loc[df.AAA%2==0].index\n",
        "df[df['AAA']%2==0].index"
      ],
      "execution_count": null,
      "outputs": [
        {
          "output_type": "execute_result",
          "data": {
            "text/plain": [
              "Int64Index([0, 2], dtype='int64')"
            ]
          },
          "metadata": {},
          "execution_count": 175
        }
      ]
    },
    {
      "cell_type": "code",
      "metadata": {
        "colab": {
          "base_uri": "https://localhost:8080/"
        },
        "id": "hFGaC1MGgE9W",
        "outputId": "f4b95185-699b-4d75-8930-d0236fbf2f59"
      },
      "source": [
        "### 이 데이터 프레임에서 AAA가 짝수인 항목만 삭제 \n",
        "df.drop([0,2])\n",
        "target_index = df[df['AAA']%2==0].index\n",
        "df.drop(target_index,inplace = True)\n",
        "print(df)"
      ],
      "execution_count": null,
      "outputs": [
        {
          "output_type": "stream",
          "name": "stdout",
          "text": [
            "   AAA  BBB  CCC\n",
            "3    7   40  -50\n"
          ]
        }
      ]
    },
    {
      "cell_type": "code",
      "metadata": {
        "colab": {
          "base_uri": "https://localhost:8080/"
        },
        "id": "DvO5FW6NgmpY",
        "outputId": "c3381eec-a833-4945-902a-45053a4e25b5"
      },
      "source": [
        "df = pd.DataFrame(\n",
        "    {\"AAA\":['철수','영희','tom',''],\n",
        "     \"BBB\":[10,20,30,40],\n",
        "     \"CCC\":[100,50,-30,-50]})\n",
        "print(df)"
      ],
      "execution_count": null,
      "outputs": [
        {
          "output_type": "stream",
          "name": "stdout",
          "text": [
            "   AAA  BBB  CCC\n",
            "0   철수   10  100\n",
            "1   영희   20   50\n",
            "2  tom   30  -30\n",
            "3        40  -50\n"
          ]
        }
      ]
    },
    {
      "cell_type": "code",
      "metadata": {
        "colab": {
          "base_uri": "https://localhost:8080/",
          "height": 143
        },
        "id": "LxJwRbZZgvjo",
        "outputId": "d441a68a-823c-4aa3-b388-8bd01ce97842"
      },
      "source": [
        "#결측치 찾아서 삭제하기 \n",
        "target_index = df[df['AAA'].str.len() ==0].index\n",
        "df.drop(target_index)\n",
        "#결측치 찾아서 삭제하기 \n",
        "target_index = df.loc[df['AAA'] ==\"\"].index\n",
        "df.drop(target_index,inplace = True)"
      ],
      "execution_count": null,
      "outputs": [
        {
          "output_type": "execute_result",
          "data": {
            "text/html": [
              "<div>\n",
              "<style scoped>\n",
              "    .dataframe tbody tr th:only-of-type {\n",
              "        vertical-align: middle;\n",
              "    }\n",
              "\n",
              "    .dataframe tbody tr th {\n",
              "        vertical-align: top;\n",
              "    }\n",
              "\n",
              "    .dataframe thead th {\n",
              "        text-align: right;\n",
              "    }\n",
              "</style>\n",
              "<table border=\"1\" class=\"dataframe\">\n",
              "  <thead>\n",
              "    <tr style=\"text-align: right;\">\n",
              "      <th></th>\n",
              "      <th>AAA</th>\n",
              "      <th>BBB</th>\n",
              "      <th>CCC</th>\n",
              "    </tr>\n",
              "  </thead>\n",
              "  <tbody>\n",
              "    <tr>\n",
              "      <th>0</th>\n",
              "      <td>철수</td>\n",
              "      <td>10</td>\n",
              "      <td>100</td>\n",
              "    </tr>\n",
              "    <tr>\n",
              "      <th>1</th>\n",
              "      <td>영희</td>\n",
              "      <td>20</td>\n",
              "      <td>50</td>\n",
              "    </tr>\n",
              "    <tr>\n",
              "      <th>2</th>\n",
              "      <td>tom</td>\n",
              "      <td>30</td>\n",
              "      <td>-30</td>\n",
              "    </tr>\n",
              "  </tbody>\n",
              "</table>\n",
              "</div>"
            ],
            "text/plain": [
              "   AAA  BBB  CCC\n",
              "0   철수   10  100\n",
              "1   영희   20   50\n",
              "2  tom   30  -30"
            ]
          },
          "metadata": {},
          "execution_count": 193
        }
      ]
    },
    {
      "cell_type": "markdown",
      "metadata": {
        "id": "UayfqaePiqZQ"
      },
      "source": [
        "### 데이터 정렬하기 "
      ]
    },
    {
      "cell_type": "code",
      "metadata": {
        "id": "KISekcZch-yw"
      },
      "source": [
        "df = pd.DataFrame(\n",
        "    {\"AAA\":[4,5,6,7],\n",
        "     \"BBB\":[10,35,30,25],\n",
        "     \"CCC\":[100,50,-30,-50]})"
      ],
      "execution_count": null,
      "outputs": []
    },
    {
      "cell_type": "code",
      "metadata": {
        "colab": {
          "base_uri": "https://localhost:8080/"
        },
        "id": "wYv-j-6xiGG6",
        "outputId": "147fc88d-3b2f-47e7-b94e-8e3859f64b42"
      },
      "source": [
        "#BBB 를 기준으로 정렬 \n",
        "df.sort_values(by='BBB',inplace = True)\n",
        "print(df)"
      ],
      "execution_count": null,
      "outputs": [
        {
          "output_type": "stream",
          "name": "stdout",
          "text": [
            "   AAA  BBB  CCC\n",
            "0    4   10  100\n",
            "3    7   25  -50\n",
            "2    6   30  -30\n",
            "1    5   35   50\n"
          ]
        }
      ]
    },
    {
      "cell_type": "code",
      "metadata": {
        "colab": {
          "base_uri": "https://localhost:8080/"
        },
        "id": "HdGvH2cfiepw",
        "outputId": "6ed23eab-912c-446a-be6a-8644ee605fe6"
      },
      "source": [
        "#여러 기준으로 정렬하기 \n",
        "df = pd.DataFrame(\n",
        "    {\"AAA\":[4,5,6,7],\n",
        "     \"BBB\":[10,30,30,25],\n",
        "     \"CCC\":[100,50,-30,-50]})\n",
        "df.sort_values(by=['BBB','CCC'],inplace = True)\n",
        "print(df)"
      ],
      "execution_count": null,
      "outputs": [
        {
          "output_type": "stream",
          "name": "stdout",
          "text": [
            "   AAA  BBB  CCC\n",
            "0    4   10  100\n",
            "3    7   25  -50\n",
            "2    6   30  -30\n",
            "1    5   30   50\n"
          ]
        }
      ]
    },
    {
      "cell_type": "code",
      "metadata": {
        "id": "suknShvCj-5Y"
      },
      "source": [
        "df = pd.DataFrame(\n",
        "    {\"AAA\":[4,5,6,7],\n",
        "     \"BBB\":[10,30,30,25],\n",
        "     \"CCC\":[100,50,-30,-50]})"
      ],
      "execution_count": null,
      "outputs": []
    },
    {
      "cell_type": "code",
      "metadata": {
        "colab": {
          "base_uri": "https://localhost:8080/"
        },
        "id": "gFs7qvDKkmwD",
        "outputId": "09b26750-e1d7-4706-cceb-84da65676f5c"
      },
      "source": [
        "#CCC 컬럼의 절대값의 크기로 정렬하기 \n",
        "#조건으로 기준을 만든 뒤 이 기준대로 정렬 \n",
        "target = df['CCC'].abs().sort_values().index #절대값으로 정렬 후 해당 인덱스 순서대로 원본 데이터를 정렬 함 \n",
        "print(df.loc[target])\n",
        "print(df.loc[2,1,3,0])"
      ],
      "execution_count": null,
      "outputs": [
        {
          "output_type": "stream",
          "name": "stdout",
          "text": [
            "   AAA  BBB  CCC\n",
            "2    6   30  -30\n",
            "1    5   30   50\n",
            "3    7   25  -50\n",
            "0    4   10  100\n"
          ]
        }
      ]
    },
    {
      "cell_type": "code",
      "metadata": {
        "colab": {
          "base_uri": "https://localhost:8080/"
        },
        "id": "i6jvpGz9l1iu",
        "outputId": "cf68289a-a06d-4b8b-a04d-7c51b15dd1f4"
      },
      "source": [
        "#CCC중 10하고 가까운 순서 대로 정렬하기 \n",
        "print(df['CCC']-10) #CCC와 10과의 차이\n",
        "print((df['CCC']-10).abs()) #CCC와 10과의 차이 절대값 \n",
        "print((df['CCC']-10).abs().sort_values()) #절대값 기준으로 정렬 \n",
        "print((df['CCC']-10).abs().sort_values().index) #정렬한 인덱스 \n",
        "print(df.loc[(df['CCC']-10).abs().sort_values().index]) #정렬한 인덱스로 원본 정렬하기 \n",
        "print(df.loc[(df['CCC']-10).abs().argsort()]) #정렬한 인덱스로 원본 정렬하기 "
      ],
      "execution_count": null,
      "outputs": [
        {
          "output_type": "stream",
          "name": "stdout",
          "text": [
            "0    90\n",
            "1    40\n",
            "2   -40\n",
            "3   -60\n",
            "Name: CCC, dtype: int64\n",
            "0    90\n",
            "1    40\n",
            "2    40\n",
            "3    60\n",
            "Name: CCC, dtype: int64\n",
            "1    40\n",
            "2    40\n",
            "3    60\n",
            "0    90\n",
            "Name: CCC, dtype: int64\n",
            "Int64Index([1, 2, 3, 0], dtype='int64')\n",
            "   AAA  BBB  CCC\n",
            "1    5   30   50\n",
            "2    6   30  -30\n",
            "3    7   25  -50\n",
            "0    4   10  100\n",
            "   AAA  BBB  CCC\n",
            "1    5   30   50\n",
            "2    6   30  -30\n",
            "3    7   25  -50\n",
            "0    4   10  100\n"
          ]
        }
      ]
    },
    {
      "cell_type": "code",
      "metadata": {
        "colab": {
          "base_uri": "https://localhost:8080/"
        },
        "id": "jc-XMlBknRCW",
        "outputId": "f57ea49b-31ef-4336-ad01-1ed0bd69dd8b"
      },
      "source": [
        "a = np.array([1,3,5,2,4])\n",
        "print(np.argmax(a)) #arg시리즈는 다 인덱스를 호출 함 \n",
        "print(np.argsort(a)) #정렬하고 인덱스를 보여 줌 \n",
        "#판다스에서도 마찬가지로 argsort를 사용 가능 \n",
        "# argsort = sort_values().index와 동일"
      ],
      "execution_count": null,
      "outputs": [
        {
          "output_type": "stream",
          "name": "stdout",
          "text": [
            "2\n",
            "[0 3 1 4 2]\n"
          ]
        }
      ]
    },
    {
      "cell_type": "markdown",
      "metadata": {
        "id": "fIhkYg5QpYFG"
      },
      "source": [
        "### 데이터 카테고리화"
      ]
    },
    {
      "cell_type": "code",
      "metadata": {
        "colab": {
          "base_uri": "https://localhost:8080/"
        },
        "id": "rm8XNRQuoDdB",
        "outputId": "470a9653-7715-4254-efde-04fff4b272dc"
      },
      "source": [
        "#자동 카테고리화 \n",
        "#ABC를 012로 바꿔서 카테고리화 함 \n",
        "df = pd.DataFrame(\n",
        "    { \"num\" : [ 0,1,2,3,4,5,6,7,8,9],\n",
        "      \"name\" : [\"A\", \"A\", \"B\", \"B\", \"C\", \"C\", \"A\", \"A\", \"B\", \"B\"]\n",
        "     })\n",
        "print(df)\n",
        "\n",
        "df['name_category'] = df['name'].astype('category').cat.codes #df.name의 데이터를 카테고리화 하고 cat.codes 숫자 코드로 치환한 뒤 name_category 컬럼에 넣음 \n",
        "df['name'] = df['name'].astype('category').cat.codes #원본 데이터 덮어씌우기는 위험해서 잘 안함 \n",
        "print(df)\n",
        "print(df.info)"
      ],
      "execution_count": null,
      "outputs": [
        {
          "output_type": "stream",
          "name": "stdout",
          "text": [
            "   num name\n",
            "0    0    A\n",
            "1    1    A\n",
            "2    2    B\n",
            "3    3    B\n",
            "4    4    C\n",
            "5    5    C\n",
            "6    6    A\n",
            "7    7    A\n",
            "8    8    B\n",
            "9    9    B\n",
            "   num  name  name_category\n",
            "0    0     0              0\n",
            "1    1     0              0\n",
            "2    2     1              1\n",
            "3    3     1              1\n",
            "4    4     2              2\n",
            "5    5     2              2\n",
            "6    6     0              0\n",
            "7    7     0              0\n",
            "8    8     1              1\n",
            "9    9     1              1\n",
            "<bound method DataFrame.info of    num  name  name_category\n",
            "0    0     0              0\n",
            "1    1     0              0\n",
            "2    2     1              1\n",
            "3    3     1              1\n",
            "4    4     2              2\n",
            "5    5     2              2\n",
            "6    6     0              0\n",
            "7    7     0              0\n",
            "8    8     1              1\n",
            "9    9     1              1>\n"
          ]
        }
      ]
    },
    {
      "cell_type": "code",
      "metadata": {
        "colab": {
          "base_uri": "https://localhost:8080/"
        },
        "id": "XjeMzT7dqGZV",
        "outputId": "11b33e56-69b4-4216-bba9-418599c8a508"
      },
      "source": [
        "#특정 기준으로 카테고리화 하기 \n",
        "#여기서 types의 순서대로 0 1 2가 됨 \n",
        "#C가 0, B가 1 A가 2가 됨 \n",
        "df = pd.DataFrame(\n",
        "    { \"num\" : [ 0,1,2,3,4,5,6,7,8,9],\n",
        "      \"name\" : [\"A\", \"A\", \"B\", \"B\", \"C\", \"C\", \"A\", \"A\", \"B\", \"B\"]\n",
        "     })\n",
        "categories = [\"D\",\"C\",\"B\",\"A\"] #기준이 되는 카테고리의 갯수가 더 많아도 적용은 됨, 다만 숫자가 해당 인덱스로 바뀜 \n",
        "df['name_category'] = pd.Categorical(df['name'], categories=categories, ordered=True).codes\n",
        "print(df)"
      ],
      "execution_count": null,
      "outputs": [
        {
          "output_type": "stream",
          "name": "stdout",
          "text": [
            "   num name  name_category\n",
            "0    0    A              3\n",
            "1    1    A              3\n",
            "2    2    B              2\n",
            "3    3    B              2\n",
            "4    4    C              1\n",
            "5    5    C              1\n",
            "6    6    A              3\n",
            "7    7    A              3\n",
            "8    8    B              2\n",
            "9    9    B              2\n"
          ]
        }
      ]
    },
    {
      "cell_type": "code",
      "metadata": {
        "colab": {
          "base_uri": "https://localhost:8080/"
        },
        "id": "C94fgJmOr4dE",
        "outputId": "8d9b4136-a1b8-4ead-b4f8-a09872e53b8d"
      },
      "source": [
        "#기준 + 번호를 모두 정해서 카테고리화 하기 \n",
        "df = pd.DataFrame(\n",
        "    { \"num\" : [ 0,1,2,3,4,5,6,7,8,9],\n",
        "      \"name\" : [\"A\", \"A\", \"B\", \"B\", \"C\", \"C\", \"A\", \"A\", \"B\", \"B\"]\n",
        "     })\n",
        "\n",
        "category_map = {\"B\":0,\"C\":1,\"A\":2,\"D\":3}\n",
        "df['name_category'] = df['name'].map(category_map)\n",
        "print(df)"
      ],
      "execution_count": null,
      "outputs": [
        {
          "output_type": "stream",
          "name": "stdout",
          "text": [
            "   num name  name_category\n",
            "0    0    A              2\n",
            "1    1    A              2\n",
            "2    2    B              0\n",
            "3    3    B              0\n",
            "4    4    C              1\n",
            "5    5    C              1\n",
            "6    6    A              2\n",
            "7    7    A              2\n",
            "8    8    B              0\n",
            "9    9    B              0\n"
          ]
        }
      ]
    },
    {
      "cell_type": "markdown",
      "metadata": {
        "id": "Kl4J0Z9Bsesa"
      },
      "source": [
        "### 결측치 확인 "
      ]
    },
    {
      "cell_type": "code",
      "metadata": {
        "colab": {
          "base_uri": "https://localhost:8080/"
        },
        "id": "TBBIZ2s7sB_f",
        "outputId": "5c81452f-7712-4651-eb38-0e75ef3d7f21"
      },
      "source": [
        "df = pd.DataFrame([[np.nan, 2, np.nan, 0],\n",
        "                   [3, 4, np.nan, ],\n",
        "                   [np.nan, np.nan, np.nan, 5],\n",
        "                   [np.nan, 3, np.nan, 4]],\n",
        "                  columns=['A','B','C','D'])\n",
        "\n",
        "print(df)\n",
        "print(df.isnull()) #null 값인 것을 True로 반환 함 \n",
        "print(\"-\"*20)\n",
        "print(df.isnull().any()) #한개라도 null 값이 있으면 True라고 반환 함\n",
        "print(\"-\"*20)\n",
        "print(df.isnull().any().any()) #any를 두번 하면 전체 데이터 프레임 중에 null 값이 있는지 확인 가능 \n",
        "#isnull().any() 한번 하면 해당 컬럼에 null 값이 있는지 확인 \n",
        "#isnull().any().any() 이렇게 두번 하면 전체 데이터 프레임에 null값이 있는지 확인 "
      ],
      "execution_count": null,
      "outputs": [
        {
          "output_type": "stream",
          "name": "stdout",
          "text": [
            "     A    B   C    D\n",
            "0  NaN  2.0 NaN  0.0\n",
            "1  3.0  4.0 NaN  NaN\n",
            "2  NaN  NaN NaN  5.0\n",
            "3  NaN  3.0 NaN  4.0\n",
            "       A      B     C      D\n",
            "0   True  False  True  False\n",
            "1  False  False  True   True\n",
            "2   True   True  True  False\n",
            "3   True  False  True  False\n",
            "--------------------\n",
            "A    True\n",
            "B    True\n",
            "C    True\n",
            "D    True\n",
            "dtype: bool\n",
            "--------------------\n",
            "True\n"
          ]
        }
      ]
    },
    {
      "cell_type": "code",
      "metadata": {
        "colab": {
          "base_uri": "https://localhost:8080/"
        },
        "id": "tJ6lT5gnu0ie",
        "outputId": "d4d99ca1-d110-4521-ce69-590fc1159b87"
      },
      "source": [
        "#결측치 갯수 확인 \n",
        "df = pd.DataFrame([[np.nan, 2, np.nan, 0],\n",
        "                   [3, 4, np.nan,1 ],\n",
        "                   [np.nan, np.nan, np.nan, 5],\n",
        "                   [np.nan, 3, np.nan, 4]],\n",
        "                  columns=['A','B','C','D'])\n",
        "print(df)\n",
        "\n",
        "print(df.isnull().sum())\n",
        "print(df.isnull().sum().sum())\n",
        "#결측치가 있는 컬럼의 갯수 \n",
        "print(df.isnull().any().sum())"
      ],
      "execution_count": null,
      "outputs": [
        {
          "output_type": "stream",
          "name": "stdout",
          "text": [
            "     A    B   C  D\n",
            "0  NaN  2.0 NaN  0\n",
            "1  3.0  4.0 NaN  1\n",
            "2  NaN  NaN NaN  5\n",
            "3  NaN  3.0 NaN  4\n",
            "A    3\n",
            "B    1\n",
            "C    4\n",
            "D    0\n",
            "dtype: int64\n",
            "8\n",
            "3\n"
          ]
        }
      ]
    },
    {
      "cell_type": "code",
      "metadata": {
        "colab": {
          "base_uri": "https://localhost:8080/"
        },
        "id": "nvdLdnbNvNBn",
        "outputId": "78164ec8-e6ef-4411-ee2c-2f701e7db0ad"
      },
      "source": [
        "#컬럼별 결측치의 갯수 \n",
        "print(df.isnull().sum())\n",
        "#컬럼별 행의 갯수 \n",
        "print(len(df))\n",
        "#컬럼별 결측치의 비율 \n",
        "print(df.isnull().sum()/len(df))"
      ],
      "execution_count": null,
      "outputs": [
        {
          "output_type": "stream",
          "name": "stdout",
          "text": [
            "A    3\n",
            "B    1\n",
            "C    4\n",
            "D    0\n",
            "dtype: int64\n",
            "4\n",
            "A    0.75\n",
            "B    0.25\n",
            "C    1.00\n",
            "D    0.00\n",
            "dtype: float64\n"
          ]
        }
      ]
    },
    {
      "cell_type": "markdown",
      "metadata": {
        "id": "ElMipilcwSqZ"
      },
      "source": [
        "### 결측치 처리 "
      ]
    },
    {
      "cell_type": "code",
      "metadata": {
        "colab": {
          "base_uri": "https://localhost:8080/"
        },
        "id": "LKXjOtMbHIkh",
        "outputId": "7adca960-b625-41db-c8b9-30e1a5eec271"
      },
      "source": [
        "df= pd.read_csv('titanic.cs v')\n",
        "print(df.head(5))"
      ],
      "execution_count": null,
      "outputs": [
        {
          "output_type": "stream",
          "name": "stdout",
          "text": [
            "   PassengerId  Survived  Pclass  ...     Fare Cabin  Embarked\n",
            "0            1         0       3  ...   7.2500   NaN         S\n",
            "1            2         1       1  ...  71.2833   C85         C\n",
            "2            3         1       3  ...   7.9250   NaN         S\n",
            "3            4         1       1  ...  53.1000  C123         S\n",
            "4            5         0       3  ...   8.0500   NaN         S\n",
            "\n",
            "[5 rows x 12 columns]\n"
          ]
        }
      ]
    },
    {
      "cell_type": "markdown",
      "metadata": {
        "id": "pjHzyPfOmUQK"
      },
      "source": [
        "#### 결측치 확인 "
      ]
    },
    {
      "cell_type": "code",
      "metadata": {
        "id": "tpwkFRYAwSJo"
      },
      "source": [
        "#결측치 확인\n",
        "print(df_titanic.info)\n",
        "print(df_titanic.isnull().sum())\n",
        "print(len(df_titanic))\n",
        "print(df_titanic.isnull().sum()/len(df_titanic))"
      ],
      "execution_count": null,
      "outputs": []
    },
    {
      "cell_type": "markdown",
      "metadata": {
        "id": "HFy5d_YumYzC"
      },
      "source": [
        "#### 결측치 제거 "
      ]
    },
    {
      "cell_type": "code",
      "metadata": {
        "colab": {
          "base_uri": "https://localhost:8080/"
        },
        "id": "jV0JQLJZJDfn",
        "outputId": "08b15179-5f2b-4cd8-9f35-1c50d0320f0b"
      },
      "source": [
        "#Embarked의 결측치 인덱스 확인 \n",
        "target = df[df['Embarked'].isnull()].index\n",
        "#해당 인덱스 버리기\n",
        "df.drop(target,inplace = True)\n",
        "print(df.info())"
      ],
      "execution_count": null,
      "outputs": [
        {
          "output_type": "stream",
          "name": "stdout",
          "text": [
            "<class 'pandas.core.frame.DataFrame'>\n",
            "Int64Index: 889 entries, 0 to 890\n",
            "Data columns (total 12 columns):\n",
            " #   Column       Non-Null Count  Dtype  \n",
            "---  ------       --------------  -----  \n",
            " 0   PassengerId  889 non-null    int64  \n",
            " 1   Survived     889 non-null    int64  \n",
            " 2   Pclass       889 non-null    int64  \n",
            " 3   Name         889 non-null    object \n",
            " 4   Sex          889 non-null    object \n",
            " 5   Age          712 non-null    float64\n",
            " 6   SibSp        889 non-null    int64  \n",
            " 7   Parch        889 non-null    int64  \n",
            " 8   Ticket       889 non-null    object \n",
            " 9   Fare         889 non-null    float64\n",
            " 10  Cabin        202 non-null    object \n",
            " 11  Embarked     889 non-null    object \n",
            "dtypes: float64(2), int64(5), object(5)\n",
            "memory usage: 90.3+ KB\n",
            "None\n"
          ]
        }
      ]
    },
    {
      "cell_type": "code",
      "metadata": {
        "colab": {
          "base_uri": "https://localhost:8080/"
        },
        "id": "eIL684WuKA_w",
        "outputId": "1979f944-3017-483c-87d0-cca17c83c041"
      },
      "source": [
        "#Embarked 결측치 사라진 거 확인 \n",
        "print(df.isnull().sum())"
      ],
      "execution_count": null,
      "outputs": [
        {
          "output_type": "stream",
          "name": "stdout",
          "text": [
            "PassengerId      0\n",
            "Survived         0\n",
            "Pclass           0\n",
            "Name             0\n",
            "Sex              0\n",
            "Age            177\n",
            "SibSp            0\n",
            "Parch            0\n",
            "Ticket           0\n",
            "Fare             0\n",
            "Cabin          687\n",
            "Embarked         0\n",
            "dtype: int64\n"
          ]
        }
      ]
    },
    {
      "cell_type": "code",
      "metadata": {
        "colab": {
          "base_uri": "https://localhost:8080/"
        },
        "id": "ukCYNOx2KW6y",
        "outputId": "aa64e418-0407-4dbb-f398-fb303f1526bd"
      },
      "source": [
        "#Age 결측치 제거 후 컬럼 별 결측치 수 확인 \n",
        "df.drop(df[df['Age'].isnull()].index,inplace = True)\n",
        "print(df.isnull().sum())\n",
        "#Cabin 결측치 제거 \n",
        "df.drop(df[df['Cabin'].isnull()].index,inplace = True)\n",
        "print(df.isnull().sum())"
      ],
      "execution_count": null,
      "outputs": [
        {
          "output_type": "stream",
          "name": "stdout",
          "text": [
            "PassengerId      0\n",
            "Survived         0\n",
            "Pclass           0\n",
            "Name             0\n",
            "Sex              0\n",
            "Age              0\n",
            "SibSp            0\n",
            "Parch            0\n",
            "Ticket           0\n",
            "Fare             0\n",
            "Cabin          529\n",
            "Embarked         0\n",
            "dtype: int64\n"
          ]
        }
      ]
    },
    {
      "cell_type": "code",
      "metadata": {
        "colab": {
          "base_uri": "https://localhost:8080/"
        },
        "id": "fU1ph5oRKfDx",
        "outputId": "5aed1750-9fdd-4efb-c4c9-3c1ca164d18e"
      },
      "source": [
        "#기준 없이 null 있는 모든 행 제거 \n",
        "print(df.info()) #기존의 info를 보면 총 행의 수는 891이지만 몇몇 null값이 있는 경우 891보다 작음 \n",
        "df.dropna(inplace=True) #조건 상관 없이 null가 있으면 모두 제거 \n",
        "print('-'*50)\n",
        "print(df.info()) #null 제거 후 보면 총 행의 수는 183개, 모든 컬럼이 동일 "
      ],
      "execution_count": null,
      "outputs": [
        {
          "output_type": "stream",
          "name": "stdout",
          "text": [
            "<class 'pandas.core.frame.DataFrame'>\n",
            "RangeIndex: 891 entries, 0 to 890\n",
            "Data columns (total 12 columns):\n",
            " #   Column       Non-Null Count  Dtype  \n",
            "---  ------       --------------  -----  \n",
            " 0   PassengerId  891 non-null    int64  \n",
            " 1   Survived     891 non-null    int64  \n",
            " 2   Pclass       891 non-null    int64  \n",
            " 3   Name         891 non-null    object \n",
            " 4   Sex          891 non-null    object \n",
            " 5   Age          714 non-null    float64\n",
            " 6   SibSp        891 non-null    int64  \n",
            " 7   Parch        891 non-null    int64  \n",
            " 8   Ticket       891 non-null    object \n",
            " 9   Fare         891 non-null    float64\n",
            " 10  Cabin        204 non-null    object \n",
            " 11  Embarked     889 non-null    object \n",
            "dtypes: float64(2), int64(5), object(5)\n",
            "memory usage: 83.7+ KB\n",
            "None\n",
            "--------------------------------------------------\n",
            "<class 'pandas.core.frame.DataFrame'>\n",
            "Int64Index: 183 entries, 1 to 889\n",
            "Data columns (total 12 columns):\n",
            " #   Column       Non-Null Count  Dtype  \n",
            "---  ------       --------------  -----  \n",
            " 0   PassengerId  183 non-null    int64  \n",
            " 1   Survived     183 non-null    int64  \n",
            " 2   Pclass       183 non-null    int64  \n",
            " 3   Name         183 non-null    object \n",
            " 4   Sex          183 non-null    object \n",
            " 5   Age          183 non-null    float64\n",
            " 6   SibSp        183 non-null    int64  \n",
            " 7   Parch        183 non-null    int64  \n",
            " 8   Ticket       183 non-null    object \n",
            " 9   Fare         183 non-null    float64\n",
            " 10  Cabin        183 non-null    object \n",
            " 11  Embarked     183 non-null    object \n",
            "dtypes: float64(2), int64(5), object(5)\n",
            "memory usage: 18.6+ KB\n",
            "None\n"
          ]
        }
      ]
    },
    {
      "cell_type": "code",
      "metadata": {
        "colab": {
          "base_uri": "https://localhost:8080/"
        },
        "id": "RJTtXFNvL2vj",
        "outputId": "2403abfc-136e-4fa6-e995-fdef779a302a"
      },
      "source": [
        "#null 값이 있는 컬럼 제거\n",
        "df= pd.read_csv('titanic.csv')\n",
        "print(df.head(5))"
      ],
      "execution_count": null,
      "outputs": [
        {
          "output_type": "stream",
          "name": "stdout",
          "text": [
            "   PassengerId  Survived  Pclass  ...     Fare Cabin  Embarked\n",
            "0            1         0       3  ...   7.2500   NaN         S\n",
            "1            2         1       1  ...  71.2833   C85         C\n",
            "2            3         1       3  ...   7.9250   NaN         S\n",
            "3            4         1       1  ...  53.1000  C123         S\n",
            "4            5         0       3  ...   8.0500   NaN         S\n",
            "\n",
            "[5 rows x 12 columns]\n"
          ]
        }
      ]
    },
    {
      "cell_type": "code",
      "metadata": {
        "colab": {
          "base_uri": "https://localhost:8080/"
        },
        "id": "jRMWZwIQMTkc",
        "outputId": "674abdcc-600c-4ebe-9e20-3a41976bef5b"
      },
      "source": [
        "df.info()"
      ],
      "execution_count": null,
      "outputs": [
        {
          "output_type": "stream",
          "name": "stdout",
          "text": [
            "<class 'pandas.core.frame.DataFrame'>\n",
            "RangeIndex: 891 entries, 0 to 890\n",
            "Data columns (total 12 columns):\n",
            " #   Column       Non-Null Count  Dtype  \n",
            "---  ------       --------------  -----  \n",
            " 0   PassengerId  891 non-null    int64  \n",
            " 1   Survived     891 non-null    int64  \n",
            " 2   Pclass       891 non-null    int64  \n",
            " 3   Name         891 non-null    object \n",
            " 4   Sex          891 non-null    object \n",
            " 5   Age          714 non-null    float64\n",
            " 6   SibSp        891 non-null    int64  \n",
            " 7   Parch        891 non-null    int64  \n",
            " 8   Ticket       891 non-null    object \n",
            " 9   Fare         891 non-null    float64\n",
            " 10  Cabin        204 non-null    object \n",
            " 11  Embarked     889 non-null    object \n",
            "dtypes: float64(2), int64(5), object(5)\n",
            "memory usage: 83.7+ KB\n"
          ]
        }
      ]
    },
    {
      "cell_type": "code",
      "metadata": {
        "colab": {
          "base_uri": "https://localhost:8080/"
        },
        "id": "hryHmXfgMIJZ",
        "outputId": "32bca321-eaed-4a89-e7a7-828b40af886b"
      },
      "source": [
        "df.drop(columns=['Embarked','Age','Cabin'],inplace = True)\n",
        "print(df.isnull().any().any()) #Null 값이 DF에 없으므로 False가 나옴 "
      ],
      "execution_count": null,
      "outputs": [
        {
          "output_type": "stream",
          "name": "stdout",
          "text": [
            "False\n"
          ]
        }
      ]
    },
    {
      "cell_type": "markdown",
      "metadata": {
        "id": "8_JnOCB7myMV"
      },
      "source": [
        "#### 결측치에 특정 값 넣기 "
      ]
    },
    {
      "cell_type": "code",
      "metadata": {
        "colab": {
          "base_uri": "https://localhost:8080/"
        },
        "id": "gIQ0XDJbM93y",
        "outputId": "c924669f-d0f9-44fd-a2c9-657495ac1783"
      },
      "source": [
        "#결측치에 특정 값 넣기\n",
        "#isnull에 0 넣기 \n",
        "df= pd.read_csv('titanic.csv')\n",
        "df.loc[df.Age.isnull(),'Age'] = 0\n",
        "# df['Age'][df.Age.isnull()] = 0 \n",
        "df.isnull().sum()\n"
      ],
      "execution_count": null,
      "outputs": [
        {
          "output_type": "execute_result",
          "data": {
            "text/plain": [
              "PassengerId      0\n",
              "Survived         0\n",
              "Pclass           0\n",
              "Name             0\n",
              "Sex              0\n",
              "Age            177\n",
              "SibSp            0\n",
              "Parch            0\n",
              "Ticket           0\n",
              "Fare             0\n",
              "Cabin          687\n",
              "Embarked         2\n",
              "dtype: int64"
            ]
          },
          "metadata": {},
          "execution_count": 421
        }
      ]
    },
    {
      "cell_type": "code",
      "metadata": {
        "colab": {
          "base_uri": "https://localhost:8080/"
        },
        "id": "-GPkRH8YNkP4",
        "outputId": "987d9413-8cb9-4c98-c1f4-dafe552111eb"
      },
      "source": [
        "#결측치에 특정 값 넣기 \n",
        "#isnull에 평균값 넣기\n",
        "#1. notnull 평균값 구하기 \n",
        "df= pd.read_csv('titanic.csv')\n",
        "print(df.Age.loc[df.Age !=df.Age.isnull()].mean())\n",
        "print(df.Age.mean())\n",
        "print(df.Age[df.Age.notnull()].mean())\n",
        "age_mean = df.Age.loc[df.Age.notnull()].mean()\n",
        "print(age_mean)\n",
        "df.loc[df.Age.isnull(), 'Age'] = age_mean\n",
        "print(df.isnull().sum())"
      ],
      "execution_count": null,
      "outputs": [
        {
          "output_type": "stream",
          "name": "stdout",
          "text": [
            "29.69911764705882\n",
            "29.69911764705882\n",
            "29.69911764705882\n",
            "29.69911764705882\n",
            "PassengerId      0\n",
            "Survived         0\n",
            "Pclass           0\n",
            "Name             0\n",
            "Sex              0\n",
            "Age              0\n",
            "SibSp            0\n",
            "Parch            0\n",
            "Ticket           0\n",
            "Fare             0\n",
            "Cabin          687\n",
            "Embarked         2\n",
            "dtype: int64\n"
          ]
        }
      ]
    },
    {
      "cell_type": "code",
      "metadata": {
        "colab": {
          "base_uri": "https://localhost:8080/"
        },
        "id": "labO8JXcOzJn",
        "outputId": "b257a33b-eff3-4e98-f918-b05cdf9aef7f"
      },
      "source": [
        "#AGe : 평균으로 대체 \n",
        "#Cabin : 컬럼 버리기 \n",
        "#Embarked : 데이터 버리기 \n",
        "df= pd.read_csv('titanic.csv')\n",
        "print(df.isnull().sum())"
      ],
      "execution_count": null,
      "outputs": [
        {
          "output_type": "stream",
          "name": "stdout",
          "text": [
            "PassengerId      0\n",
            "Survived         0\n",
            "Pclass           0\n",
            "Name             0\n",
            "Sex              0\n",
            "Age            177\n",
            "SibSp            0\n",
            "Parch            0\n",
            "Ticket           0\n",
            "Fare             0\n",
            "Cabin          687\n",
            "Embarked         2\n",
            "dtype: int64\n"
          ]
        }
      ]
    },
    {
      "cell_type": "code",
      "metadata": {
        "id": "s4qad3sGSBdB"
      },
      "source": [
        "#Age : 평균으로 대체 \n",
        "df.loc[df.Age.isnull(),'Age'] = df.Age[df.Age.notnull()].mean()\n",
        "#Cabin : 컬럼 버리기 \n",
        "df.drop(columns = 'Cabin',inplace = True)\n",
        "#Embarked : 데이터 로우 버리기 \n",
        "df.drop(df.Embarked[df.Embarked.isnull()].index,inplace = True)"
      ],
      "execution_count": null,
      "outputs": []
    },
    {
      "cell_type": "code",
      "metadata": {
        "colab": {
          "base_uri": "https://localhost:8080/"
        },
        "id": "3toDogpISP4V",
        "outputId": "bcb461d9-7adb-4deb-bcb6-0f97d78d250f"
      },
      "source": [
        "df.isnull().sum()"
      ],
      "execution_count": null,
      "outputs": [
        {
          "output_type": "execute_result",
          "data": {
            "text/plain": [
              "PassengerId    0\n",
              "Survived       0\n",
              "Pclass         0\n",
              "Name           0\n",
              "Sex            0\n",
              "Age            0\n",
              "SibSp          0\n",
              "Parch          0\n",
              "Ticket         0\n",
              "Fare           0\n",
              "Embarked       0\n",
              "dtype: int64"
            ]
          },
          "metadata": {},
          "execution_count": 516
        }
      ]
    },
    {
      "cell_type": "code",
      "metadata": {
        "colab": {
          "base_uri": "https://localhost:8080/"
        },
        "id": "t30oI5F6UugA",
        "outputId": "2fb35041-f205-44a9-b2a5-b3f0c0c48dbe"
      },
      "source": [
        "#조건을 다 만들어서 한번에 적용시키기 \n",
        "df= pd.read_csv('titanic.csv')\n",
        "age_mean = df.loc[df.Age.notnull()].Age.mean()\n",
        "\n",
        "default_value={'Age':age_mean,'Cabin':'UNKNOWN','Embarked':'N'}\n",
        "df.fillna(default_value, inplace = True)\n",
        "print(df.isnull().sum())"
      ],
      "execution_count": null,
      "outputs": [
        {
          "output_type": "stream",
          "name": "stdout",
          "text": [
            "PassengerId    0\n",
            "Survived       0\n",
            "Pclass         0\n",
            "Name           0\n",
            "Sex            0\n",
            "Age            0\n",
            "SibSp          0\n",
            "Parch          0\n",
            "Ticket         0\n",
            "Fare           0\n",
            "Cabin          0\n",
            "Embarked       0\n",
            "dtype: int64\n"
          ]
        }
      ]
    },
    {
      "cell_type": "markdown",
      "metadata": {
        "id": "rwKoQTdQWX2N"
      },
      "source": [
        "#### 결측치 바로 앞의 데이터로 처리하기 "
      ]
    },
    {
      "cell_type": "code",
      "metadata": {
        "colab": {
          "base_uri": "https://localhost:8080/"
        },
        "id": "qkRnX0ZpV30x",
        "outputId": "9f9c47ae-2bf5-4ec7-8845-baa5afa753db"
      },
      "source": [
        "#시계열\n",
        "#시계열 데이터의 경우 시간에 따라 다른 경향을 보여주기 때문에 평균 보다는 바로 앞의 값을 채워 넣는 것이 정확 \n",
        "df = pd.DataFrame([[np.nan, 2, np.nan, 0],\n",
        "                   [3, 4, np.nan, 1],\n",
        "                   [np.nan, np.nan, np.nan, 5],\n",
        "                   [np.nan, 3, np.nan, 4]],\n",
        "                  columns=list('ABCD'))\n",
        "\n",
        "print(df)\n",
        "print(df.fillna(method= \"ffill\")) #ffill 은 앞의 값으로 채워 넣음, bfill은 뒤의 값으로 채워 넣음 \n",
        "print(df.fillna(method= \"bfill\"))\n"
      ],
      "execution_count": null,
      "outputs": [
        {
          "output_type": "stream",
          "name": "stdout",
          "text": [
            "     A    B   C  D\n",
            "0  NaN  2.0 NaN  0\n",
            "1  3.0  4.0 NaN  1\n",
            "2  NaN  NaN NaN  5\n",
            "3  NaN  3.0 NaN  4\n",
            "     A    B   C  D\n",
            "0  NaN  2.0 NaN  0\n",
            "1  3.0  4.0 NaN  1\n",
            "2  3.0  4.0 NaN  5\n",
            "3  3.0  3.0 NaN  4\n",
            "     A    B   C  D\n",
            "0  3.0  2.0 NaN  0\n",
            "1  3.0  4.0 NaN  1\n",
            "2  NaN  3.0 NaN  5\n",
            "3  NaN  3.0 NaN  4\n"
          ]
        }
      ]
    },
    {
      "cell_type": "markdown",
      "metadata": {
        "id": "J-46bECtXm9_"
      },
      "source": [
        "### 정규화, 표준화 "
      ]
    },
    {
      "cell_type": "code",
      "metadata": {
        "colab": {
          "base_uri": "https://localhost:8080/"
        },
        "id": "F8jige_MXk7P",
        "outputId": "8891579b-1328-4258-c1d8-752162f2ccd5"
      },
      "source": [
        "#조건을 다 만들어서 한번에 적용시키기 \n",
        "df= pd.read_csv('titanic.csv')\n",
        "age_mean = df.loc[df.Age.notnull()].Age.mean()\n",
        "\n",
        "default_value={'Age':age_mean,'Cabin':'UNKNOWN','Embarked':'N'}\n",
        "df.fillna(default_value, inplace = True)\n",
        "print(df.isnull().sum())"
      ],
      "execution_count": null,
      "outputs": [
        {
          "output_type": "stream",
          "name": "stdout",
          "text": [
            "PassengerId    0\n",
            "Survived       0\n",
            "Pclass         0\n",
            "Name           0\n",
            "Sex            0\n",
            "Age            0\n",
            "SibSp          0\n",
            "Parch          0\n",
            "Ticket         0\n",
            "Fare           0\n",
            "Cabin          0\n",
            "Embarked       0\n",
            "dtype: int64\n"
          ]
        }
      ]
    },
    {
      "cell_type": "code",
      "metadata": {
        "colab": {
          "base_uri": "https://localhost:8080/"
        },
        "id": "pJGR1bS_X2c-",
        "outputId": "9e87e339-f5a5-4af5-b6b5-362f0ef4b24d"
      },
      "source": [
        "#Age normalize 시키기 \n",
        "#최소값을 0, 최대값을 1로 하는 것 \n",
        "#Normalization\n",
        "print(df.Age.max())\n",
        "print(df.Age.min())\n",
        "max = df.Age.max()\n",
        "min = df.Age.min()\n",
        "df['Age_normalized'] = (df.Age-min) / (max-min)"
      ],
      "execution_count": null,
      "outputs": [
        {
          "output_type": "stream",
          "name": "stdout",
          "text": [
            "80.0\n",
            "0.42\n"
          ]
        }
      ]
    },
    {
      "cell_type": "code",
      "metadata": {
        "colab": {
          "base_uri": "https://localhost:8080/",
          "height": 283
        },
        "id": "8Hrg51NiYvLY",
        "outputId": "f7e82380-d802-45ed-c30a-1ce770abd408"
      },
      "source": [
        "df.Age_normalized.hist()"
      ],
      "execution_count": null,
      "outputs": [
        {
          "output_type": "execute_result",
          "data": {
            "text/plain": [
              "<matplotlib.axes._subplots.AxesSubplot at 0x7fa821b8ced0>"
            ]
          },
          "metadata": {},
          "execution_count": 537
        },
        {
          "output_type": "display_data",
          "data": {
            "image/png": "[encoded data removed]",
            "text/plain": [
              "<Figure size 432x288 with 1 Axes>"
            ]
          },
          "metadata": {
            "needs_background": "light"
          }
        }
      ]
    },
    {
      "cell_type": "code",
      "metadata": {
        "colab": {
          "base_uri": "https://localhost:8080/"
        },
        "id": "JaNIJ1kEZRnn",
        "outputId": "6af3db2d-d505-43a4-f101-2d54e6c57a2f"
      },
      "source": [
        "#standard\n",
        "\n",
        "#Age normalize 시키기 \n",
        "#최소값을 0, 최대값을 1로 하는 것 \n",
        "#Normalization\n",
        "print(df.Age.max())\n",
        "print(df.Age.min())\n",
        "max = df.Age.max()\n",
        "min = df.Age.min()\n",
        "mean = df.Age.mean()\n",
        "std = df.Age.std()\n",
        "df['Age_standardization'] = (df.Age-mean) / std"
      ],
      "execution_count": null,
      "outputs": [
        {
          "output_type": "stream",
          "name": "stdout",
          "text": [
            "80.0\n",
            "0.42\n"
          ]
        }
      ]
    },
    {
      "cell_type": "code",
      "metadata": {
        "colab": {
          "base_uri": "https://localhost:8080/",
          "height": 283
        },
        "id": "b9bbQiwBZc8o",
        "outputId": "781b66dd-5a33-4469-862e-c8c5addf72a0"
      },
      "source": [
        "df.Age_standardization.hist()"
      ],
      "execution_count": null,
      "outputs": [
        {
          "output_type": "execute_result",
          "data": {
            "text/plain": [
              "<matplotlib.axes._subplots.AxesSubplot at 0x7fa821ad6050>"
            ]
          },
          "metadata": {},
          "execution_count": 539
        },
        {
          "output_type": "display_data",
          "data": {
            "image/png": "[encoded data removed]",
            "text/plain": [
              "<Figure size 432x288 with 1 Axes>"
            ]
          },
          "metadata": {
            "needs_background": "light"
          }
        }
      ]
    },
    {
      "cell_type": "markdown",
      "metadata": {
        "id": "Dta5booXcHtw"
      },
      "source": [
        "### 판다스 - 넘파이 "
      ]
    },
    {
      "cell_type": "code",
      "metadata": {
        "colab": {
          "base_uri": "https://localhost:8080/"
        },
        "id": "35C2-ankaxVx",
        "outputId": "cb0752d7-85bf-486b-a399-bc28eec7291b"
      },
      "source": [
        "df = pd.DataFrame({ \n",
        "        \"num\" : [ 0,1,2,3,4,5,6,7,8,9],\n",
        "        \"name\" : [\"A\", \"A\", \"B\", \"B\", \"C\", \"C\", \"A\", \"A\", \"B\", \"B\"]\n",
        "     })\n",
        "# print(df)\n",
        "\n",
        "df['name_category'] = df['name'].astype('category').cat.codes\n",
        "df.drop(columns=\"name\", inplace=True)\n",
        "print(df)\n",
        "\n",
        "a = df.to_numpy()\n",
        "\n",
        "print(a)"
      ],
      "execution_count": null,
      "outputs": [
        {
          "output_type": "stream",
          "name": "stdout",
          "text": [
            "   num  name_category\n",
            "0    0              0\n",
            "1    1              0\n",
            "2    2              1\n",
            "3    3              1\n",
            "4    4              2\n",
            "5    5              2\n",
            "6    6              0\n",
            "7    7              0\n",
            "8    8              1\n",
            "9    9              1\n",
            "[[0 0]\n",
            " [1 0]\n",
            " [2 1]\n",
            " [3 1]\n",
            " [4 2]\n",
            " [5 2]\n",
            " [6 0]\n",
            " [7 0]\n",
            " [8 1]\n",
            " [9 1]]\n"
          ]
        }
      ]
    },
    {
      "cell_type": "code",
      "metadata": {
        "colab": {
          "base_uri": "https://localhost:8080/"
        },
        "id": "N2uW5Ml1bc5e",
        "outputId": "824a77c2-1e2c-46a3-b3e4-a5a77ebbfa83"
      },
      "source": [
        "df.to_csv('my_data.csv',index = False) #index = False 하면 인덱스 없이 추출 함 \n",
        "!head my_data.csv"
      ],
      "execution_count": null,
      "outputs": [
        {
          "output_type": "stream",
          "name": "stdout",
          "text": [
            "num,name_category\n",
            "0,0\n",
            "1,0\n",
            "2,1\n",
            "3,1\n",
            "4,2\n",
            "5,2\n",
            "6,0\n",
            "7,0\n",
            "8,1\n"
          ]
        }
      ]
    },
    {
      "cell_type": "markdown",
      "metadata": {
        "id": "VP9lXpsjcuZI"
      },
      "source": [
        "### 엑셀파일"
      ]
    },
    {
      "cell_type": "code",
      "metadata": {
        "colab": {
          "base_uri": "https://localhost:8080/"
        },
        "id": "bmNfVxnVctru",
        "outputId": "f8826b58-b521-43ca-9c9d-8299ae9d3af4"
      },
      "source": [
        "!wget https://github.com/bharathirajatut/sample-excel-dataset/raw/master/airline.xls"
      ],
      "execution_count": null,
      "outputs": [
        {
          "output_type": "stream",
          "name": "stdout",
          "text": [
            "--2021-11-24 05:37:35--  https://github.com/bharathirajatut/sample-excel-dataset/raw/master/airline.xls\n",
            "Resolving github.com (github.com)... 140.82.114.3\n",
            "Connecting to github.com (github.com)|140.82.114.3|:443... connected.\n",
            "HTTP request sent, awaiting response... 302 Found\n",
            "Location: https://raw.githubusercontent.com/bharathirajatut/sample-excel-dataset/master/airline.xls [following]\n",
            "--2021-11-24 05:37:35--  https://raw.githubusercontent.com/bharathirajatut/sample-excel-dataset/master/airline.xls\n",
            "Resolving raw.githubusercontent.com (raw.githubusercontent.com)... 185.199.109.133, 185.199.111.133, 185.199.108.133, ...\n",
            "Connecting to raw.githubusercontent.com (raw.githubusercontent.com)|185.199.109.133|:443... connected.\n",
            "HTTP request sent, awaiting response... 200 OK\n",
            "Length: 16384 (16K) [application/octet-stream]\n",
            "Saving to: ‘airline.xls’\n",
            "\n",
            "airline.xls         100%[===================>]  16.00K  --.-KB/s    in 0s      \n",
            "\n",
            "2021-11-24 05:37:35 (90.8 MB/s) - ‘airline.xls’ saved [16384/16384]\n",
            "\n"
          ]
        }
      ]
    },
    {
      "cell_type": "code",
      "metadata": {
        "colab": {
          "base_uri": "https://localhost:8080/",
          "height": 206
        },
        "id": "8V0vAqIuc9VJ",
        "outputId": "cfcf0f7d-0f3a-4f90-91c4-009380ddca21"
      },
      "source": [
        "#엑셀파일 호출 \n",
        "df = pd.read_excel('airline.xls')\n",
        "df.head()"
      ],
      "execution_count": null,
      "outputs": [
        {
          "output_type": "execute_result",
          "data": {
            "text/html": [
              "<div>\n",
              "<style scoped>\n",
              "    .dataframe tbody tr th:only-of-type {\n",
              "        vertical-align: middle;\n",
              "    }\n",
              "\n",
              "    .dataframe tbody tr th {\n",
              "        vertical-align: top;\n",
              "    }\n",
              "\n",
              "    .dataframe thead th {\n",
              "        text-align: right;\n",
              "    }\n",
              "</style>\n",
              "<table border=\"1\" class=\"dataframe\">\n",
              "  <thead>\n",
              "    <tr style=\"text-align: right;\">\n",
              "      <th></th>\n",
              "      <th>YEAR</th>\n",
              "      <th>Y</th>\n",
              "      <th>W</th>\n",
              "      <th>R</th>\n",
              "      <th>L</th>\n",
              "      <th>K</th>\n",
              "    </tr>\n",
              "  </thead>\n",
              "  <tbody>\n",
              "    <tr>\n",
              "      <th>0</th>\n",
              "      <td>1948</td>\n",
              "      <td>1.214</td>\n",
              "      <td>0.243</td>\n",
              "      <td>0.1454</td>\n",
              "      <td>1.415</td>\n",
              "      <td>0.612</td>\n",
              "    </tr>\n",
              "    <tr>\n",
              "      <th>1</th>\n",
              "      <td>1949</td>\n",
              "      <td>1.354</td>\n",
              "      <td>0.260</td>\n",
              "      <td>0.2181</td>\n",
              "      <td>1.384</td>\n",
              "      <td>0.559</td>\n",
              "    </tr>\n",
              "    <tr>\n",
              "      <th>2</th>\n",
              "      <td>1950</td>\n",
              "      <td>1.569</td>\n",
              "      <td>0.278</td>\n",
              "      <td>0.3157</td>\n",
              "      <td>1.388</td>\n",
              "      <td>0.573</td>\n",
              "    </tr>\n",
              "    <tr>\n",
              "      <th>3</th>\n",
              "      <td>1951</td>\n",
              "      <td>1.948</td>\n",
              "      <td>0.297</td>\n",
              "      <td>0.3940</td>\n",
              "      <td>1.550</td>\n",
              "      <td>0.564</td>\n",
              "    </tr>\n",
              "    <tr>\n",
              "      <th>4</th>\n",
              "      <td>1952</td>\n",
              "      <td>2.265</td>\n",
              "      <td>0.310</td>\n",
              "      <td>0.3559</td>\n",
              "      <td>1.802</td>\n",
              "      <td>0.574</td>\n",
              "    </tr>\n",
              "  </tbody>\n",
              "</table>\n",
              "</div>"
            ],
            "text/plain": [
              "   YEAR      Y      W       R      L      K\n",
              "0  1948  1.214  0.243  0.1454  1.415  0.612\n",
              "1  1949  1.354  0.260  0.2181  1.384  0.559\n",
              "2  1950  1.569  0.278  0.3157  1.388  0.573\n",
              "3  1951  1.948  0.297  0.3940  1.550  0.564\n",
              "4  1952  2.265  0.310  0.3559  1.802  0.574"
            ]
          },
          "metadata": {},
          "execution_count": 568
        }
      ]
    },
    {
      "cell_type": "code",
      "metadata": {
        "id": "7TasJoNUdgX0"
      },
      "source": [
        "#엑셀파일 저장 \n",
        "df.to_excel('my_data.xlsx')"
      ],
      "execution_count": null,
      "outputs": []
    },
    {
      "cell_type": "markdown",
      "metadata": {
        "id": "Wp1X1MosiBmU"
      },
      "source": [
        "### 타이타닉 전처리 실습 "
      ]
    },
    {
      "cell_type": "code",
      "metadata": {
        "id": "9UjLDzaWiAdi"
      },
      "source": [
        "# passenger Id : 컬럼 삭제\n",
        "# Name : 컬럼 삭제\n",
        "# Sex : Sex_Encoded로 인코딩. male:0, female:1\n",
        "# Age : 평균으로 결측치 처리. 0~1 normalization\n",
        "# SibSp : 컬럼 삭제\n",
        "# Parch : 컬럼 삭제\n",
        "# Ticket : 컬럼 삭제\n",
        "# Fare : standardization\n",
        "# Cabin : 컬럼 삭제 \n",
        "# Embarked : 결측치 데이터 삭제. Embarked_Encoded로 인코딩, c : 0, S : 1"
      ],
      "execution_count": null,
      "outputs": []
    },
    {
      "cell_type": "code",
      "metadata": {
        "colab": {
          "base_uri": "https://localhost:8080/",
          "height": 206
        },
        "id": "myoUI_4jiKT5",
        "outputId": "2261753d-07af-4d46-ddbd-5d023b5ddad1"
      },
      "source": [
        "df = pd.read_csv('titanic.csv')\n",
        "df.head(5)"
      ],
      "execution_count": null,
      "outputs": [
        {
          "output_type": "execute_result",
          "data": {
            "text/html": [
              "<div>\n",
              "<style scoped>\n",
              "    .dataframe tbody tr th:only-of-type {\n",
              "        vertical-align: middle;\n",
              "    }\n",
              "\n",
              "    .dataframe tbody tr th {\n",
              "        vertical-align: top;\n",
              "    }\n",
              "\n",
              "    .dataframe thead th {\n",
              "        text-align: right;\n",
              "    }\n",
              "</style>\n",
              "<table border=\"1\" class=\"dataframe\">\n",
              "  <thead>\n",
              "    <tr style=\"text-align: right;\">\n",
              "      <th></th>\n",
              "      <th>PassengerId</th>\n",
              "      <th>Survived</th>\n",
              "      <th>Pclass</th>\n",
              "      <th>Name</th>\n",
              "      <th>Sex</th>\n",
              "      <th>Age</th>\n",
              "      <th>SibSp</th>\n",
              "      <th>Parch</th>\n",
              "      <th>Ticket</th>\n",
              "      <th>Fare</th>\n",
              "      <th>Cabin</th>\n",
              "      <th>Embarked</th>\n",
              "    </tr>\n",
              "  </thead>\n",
              "  <tbody>\n",
              "    <tr>\n",
              "      <th>0</th>\n",
              "      <td>1</td>\n",
              "      <td>0</td>\n",
              "      <td>3</td>\n",
              "      <td>Braund, Mr. Owen Harris</td>\n",
              "      <td>male</td>\n",
              "      <td>22.0</td>\n",
              "      <td>1</td>\n",
              "      <td>0</td>\n",
              "      <td>A/5 21171</td>\n",
              "      <td>7.2500</td>\n",
              "      <td>NaN</td>\n",
              "      <td>S</td>\n",
              "    </tr>\n",
              "    <tr>\n",
              "      <th>1</th>\n",
              "      <td>2</td>\n",
              "      <td>1</td>\n",
              "      <td>1</td>\n",
              "      <td>Cumings, Mrs. John Bradley (Florence Briggs Th...</td>\n",
              "      <td>female</td>\n",
              "      <td>38.0</td>\n",
              "      <td>1</td>\n",
              "      <td>0</td>\n",
              "      <td>PC 17599</td>\n",
              "      <td>71.2833</td>\n",
              "      <td>C85</td>\n",
              "      <td>C</td>\n",
              "    </tr>\n",
              "    <tr>\n",
              "      <th>2</th>\n",
              "      <td>3</td>\n",
              "      <td>1</td>\n",
              "      <td>3</td>\n",
              "      <td>Heikkinen, Miss. Laina</td>\n",
              "      <td>female</td>\n",
              "      <td>26.0</td>\n",
              "      <td>0</td>\n",
              "      <td>0</td>\n",
              "      <td>STON/O2. 3101282</td>\n",
              "      <td>7.9250</td>\n",
              "      <td>NaN</td>\n",
              "      <td>S</td>\n",
              "    </tr>\n",
              "    <tr>\n",
              "      <th>3</th>\n",
              "      <td>4</td>\n",
              "      <td>1</td>\n",
              "      <td>1</td>\n",
              "      <td>Futrelle, Mrs. Jacques Heath (Lily May Peel)</td>\n",
              "      <td>female</td>\n",
              "      <td>35.0</td>\n",
              "      <td>1</td>\n",
              "      <td>0</td>\n",
              "      <td>113803</td>\n",
              "      <td>53.1000</td>\n",
              "      <td>C123</td>\n",
              "      <td>S</td>\n",
              "    </tr>\n",
              "    <tr>\n",
              "      <th>4</th>\n",
              "      <td>5</td>\n",
              "      <td>0</td>\n",
              "      <td>3</td>\n",
              "      <td>Allen, Mr. William Henry</td>\n",
              "      <td>male</td>\n",
              "      <td>35.0</td>\n",
              "      <td>0</td>\n",
              "      <td>0</td>\n",
              "      <td>373450</td>\n",
              "      <td>8.0500</td>\n",
              "      <td>NaN</td>\n",
              "      <td>S</td>\n",
              "    </tr>\n",
              "  </tbody>\n",
              "</table>\n",
              "</div>"
            ],
            "text/plain": [
              "   PassengerId  Survived  Pclass  ...     Fare Cabin  Embarked\n",
              "0            1         0       3  ...   7.2500   NaN         S\n",
              "1            2         1       1  ...  71.2833   C85         C\n",
              "2            3         1       3  ...   7.9250   NaN         S\n",
              "3            4         1       1  ...  53.1000  C123         S\n",
              "4            5         0       3  ...   8.0500   NaN         S\n",
              "\n",
              "[5 rows x 12 columns]"
            ]
          },
          "metadata": {},
          "execution_count": 572
        }
      ]
    },
    {
      "cell_type": "code",
      "metadata": {
        "id": "0zxPvzseiLFm"
      },
      "source": [
        "# 컬럼삭제 : passenger, Name, SibSp, Parch, Ticken, Cabin \n",
        "df.drop(columns = ['PassengerId','Name','SibSp','Parch','Ticket','Cabin'],inplace = True)"
      ],
      "execution_count": null,
      "outputs": []
    },
    {
      "cell_type": "code",
      "metadata": {
        "id": "E4IfefhJisom"
      },
      "source": [
        "# Sex : Sex_Encoded로 인코딩. male:0, female:1\n",
        "category_map ={'male':0,'female':1}\n",
        "df['Sex_code'] = df['Sex'].map(category_map)"
      ],
      "execution_count": null,
      "outputs": []
    },
    {
      "cell_type": "code",
      "metadata": {
        "colab": {
          "base_uri": "https://localhost:8080/"
        },
        "id": "IBPYZuVPjLHX",
        "outputId": "fbffabff-ba69-4cba-c2f6-ea45785719c7"
      },
      "source": [
        "# Age : 평균으로 결측치 처리. 0~1 normalization\n",
        "df.loc[df.Age.isnull(),'Age'] = df.Age[df.Age.notnull()].mean()\n",
        "max = df.Age.max()\n",
        "min = df.Age.min()\n",
        "df['Age_normalized'] = (df.Age-min) / (max-min)\n",
        "print(df)"
      ],
      "execution_count": null,
      "outputs": [
        {
          "output_type": "stream",
          "name": "stdout",
          "text": [
            "     PassengerId  Survived  Pclass  ... Cabin Embarked  Age_normalized\n",
            "0              1         0       3  ...   NaN        S        0.271174\n",
            "1              2         1       1  ...   C85        C        0.472229\n",
            "2              3         1       3  ...   NaN        S        0.321438\n",
            "3              4         1       1  ...  C123        S        0.434531\n",
            "4              5         0       3  ...   NaN        S        0.434531\n",
            "..           ...       ...     ...  ...   ...      ...             ...\n",
            "886          887         0       2  ...   NaN        S        0.334004\n",
            "887          888         1       1  ...   B42        S        0.233476\n",
            "888          889         0       3  ...   NaN        S        0.367921\n",
            "889          890         1       1  ...  C148        C        0.321438\n",
            "890          891         0       3  ...   NaN        Q        0.396833\n",
            "\n",
            "[891 rows x 13 columns]\n"
          ]
        }
      ]
    },
    {
      "cell_type": "code",
      "metadata": {
        "colab": {
          "base_uri": "https://localhost:8080/"
        },
        "id": "zLuPrpQdjoeS",
        "outputId": "7f1b9b70-3361-40e9-d07b-e5e89e688f7d"
      },
      "source": [
        "#Fare : 150 넘는 것은 150으로 치환 후 standardization \n",
        "df.loc[df.Fare > 150,'Fare'] = 150\n",
        "mean = df.Fare.mean()\n",
        "std = df.Fare.std()\n",
        "df['Age_standardization'] = (df.Age-mean) / std\n",
        "print(df)"
      ],
      "execution_count": null,
      "outputs": [
        {
          "output_type": "stream",
          "name": "stdout",
          "text": [
            "     Survived  Pclass  ... Age_standardization  Embarked_Encoded\n",
            "0           0       3  ...           -0.209441                 1\n",
            "1           1       1  ...            0.260190                 0\n",
            "2           1       3  ...           -0.092033                 1\n",
            "3           1       1  ...            0.172135                 1\n",
            "4           0       3  ...            0.172135                 1\n",
            "..        ...     ...  ...                 ...               ...\n",
            "886         0       2  ...           -0.062681                 1\n",
            "887         1       1  ...           -0.297497                 1\n",
            "888         0       3  ...            0.016543                 1\n",
            "889         1       1  ...           -0.092033                 0\n",
            "890         0       3  ...            0.084079                 2\n",
            "\n",
            "[889 rows x 9 columns]\n"
          ]
        }
      ]
    },
    {
      "cell_type": "code",
      "metadata": {
        "id": "pf9lbtEjj4Jh"
      },
      "source": [
        "# Embarked : 결측치 데이터 삭제. Embarked_Encoded로 인코딩, c : 0, S : 1\n",
        "#df.dropna()\n",
        "df.drop(df.loc[df.Embarked.isnull()].index,inplace = True)\n",
        "df.isnull().sum()\n",
        "#Embarked_Encoded로 카테고리화 (인코딩) \n",
        "category_map = {'C':0,'S':1,'Q':2}\n",
        "df['Embarked_Encoded'] = df['Embarked'].map(category_map)\n",
        "print(df)"
      ],
      "execution_count": null,
      "outputs": []
    },
    {
      "cell_type": "code",
      "metadata": {
        "colab": {
          "base_uri": "https://localhost:8080/",
          "height": 424
        },
        "id": "9nGeaiGBmeAR",
        "outputId": "eeae7db0-0d74-43c4-e0f1-7e35d807221b"
      },
      "source": [
        "df"
      ],
      "execution_count": null,
      "outputs": [
        {
          "output_type": "execute_result",
          "data": {
            "text/html": [
              "<div>\n",
              "<style scoped>\n",
              "    .dataframe tbody tr th:only-of-type {\n",
              "        vertical-align: middle;\n",
              "    }\n",
              "\n",
              "    .dataframe tbody tr th {\n",
              "        vertical-align: top;\n",
              "    }\n",
              "\n",
              "    .dataframe thead th {\n",
              "        text-align: right;\n",
              "    }\n",
              "</style>\n",
              "<table border=\"1\" class=\"dataframe\">\n",
              "  <thead>\n",
              "    <tr style=\"text-align: right;\">\n",
              "      <th></th>\n",
              "      <th>Survived</th>\n",
              "      <th>Pclass</th>\n",
              "      <th>Sex</th>\n",
              "      <th>Age</th>\n",
              "      <th>Fare</th>\n",
              "      <th>Embarked</th>\n",
              "      <th>Age_normalized</th>\n",
              "      <th>Age_standardization</th>\n",
              "      <th>Embarked_Encoded</th>\n",
              "      <th>Sex_code</th>\n",
              "    </tr>\n",
              "  </thead>\n",
              "  <tbody>\n",
              "    <tr>\n",
              "      <th>0</th>\n",
              "      <td>0</td>\n",
              "      <td>3</td>\n",
              "      <td>male</td>\n",
              "      <td>22.000000</td>\n",
              "      <td>7.2500</td>\n",
              "      <td>S</td>\n",
              "      <td>0.271174</td>\n",
              "      <td>-0.209441</td>\n",
              "      <td>1</td>\n",
              "      <td>0</td>\n",
              "    </tr>\n",
              "    <tr>\n",
              "      <th>1</th>\n",
              "      <td>1</td>\n",
              "      <td>1</td>\n",
              "      <td>female</td>\n",
              "      <td>38.000000</td>\n",
              "      <td>71.2833</td>\n",
              "      <td>C</td>\n",
              "      <td>0.472229</td>\n",
              "      <td>0.260190</td>\n",
              "      <td>0</td>\n",
              "      <td>1</td>\n",
              "    </tr>\n",
              "    <tr>\n",
              "      <th>2</th>\n",
              "      <td>1</td>\n",
              "      <td>3</td>\n",
              "      <td>female</td>\n",
              "      <td>26.000000</td>\n",
              "      <td>7.9250</td>\n",
              "      <td>S</td>\n",
              "      <td>0.321438</td>\n",
              "      <td>-0.092033</td>\n",
              "      <td>1</td>\n",
              "      <td>1</td>\n",
              "    </tr>\n",
              "    <tr>\n",
              "      <th>3</th>\n",
              "      <td>1</td>\n",
              "      <td>1</td>\n",
              "      <td>female</td>\n",
              "      <td>35.000000</td>\n",
              "      <td>53.1000</td>\n",
              "      <td>S</td>\n",
              "      <td>0.434531</td>\n",
              "      <td>0.172135</td>\n",
              "      <td>1</td>\n",
              "      <td>1</td>\n",
              "    </tr>\n",
              "    <tr>\n",
              "      <th>4</th>\n",
              "      <td>0</td>\n",
              "      <td>3</td>\n",
              "      <td>male</td>\n",
              "      <td>35.000000</td>\n",
              "      <td>8.0500</td>\n",
              "      <td>S</td>\n",
              "      <td>0.434531</td>\n",
              "      <td>0.172135</td>\n",
              "      <td>1</td>\n",
              "      <td>0</td>\n",
              "    </tr>\n",
              "    <tr>\n",
              "      <th>...</th>\n",
              "      <td>...</td>\n",
              "      <td>...</td>\n",
              "      <td>...</td>\n",
              "      <td>...</td>\n",
              "      <td>...</td>\n",
              "      <td>...</td>\n",
              "      <td>...</td>\n",
              "      <td>...</td>\n",
              "      <td>...</td>\n",
              "      <td>...</td>\n",
              "    </tr>\n",
              "    <tr>\n",
              "      <th>886</th>\n",
              "      <td>0</td>\n",
              "      <td>2</td>\n",
              "      <td>male</td>\n",
              "      <td>27.000000</td>\n",
              "      <td>13.0000</td>\n",
              "      <td>S</td>\n",
              "      <td>0.334004</td>\n",
              "      <td>-0.062681</td>\n",
              "      <td>1</td>\n",
              "      <td>0</td>\n",
              "    </tr>\n",
              "    <tr>\n",
              "      <th>887</th>\n",
              "      <td>1</td>\n",
              "      <td>1</td>\n",
              "      <td>female</td>\n",
              "      <td>19.000000</td>\n",
              "      <td>30.0000</td>\n",
              "      <td>S</td>\n",
              "      <td>0.233476</td>\n",
              "      <td>-0.297497</td>\n",
              "      <td>1</td>\n",
              "      <td>1</td>\n",
              "    </tr>\n",
              "    <tr>\n",
              "      <th>888</th>\n",
              "      <td>0</td>\n",
              "      <td>3</td>\n",
              "      <td>female</td>\n",
              "      <td>29.699118</td>\n",
              "      <td>23.4500</td>\n",
              "      <td>S</td>\n",
              "      <td>0.367921</td>\n",
              "      <td>0.016543</td>\n",
              "      <td>1</td>\n",
              "      <td>1</td>\n",
              "    </tr>\n",
              "    <tr>\n",
              "      <th>889</th>\n",
              "      <td>1</td>\n",
              "      <td>1</td>\n",
              "      <td>male</td>\n",
              "      <td>26.000000</td>\n",
              "      <td>30.0000</td>\n",
              "      <td>C</td>\n",
              "      <td>0.321438</td>\n",
              "      <td>-0.092033</td>\n",
              "      <td>0</td>\n",
              "      <td>0</td>\n",
              "    </tr>\n",
              "    <tr>\n",
              "      <th>890</th>\n",
              "      <td>0</td>\n",
              "      <td>3</td>\n",
              "      <td>male</td>\n",
              "      <td>32.000000</td>\n",
              "      <td>7.7500</td>\n",
              "      <td>Q</td>\n",
              "      <td>0.396833</td>\n",
              "      <td>0.084079</td>\n",
              "      <td>2</td>\n",
              "      <td>0</td>\n",
              "    </tr>\n",
              "  </tbody>\n",
              "</table>\n",
              "<p>889 rows × 10 columns</p>\n",
              "</div>"
            ],
            "text/plain": [
              "     Survived  Pclass     Sex  ...  Age_standardization  Embarked_Encoded Sex_code\n",
              "0           0       3    male  ...            -0.209441                 1        0\n",
              "1           1       1  female  ...             0.260190                 0        1\n",
              "2           1       3  female  ...            -0.092033                 1        1\n",
              "3           1       1  female  ...             0.172135                 1        1\n",
              "4           0       3    male  ...             0.172135                 1        0\n",
              "..        ...     ...     ...  ...                  ...               ...      ...\n",
              "886         0       2    male  ...            -0.062681                 1        0\n",
              "887         1       1  female  ...            -0.297497                 1        1\n",
              "888         0       3  female  ...             0.016543                 1        1\n",
              "889         1       1    male  ...            -0.092033                 0        0\n",
              "890         0       3    male  ...             0.084079                 2        0\n",
              "\n",
              "[889 rows x 10 columns]"
            ]
          },
          "metadata": {},
          "execution_count": 623
        }
      ]
    },
    {
      "cell_type": "markdown",
      "metadata": {
        "id": "hjIkTmJyxjyV"
      },
      "source": [
        "#### 선생님 답안 "
      ]
    },
    {
      "cell_type": "code",
      "metadata": {
        "id": "-NLkrvUkxMt5"
      },
      "source": [
        "df = pd.read_csv(\"titanic.csv\")\n",
        "\n",
        "# 불필요 컬럼 삭제\n",
        "df.drop(columns=[\"PassengerId\", \"Name\", \"SibSp\", \"Parch\", \"Ticket\", \"Cabin\"], \n",
        "        inplace=True)\n",
        "\n",
        "# Sex 컬럼 인코딩\n",
        "sex_category_map = { \"male\":0, \"female\":1 }\n",
        "df['Sex_Code'] = df['Sex'].map(sex_category_map)\n",
        "\n",
        "# Age 컬럼 결측치 처리\n",
        "age_mean = df.loc[df.Age.notnull()].Age.mean()\n",
        "df.loc[df.Age.isnull(), \"Age\"] = age_mean\n",
        "\n",
        "# Embarked 결측치 데이터 삭제\n",
        "df.dropna(inplace=True)\n",
        "\n",
        "# Embarked 컬럼 인코딩\n",
        "embarked_category_map = { \"C\":0, \"S\":1, \"Q\":2 }\n",
        "df['Embarked_Code'] = df['Embarked'].map(embarked_category_map)\n",
        "\n",
        "# Age 컬럼 normalization\n",
        "df['Age_Normalized'] = ( df.Age - df.Age.min()) / ( df.Age.max() - df.Age.min())\n",
        "\n",
        "# Fare 컬럼 150 넘는 값 150으로 처리\n",
        "FARE_MAX = 150\n",
        "df['Fare_Limited'] = df.Fare\n",
        "df.loc[df.Fare_Limited > FARE_MAX, 'Fare_Limited'] = FARE_MAX\n",
        "\n",
        "# Fare_Limited 컬럼 standardication\n",
        "df.Fare_Limited = ( df.Fare_Limited - df.Fare_Limited.mean() ) / df.Fare_Limited.std()\n",
        "\n",
        "# 원 컬럼 삭제\n",
        "df.drop(columns=[\"Sex\", \"Age\", \"Fare\", \"Embarked\"], inplace=True)\n",
        "df.head()\n",
        "\n"
      ],
      "execution_count": null,
      "outputs": []
    }
  ]
}